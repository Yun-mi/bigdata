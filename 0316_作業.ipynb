{
  "nbformat": 4,
  "nbformat_minor": 0,
  "metadata": {
    "colab": {
      "name": "0316 作業.ipynb",
      "provenance": [],
      "collapsed_sections": [],
      "include_colab_link": true
    },
    "kernelspec": {
      "name": "ir",
      "display_name": "R"
    }
  },
  "cells": [
    {
      "cell_type": "markdown",
      "metadata": {
        "id": "view-in-github",
        "colab_type": "text"
      },
      "source": [
        "<a href=\"https://colab.research.google.com/github/Yun-mi/bigdata/blob/main/0316_%E4%BD%9C%E6%A5%AD.ipynb\" target=\"_parent\"><img src=\"https://colab.research.google.com/assets/colab-badge.svg\" alt=\"Open In Colab\"/></a>"
      ]
    },
    {
      "cell_type": "code",
      "metadata": {
        "id": "5T_-fBrdQXjb",
        "colab": {
          "base_uri": "https://localhost:8080/"
        },
        "outputId": "d2b00122-3766-41c2-9794-3370b657c124"
      },
      "source": [
        "#安裝jsonlite\r\n",
        "install.packages(\"jsonlite\")"
      ],
      "execution_count": 13,
      "outputs": [
        {
          "output_type": "stream",
          "text": [
            "Installing package into ‘/usr/local/lib/R/site-library’\n",
            "(as ‘lib’ is unspecified)\n",
            "\n"
          ],
          "name": "stderr"
        }
      ]
    },
    {
      "cell_type": "code",
      "metadata": {
        "id": "3odJ9WaFQI7w"
      },
      "source": [
        "#載入json套件\r\n",
        "library(\"jsonlite\")"
      ],
      "execution_count": 14,
      "outputs": []
    },
    {
      "cell_type": "code",
      "metadata": {
        "colab": {
          "base_uri": "https://localhost:8080/"
        },
        "id": "tqI543zbRxTs",
        "outputId": "72954b63-56e2-4998-a576-d7c0122d0312"
      },
      "source": [
        "#讀取opendata資料(水庫水情資料),存到Data\r\n",
        "Data <- jsonlite::fromJSON(\"https://data.wra.gov.tw/Service/OpenData.aspx?format=json&id=1602CA19-B224-4CC3-AA31-11B1B124530F\")\r\n",
        "str(Data)"
      ],
      "execution_count": 63,
      "outputs": [
        {
          "output_type": "stream",
          "text": [
            "List of 1\n",
            " $ ReservoirConditionData_OPENDATA:'data.frame':\t347 obs. of  16 variables:\n",
            "  ..$ AccumulateRainfallInCatchment: chr [1:347] \"\" \"\" \"\" \"\" ...\n",
            "  ..$ DesiltingTunnelOutflow       : chr [1:347] \"\" \"\" \"\" \"\" ...\n",
            "  ..$ DrainageTunnelOutflow        : chr [1:347] \"\" \"\" \"\" \"\" ...\n",
            "  ..$ EffectiveWaterStorageCapacity: chr [1:347] \"28970.03\" \"28961.37\" \"28944.05\" \"28935.4\" ...\n",
            "  ..$ InflowDischarge              : chr [1:347] \"10.54472\" \"13.18334\" \"9.803642\" \"12.44353\" ...\n",
            "  ..$ ObservationTime              : chr [1:347] \"2021-03-16T19:00:00\" \"2021-03-16T20:00:00\" \"2021-03-16T21:00:00\" \"2021-03-16T22:00:00\" ...\n",
            "  ..$ OthersOutflow                : chr [1:347] \"\" \"\" \"\" \"\" ...\n",
            "  ..$ PowerOutletOutflow           : chr [1:347] \"46.0965\" \"46.09359\" \"46.08776\" \"46.08485\" ...\n",
            "  ..$ PredeterminedCrossFlow       : chr [1:347] \"\" \"\" \"\" \"\" ...\n",
            "  ..$ PredeterminedOutflowTime     : chr [1:347] \"\" \"\" \"\" \"\" ...\n",
            "  ..$ ReservoirIdentifier          : chr [1:347] \"10205\" \"10205\" \"10205\" \"10205\" ...\n",
            "  ..$ SpillwayOutflow              : chr [1:347] \"\" \"\" \"\" \"\" ...\n",
            "  ..$ StatusType                   : chr [1:347] \"\" \"\" \"\" \"\" ...\n",
            "  ..$ TotalOutflow                 : chr [1:347] \"46.0965\" \"46.09359\" \"46.08776\" \"46.08485\" ...\n",
            "  ..$ WaterDraw                    : chr [1:347] \"\" \"\" \"\" \"\" ...\n",
            "  ..$ WaterLevel                   : chr [1:347] \"164.93\" \"164.92\" \"164.9\" \"164.89\" ...\n"
          ],
          "name": "stdout"
        }
      ]
    },
    {
      "cell_type": "code",
      "metadata": {
        "colab": {
          "base_uri": "https://localhost:8080/",
          "height": 405
        },
        "id": "vXZft86GZ71T",
        "outputId": "b7774a63-ed8c-44c3-8b60-41c2cbb2c37e"
      },
      "source": [
        "#擷取ReservoirConditionData_OPENDATA內容\r\n",
        "head(Data$ReservoirConditionData_OPENDATA)"
      ],
      "execution_count": 64,
      "outputs": [
        {
          "output_type": "display_data",
          "data": {
            "text/plain": [
              "  AccumulateRainfallInCatchment DesiltingTunnelOutflow DrainageTunnelOutflow\n",
              "1                                                                           \n",
              "2                                                                           \n",
              "3                                                                           \n",
              "4                                                                           \n",
              "5                                                                           \n",
              "6                                                                           \n",
              "  EffectiveWaterStorageCapacity InflowDischarge ObservationTime    \n",
              "1 28970.03                      10.54472        2021-03-16T19:00:00\n",
              "2 28961.37                      13.18334        2021-03-16T20:00:00\n",
              "3 28944.05                      9.803642        2021-03-16T21:00:00\n",
              "4 28935.4                       12.44353        2021-03-16T22:00:00\n",
              "5 28918.08                      12.07288        2021-03-16T23:00:00\n",
              "6 28909.43                      13.01555        2021-03-17T00:00:00\n",
              "  OthersOutflow PowerOutletOutflow PredeterminedCrossFlow\n",
              "1               46.0965                                  \n",
              "2               46.09359                                 \n",
              "3               46.08776                                 \n",
              "4               46.08485                                 \n",
              "5               46.07902                                 \n",
              "6               46.07611                                 \n",
              "  PredeterminedOutflowTime ReservoirIdentifier SpillwayOutflow StatusType\n",
              "1                          10205                                         \n",
              "2                          10205                                         \n",
              "3                          10205                                         \n",
              "4                          10205                                         \n",
              "5                          10205                                         \n",
              "6                          10205                                         \n",
              "  TotalOutflow WaterDraw WaterLevel\n",
              "1 46.0965                164.93    \n",
              "2 46.09359               164.92    \n",
              "3 46.08776               164.9     \n",
              "4 46.08485               164.89    \n",
              "5 46.07902               164.87    \n",
              "6 46.07611               164.86    "
            ],
            "text/latex": "A data.frame: 6 × 16\n\\begin{tabular}{r|llllllllllllllll}\n  & AccumulateRainfallInCatchment & DesiltingTunnelOutflow & DrainageTunnelOutflow & EffectiveWaterStorageCapacity & InflowDischarge & ObservationTime & OthersOutflow & PowerOutletOutflow & PredeterminedCrossFlow & PredeterminedOutflowTime & ReservoirIdentifier & SpillwayOutflow & StatusType & TotalOutflow & WaterDraw & WaterLevel\\\\\n  & <chr> & <chr> & <chr> & <chr> & <chr> & <chr> & <chr> & <chr> & <chr> & <chr> & <chr> & <chr> & <chr> & <chr> & <chr> & <chr>\\\\\n\\hline\n\t1 &  &  &  & 28970.03 & 10.54472 & 2021-03-16T19:00:00 &  & 46.0965  &  &  & 10205 &  &  & 46.0965  &  & 164.93\\\\\n\t2 &  &  &  & 28961.37 & 13.18334 & 2021-03-16T20:00:00 &  & 46.09359 &  &  & 10205 &  &  & 46.09359 &  & 164.92\\\\\n\t3 &  &  &  & 28944.05 & 9.803642 & 2021-03-16T21:00:00 &  & 46.08776 &  &  & 10205 &  &  & 46.08776 &  & 164.9 \\\\\n\t4 &  &  &  & 28935.4  & 12.44353 & 2021-03-16T22:00:00 &  & 46.08485 &  &  & 10205 &  &  & 46.08485 &  & 164.89\\\\\n\t5 &  &  &  & 28918.08 & 12.07288 & 2021-03-16T23:00:00 &  & 46.07902 &  &  & 10205 &  &  & 46.07902 &  & 164.87\\\\\n\t6 &  &  &  & 28909.43 & 13.01555 & 2021-03-17T00:00:00 &  & 46.07611 &  &  & 10205 &  &  & 46.07611 &  & 164.86\\\\\n\\end{tabular}\n",
            "text/markdown": "\nA data.frame: 6 × 16\n\n| <!--/--> | AccumulateRainfallInCatchment &lt;chr&gt; | DesiltingTunnelOutflow &lt;chr&gt; | DrainageTunnelOutflow &lt;chr&gt; | EffectiveWaterStorageCapacity &lt;chr&gt; | InflowDischarge &lt;chr&gt; | ObservationTime &lt;chr&gt; | OthersOutflow &lt;chr&gt; | PowerOutletOutflow &lt;chr&gt; | PredeterminedCrossFlow &lt;chr&gt; | PredeterminedOutflowTime &lt;chr&gt; | ReservoirIdentifier &lt;chr&gt; | SpillwayOutflow &lt;chr&gt; | StatusType &lt;chr&gt; | TotalOutflow &lt;chr&gt; | WaterDraw &lt;chr&gt; | WaterLevel &lt;chr&gt; |\n|---|---|---|---|---|---|---|---|---|---|---|---|---|---|---|---|---|\n| 1 | <!----> | <!----> | <!----> | 28970.03 | 10.54472 | 2021-03-16T19:00:00 | <!----> | 46.0965  | <!----> | <!----> | 10205 | <!----> | <!----> | 46.0965  | <!----> | 164.93 |\n| 2 | <!----> | <!----> | <!----> | 28961.37 | 13.18334 | 2021-03-16T20:00:00 | <!----> | 46.09359 | <!----> | <!----> | 10205 | <!----> | <!----> | 46.09359 | <!----> | 164.92 |\n| 3 | <!----> | <!----> | <!----> | 28944.05 | 9.803642 | 2021-03-16T21:00:00 | <!----> | 46.08776 | <!----> | <!----> | 10205 | <!----> | <!----> | 46.08776 | <!----> | 164.9  |\n| 4 | <!----> | <!----> | <!----> | 28935.4  | 12.44353 | 2021-03-16T22:00:00 | <!----> | 46.08485 | <!----> | <!----> | 10205 | <!----> | <!----> | 46.08485 | <!----> | 164.89 |\n| 5 | <!----> | <!----> | <!----> | 28918.08 | 12.07288 | 2021-03-16T23:00:00 | <!----> | 46.07902 | <!----> | <!----> | 10205 | <!----> | <!----> | 46.07902 | <!----> | 164.87 |\n| 6 | <!----> | <!----> | <!----> | 28909.43 | 13.01555 | 2021-03-17T00:00:00 | <!----> | 46.07611 | <!----> | <!----> | 10205 | <!----> | <!----> | 46.07611 | <!----> | 164.86 |\n\n",
            "text/html": [
              "<table class=\"dataframe\">\n",
              "<caption>A data.frame: 6 × 16</caption>\n",
              "<thead>\n",
              "\t<tr><th></th><th scope=col>AccumulateRainfallInCatchment</th><th scope=col>DesiltingTunnelOutflow</th><th scope=col>DrainageTunnelOutflow</th><th scope=col>EffectiveWaterStorageCapacity</th><th scope=col>InflowDischarge</th><th scope=col>ObservationTime</th><th scope=col>OthersOutflow</th><th scope=col>PowerOutletOutflow</th><th scope=col>PredeterminedCrossFlow</th><th scope=col>PredeterminedOutflowTime</th><th scope=col>ReservoirIdentifier</th><th scope=col>SpillwayOutflow</th><th scope=col>StatusType</th><th scope=col>TotalOutflow</th><th scope=col>WaterDraw</th><th scope=col>WaterLevel</th></tr>\n",
              "\t<tr><th></th><th scope=col>&lt;chr&gt;</th><th scope=col>&lt;chr&gt;</th><th scope=col>&lt;chr&gt;</th><th scope=col>&lt;chr&gt;</th><th scope=col>&lt;chr&gt;</th><th scope=col>&lt;chr&gt;</th><th scope=col>&lt;chr&gt;</th><th scope=col>&lt;chr&gt;</th><th scope=col>&lt;chr&gt;</th><th scope=col>&lt;chr&gt;</th><th scope=col>&lt;chr&gt;</th><th scope=col>&lt;chr&gt;</th><th scope=col>&lt;chr&gt;</th><th scope=col>&lt;chr&gt;</th><th scope=col>&lt;chr&gt;</th><th scope=col>&lt;chr&gt;</th></tr>\n",
              "</thead>\n",
              "<tbody>\n",
              "\t<tr><th scope=row>1</th><td></td><td></td><td></td><td>28970.03</td><td>10.54472</td><td>2021-03-16T19:00:00</td><td></td><td>46.0965 </td><td></td><td></td><td>10205</td><td></td><td></td><td>46.0965 </td><td></td><td>164.93</td></tr>\n",
              "\t<tr><th scope=row>2</th><td></td><td></td><td></td><td>28961.37</td><td>13.18334</td><td>2021-03-16T20:00:00</td><td></td><td>46.09359</td><td></td><td></td><td>10205</td><td></td><td></td><td>46.09359</td><td></td><td>164.92</td></tr>\n",
              "\t<tr><th scope=row>3</th><td></td><td></td><td></td><td>28944.05</td><td>9.803642</td><td>2021-03-16T21:00:00</td><td></td><td>46.08776</td><td></td><td></td><td>10205</td><td></td><td></td><td>46.08776</td><td></td><td>164.9 </td></tr>\n",
              "\t<tr><th scope=row>4</th><td></td><td></td><td></td><td>28935.4 </td><td>12.44353</td><td>2021-03-16T22:00:00</td><td></td><td>46.08485</td><td></td><td></td><td>10205</td><td></td><td></td><td>46.08485</td><td></td><td>164.89</td></tr>\n",
              "\t<tr><th scope=row>5</th><td></td><td></td><td></td><td>28918.08</td><td>12.07288</td><td>2021-03-16T23:00:00</td><td></td><td>46.07902</td><td></td><td></td><td>10205</td><td></td><td></td><td>46.07902</td><td></td><td>164.87</td></tr>\n",
              "\t<tr><th scope=row>6</th><td></td><td></td><td></td><td>28909.43</td><td>13.01555</td><td>2021-03-17T00:00:00</td><td></td><td>46.07611</td><td></td><td></td><td>10205</td><td></td><td></td><td>46.07611</td><td></td><td>164.86</td></tr>\n",
              "</tbody>\n",
              "</table>\n"
            ]
          },
          "metadata": {
            "tags": []
          }
        }
      ]
    },
    {
      "cell_type": "code",
      "metadata": {
        "colab": {
          "base_uri": "https://localhost:8080/",
          "height": 69
        },
        "id": "R0nxwQqTSKqz",
        "outputId": "cd6185f8-b62e-47eb-acc4-bf9cabe547c9"
      },
      "source": [
        "#AccumulateRainfallInCatchment\r\n",
        "table(Data$ReservoirConditionData_OPENDATA$AccumulateRainfallInCatchment)"
      ],
      "execution_count": 65,
      "outputs": [
        {
          "output_type": "display_data",
          "data": {
            "text/plain": [
              "\n",
              "      0 \n",
              "195 152 "
            ]
          },
          "metadata": {
            "tags": []
          }
        }
      ]
    },
    {
      "cell_type": "code",
      "metadata": {
        "colab": {
          "base_uri": "https://localhost:8080/",
          "height": 416
        },
        "id": "YpbPkeEHSfhm",
        "outputId": "2d5b6319-8d2e-4d87-ff46-0d913a2a56fe"
      },
      "source": [
        "#InflowDischarge\r\n",
        "table(Data$ReservoirConditionData_OPENDATA$InflowDischarge)"
      ],
      "execution_count": 66,
      "outputs": [
        {
          "output_type": "display_data",
          "data": {
            "text/plain": [
              "\n",
              "                0     0.01     0.02     0.03     0.04     0.07     0.08 \n",
              "     200       50        1        2        3        1        2        1 \n",
              "    0.09      0.1     0.21     0.23       10    10.33    10.44 10.54472 \n",
              "       1        1        2        1        1        1        1        1 \n",
              "10.75399 11.12452 11.49003 12.07288 12.44353 13.01555 13.01613  13.0211 \n",
              "       1        1        1        1        1        1        1        1 \n",
              "13.02214 13.02607 13.18334 13.39394    13.92    14.07       16       17 \n",
              "       1        1        1        1        1        1        2        1 \n",
              "   17.51    17.56     2.11    21.14    21.48    21.72    21.97    22.04 \n",
              "       1        1        1        1        1        1        1        1 \n",
              "   22.06    22.15    22.17    22.18    22.23     22.3    22.37    22.42 \n",
              "       1        1        1        1        1        1        1        1 \n",
              "   22.49     22.5    22.68    22.72    22.82    23.51    23.64    27.82 \n",
              "       1        1        3        1        1        1        1        1 \n",
              "       3 3.002222     3.44     3.47 3.945587 5.640783 6.007778 6.580398 \n",
              "       1        1        1        1        1        1        3        1 \n",
              "    6.97     8.08     8.23     8.51     8.59     8.67     8.71      8.8 \n",
              "       1        1        1        2        1        1        1        1 \n",
              "    8.82 8.851508     8.95     8.99 9.219019     9.29     9.35     9.45 \n",
              "       1        1        1        1        1        1        1        1 \n",
              "     9.6     9.65     9.66     9.68     9.79 9.803642     9.84     9.92 \n",
              "       1        1        1        1        1        1        1        1 "
            ]
          },
          "metadata": {
            "tags": []
          }
        }
      ]
    },
    {
      "cell_type": "code",
      "metadata": {
        "colab": {
          "base_uri": "https://localhost:8080/",
          "height": 1000
        },
        "id": "wnjtxXRESmBq",
        "outputId": "b6a9cfb9-cad9-405f-cc80-89c8f1f4cec0"
      },
      "source": [
        "#WaterLevel\r\n",
        "table(Data$ReservoirConditionData_OPENDATA$WaterLevel)"
      ],
      "execution_count": 67,
      "outputs": [
        {
          "output_type": "display_data",
          "data": {
            "text/plain": [
              "\n",
              "               0             0.58             0.86             1.55 \n",
              "               2                2                1                1 \n",
              "              10             10.1           102.47            12.19 \n",
              "               1                1                1                1 \n",
              "          120.35           120.36           120.37           120.38 \n",
              "               2                2                2                1 \n",
              "          120.39            120.4           120.41           120.42 \n",
              "               3                2                2                1 \n",
              "          120.43           120.44           120.45           120.46 \n",
              "               2                2                2                2 \n",
              "          1241.5             13.6           131.74           131.75 \n",
              "               1                1                1                3 \n",
              "          131.76           131.77           131.78           131.79 \n",
              "               4                4                1                3 \n",
              "           131.8           131.81           131.82           131.83 \n",
              "               2                2                2                1 \n",
              "          132.45          1334.15           136.84            14.38 \n",
              "               1                1                1                1 \n",
              "            14.5            15.64            15.71            15.85 \n",
              "               1                1                1                1 \n",
              "           15.86            15.87            15.88            16.98 \n",
              "              10               11                1                1 \n",
              "          164.81           164.82           164.83           164.85 \n",
              "               4                7                5                1 \n",
              "          164.86           164.87           164.89            164.9 \n",
              "               1                1                1                1 \n",
              "          164.92           164.93           168.14           196.22 \n",
              "               1                1                1                1 \n",
              "          196.23           196.25           196.26           196.28 \n",
              "               2                4                4                2 \n",
              "          196.29            196.3           196.31           196.33 \n",
              "               2                2                3                3 \n",
              "          199.45           199.46             2.05             2.23 \n",
              "               7               16                1                1 \n",
              "            2.82           207.77           207.96           207.97 \n",
              "               2                1                1                2 \n",
              "          207.98           207.99           208.01           208.03 \n",
              "               1                1                1                3 \n",
              "          208.04           208.05           208.07           208.08 \n",
              "               2                1                4                2 \n",
              "          208.09           208.11           208.13            22.42 \n",
              "               2                1                1                1 \n",
              "          228.82           228.83           228.84           228.85 \n",
              "               1                4                3                3 \n",
              "          228.86           228.87           228.91           228.95 \n",
              "               5                3                1                1 \n",
              "          228.99           229.03           262.12           262.14 \n",
              "               1                1                1                1 \n",
              "          262.16           262.18            262.2           262.23 \n",
              "               1                1                1                1 \n",
              "          262.24           262.26           262.28            262.3 \n",
              "               1                1                1                1 \n",
              "          262.32           262.34           262.36           262.38 \n",
              "               1                1                1                1 \n",
              "          262.39            262.4           262.41           262.42 \n",
              "               1                1                1                1 \n",
              "          262.44           262.45           262.47            27.54 \n",
              "               2                1                2                1 \n",
              "          271.39           271.41           271.42           271.43 \n",
              "               1                1                6                7 \n",
              "          271.44           271.45           271.46            28.91 \n",
              "               1                3                4                1 \n",
              "             3.2             3.23             3.59             3.65 \n",
              "               1                1                1                1 \n",
              "            3.66              3.8             30.3            33.65 \n",
              "               1                2                1                2 \n",
              "           33.66            33.67            33.68            33.69 \n",
              "               7                8                4                2 \n",
              "           36.13              4.4             4.61             4.63 \n",
              "               1                2                1                1 \n",
              "            4.66             4.86               44            44.07 \n",
              "               1                1                1                1 \n",
              "           44.14            442.4            48.28            48.29 \n",
              "               1                1                1                1 \n",
              "           52.36           551.11            57.06            57.96 \n",
              "               1                1                1                1 \n",
              "           57.97            57.98 57.9900016784668               58 \n",
              "               2                2                1                2 \n",
              "           58.01            58.02            58.03            58.04 \n",
              "               2                1                3                2 \n",
              "           58.05            58.06            58.07            58.08 \n",
              "               1                1                1                1 \n",
              "           58.09             58.1             6.51             6.55 \n",
              "               1                2                2                1 \n",
              "            6.98           603.34             66.8            69.16 \n",
              "               1                1                1                1 \n",
              "            7.35             7.73            72.08           737.94 \n",
              "               1                1                2                1 \n",
              "          746.45            84.77             9.43           942.04 \n",
              "               1                2                1                1 \n",
              "            97.7           985.04 \n",
              "               1                1 "
            ]
          },
          "metadata": {
            "tags": []
          }
        }
      ]
    },
    {
      "cell_type": "code",
      "metadata": {
        "colab": {
          "base_uri": "https://localhost:8080/",
          "height": 243
        },
        "id": "8tol8jtlSm0J",
        "outputId": "a9182f0b-c141-451b-e6ad-1a2a711ee1fd"
      },
      "source": [
        "#ObservationTime\r\n",
        "table(Data$ReservoirConditionData_OPENDATA$ObservationTime)"
      ],
      "execution_count": 68,
      "outputs": [
        {
          "output_type": "display_data",
          "data": {
            "text/plain": [
              "\n",
              "2021-03-16T19:00:00 2021-03-16T20:00:00 2021-03-16T21:00:00 2021-03-16T22:00:00 \n",
              "                 12                  12                  12                  12 \n",
              "2021-03-16T23:00:00 2021-03-17T00:00:00 2021-03-17T01:00:00 2021-03-17T02:00:00 \n",
              "                 12                  19                  12                  12 \n",
              "2021-03-17T03:00:00 2021-03-17T04:00:00 2021-03-17T05:00:00 2021-03-17T06:00:00 \n",
              "                 12                  12                  12                  12 \n",
              "2021-03-17T07:00:00 2021-03-17T08:00:00 2021-03-17T09:00:00 2021-03-17T10:00:00 \n",
              "                 39                  28                  25                  12 \n",
              "2021-03-17T11:00:00 2021-03-17T12:00:00 2021-03-17T13:00:00 2021-03-17T14:00:00 \n",
              "                 12                  12                  12                  12 \n",
              "2021-03-17T15:00:00 2021-03-17T16:00:00 2021-03-17T17:00:00 2021-03-18T07:00:00 \n",
              "                 12                  12                  12                   8 "
            ]
          },
          "metadata": {
            "tags": []
          }
        }
      ]
    }
  ]
}