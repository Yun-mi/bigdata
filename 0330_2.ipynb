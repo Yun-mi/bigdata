{
  "nbformat": 4,
  "nbformat_minor": 0,
  "metadata": {
    "colab": {
      "name": "0330 2.ipynb",
      "provenance": [],
      "collapsed_sections": [],
      "include_colab_link": true
    },
    "kernelspec": {
      "name": "ir",
      "display_name": "R"
    }
  },
  "cells": [
    {
      "cell_type": "markdown",
      "metadata": {
        "id": "view-in-github",
        "colab_type": "text"
      },
      "source": [
        "<a href=\"https://colab.research.google.com/github/Yun-mi/bigdata/blob/main/0330_2.ipynb\" target=\"_parent\"><img src=\"https://colab.research.google.com/assets/colab-badge.svg\" alt=\"Open In Colab\"/></a>"
      ]
    },
    {
      "cell_type": "code",
      "metadata": {
        "colab": {
          "base_uri": "https://localhost:8080/"
        },
        "id": "SpTjL-cuUJ4T",
        "outputId": "75d9c8be-2c81-4be8-ee44-1e28fa534613"
      },
      "source": [
        "install.packages(\"rJava\")"
      ],
      "execution_count": 1,
      "outputs": [
        {
          "output_type": "stream",
          "text": [
            "Installing package into ‘/usr/local/lib/R/site-library’\n",
            "(as ‘lib’ is unspecified)\n",
            "\n"
          ],
          "name": "stderr"
        }
      ]
    },
    {
      "cell_type": "code",
      "metadata": {
        "colab": {
          "base_uri": "https://localhost:8080/"
        },
        "id": "XoQE7P21URjh",
        "outputId": "ce1aaf8e-60f0-4408-f8f6-9a7044767397"
      },
      "source": [
        "install.packages(\"jiebaR\")"
      ],
      "execution_count": 2,
      "outputs": [
        {
          "output_type": "stream",
          "text": [
            "Installing package into ‘/usr/local/lib/R/site-library’\n",
            "(as ‘lib’ is unspecified)\n",
            "\n",
            "also installing the dependency ‘jiebaRD’\n",
            "\n",
            "\n"
          ],
          "name": "stderr"
        }
      ]
    },
    {
      "cell_type": "code",
      "metadata": {
        "colab": {
          "base_uri": "https://localhost:8080/"
        },
        "id": "qCYHb3n8UUw0",
        "outputId": "7bfbe780-2e59-481a-98e1-3dba0169be7a"
      },
      "source": [
        "install.packages(\"tmcn\")"
      ],
      "execution_count": 3,
      "outputs": [
        {
          "output_type": "stream",
          "text": [
            "Installing package into ‘/usr/local/lib/R/site-library’\n",
            "(as ‘lib’ is unspecified)\n",
            "\n"
          ],
          "name": "stderr"
        }
      ]
    },
    {
      "cell_type": "code",
      "metadata": {
        "colab": {
          "base_uri": "https://localhost:8080/"
        },
        "id": "jRrvS11MUh8V",
        "outputId": "c9e15768-c8ff-411c-83cf-df46a653209b"
      },
      "source": [
        "install.packages(\"dplyr\")"
      ],
      "execution_count": 4,
      "outputs": [
        {
          "output_type": "stream",
          "text": [
            "Installing package into ‘/usr/local/lib/R/site-library’\n",
            "(as ‘lib’ is unspecified)\n",
            "\n"
          ],
          "name": "stderr"
        }
      ]
    },
    {
      "cell_type": "code",
      "metadata": {
        "colab": {
          "base_uri": "https://localhost:8080/"
        },
        "id": "NBRzr89cUm-A",
        "outputId": "3680637d-17df-4fc5-9d1d-b98fdffe6701"
      },
      "source": [
        "install.packages(\"lubridate\")"
      ],
      "execution_count": 5,
      "outputs": [
        {
          "output_type": "stream",
          "text": [
            "Installing package into ‘/usr/local/lib/R/site-library’\n",
            "(as ‘lib’ is unspecified)\n",
            "\n"
          ],
          "name": "stderr"
        }
      ]
    },
    {
      "cell_type": "code",
      "metadata": {
        "colab": {
          "base_uri": "https://localhost:8080/"
        },
        "id": "n0sPxABXUqcw",
        "outputId": "cf69fb09-e55c-4561-a4b0-ab3ad2d6afa0"
      },
      "source": [
        "install.packages(\"stringr\")"
      ],
      "execution_count": 6,
      "outputs": [
        {
          "output_type": "stream",
          "text": [
            "Installing package into ‘/usr/local/lib/R/site-library’\n",
            "(as ‘lib’ is unspecified)\n",
            "\n"
          ],
          "name": "stderr"
        }
      ]
    },
    {
      "cell_type": "code",
      "metadata": {
        "colab": {
          "base_uri": "https://localhost:8080/"
        },
        "id": "fyZcR5nxUyO9",
        "outputId": "f1ddc151-61a3-43f3-f84b-90c6aaba00b5"
      },
      "source": [
        "install.packages(\"wordcloud\")"
      ],
      "execution_count": 8,
      "outputs": [
        {
          "output_type": "stream",
          "text": [
            "Installing package into ‘/usr/local/lib/R/site-library’\n",
            "(as ‘lib’ is unspecified)\n",
            "\n"
          ],
          "name": "stderr"
        }
      ]
    },
    {
      "cell_type": "code",
      "metadata": {
        "colab": {
          "base_uri": "https://localhost:8080/"
        },
        "id": "HqfkSXM5U0qk",
        "outputId": "ac80d0b0-2684-43bc-b2b9-97968064428e"
      },
      "source": [
        "install.packages(\"Rwordseg\",repos=\"http:/R-Forge.R-project.org\")"
      ],
      "execution_count": 9,
      "outputs": [
        {
          "output_type": "stream",
          "text": [
            "Installing package into ‘/usr/local/lib/R/site-library’\n",
            "(as ‘lib’ is unspecified)\n",
            "\n",
            "Warning message:\n",
            "“dependency ‘HMM’ is not available”\n",
            "Warning message in install.packages(\"Rwordseg\", repos = \"http:/R-Forge.R-project.org\"):\n",
            "“installation of package ‘Rwordseg’ had non-zero exit status”\n"
          ],
          "name": "stderr"
        }
      ]
    },
    {
      "cell_type": "code",
      "metadata": {
        "colab": {
          "base_uri": "https://localhost:8080/"
        },
        "id": "UbWFPU2dVCBI",
        "outputId": "56e20a35-64e1-4a66-ecba-133bac80003f"
      },
      "source": [
        "library(dplyr)"
      ],
      "execution_count": 10,
      "outputs": [
        {
          "output_type": "stream",
          "text": [
            "\n",
            "Attaching package: ‘dplyr’\n",
            "\n",
            "\n",
            "The following objects are masked from ‘package:stats’:\n",
            "\n",
            "    filter, lag\n",
            "\n",
            "\n",
            "The following objects are masked from ‘package:base’:\n",
            "\n",
            "    intersect, setdiff, setequal, union\n",
            "\n",
            "\n"
          ],
          "name": "stderr"
        }
      ]
    },
    {
      "cell_type": "code",
      "metadata": {
        "colab": {
          "base_uri": "https://localhost:8080/"
        },
        "id": "ZfYUyCBfVGQQ",
        "outputId": "912db241-9337-4974-8f0e-903d0acc8efb"
      },
      "source": [
        "library(lubridate)"
      ],
      "execution_count": 11,
      "outputs": [
        {
          "output_type": "stream",
          "text": [
            "Warning message in system(\"timedatectl\", intern = TRUE):\n",
            "“running command 'timedatectl' had status 1”\n",
            "\n",
            "Attaching package: ‘lubridate’\n",
            "\n",
            "\n",
            "The following objects are masked from ‘package:base’:\n",
            "\n",
            "    date, intersect, setdiff, union\n",
            "\n",
            "\n"
          ],
          "name": "stderr"
        }
      ]
    },
    {
      "cell_type": "code",
      "metadata": {
        "id": "jPSFMiyiVKZU"
      },
      "source": [
        "library(stringr)"
      ],
      "execution_count": 12,
      "outputs": []
    },
    {
      "cell_type": "code",
      "metadata": {
        "colab": {
          "base_uri": "https://localhost:8080/"
        },
        "id": "3aiTDSfPVT8Z",
        "outputId": "c0f24b95-5cfc-44f0-b3b6-394fece87060"
      },
      "source": [
        "library(jiebaR)"
      ],
      "execution_count": 13,
      "outputs": [
        {
          "output_type": "stream",
          "text": [
            "Loading required package: jiebaRD\n",
            "\n"
          ],
          "name": "stderr"
        }
      ]
    },
    {
      "cell_type": "code",
      "metadata": {
        "colab": {
          "base_uri": "https://localhost:8080/"
        },
        "id": "XYTeezseVWLY",
        "outputId": "bc632101-8e7f-453b-dad5-53f65b47ae3c"
      },
      "source": [
        "library(wordcloud)"
      ],
      "execution_count": 14,
      "outputs": [
        {
          "output_type": "stream",
          "text": [
            "Loading required package: RColorBrewer\n",
            "\n"
          ],
          "name": "stderr"
        }
      ]
    },
    {
      "cell_type": "code",
      "metadata": {
        "id": "duQ7hey2VXeo"
      },
      "source": [
        "#載入文字\n",
        "content <- \"研究人員發現，在去過6個月確診新冠的人更容易患抑鬱症、失智症、精神病和中風。三分之一曾感染過新冠病毒的人會發展成心理或神經方面的疾病，或是導致心理或神經疾病復發。而那些因為新冠住院或是需要重症監護治療的人風險更高。這有可能是由於壓力和病毒對大腦直接影響的雙重結果。英國科學家研究了美國50多萬新冠患者的電子病例記錄，以及他們患14種心理或是神經疾病的可能性，它們包括:腦出血、中風、帕金森症、格林－巴利綜合徵、失智症、精神錯亂或稱思覺失調、情緒障礙、焦慮症。研究人員解釋說，焦慮和情緒障礙是新冠患者最普遍的問題，它更可能與生病或住院經歷所帶來的緊張和壓力有關。但中風和失智症更可能是病毒本身的生理影響，或是患者身體對感染的總體反應。新冠並沒有增加帕金森症或格林－巴利綜合徵（與流感有關）風險。牛津大學神經學教授馬蘇德·侯賽因（Masud Husain）解釋說，有證據顯示新冠病毒可以進入大腦並造成直接的傷害。它還可以有其他一些間接影響，例如，影響血液凝結從而導致中風。同時，身體在對新冠感染產生反應時引起的普通炎症也會影響大腦。\""
      ],
      "execution_count": 15,
      "outputs": []
    },
    {
      "cell_type": "code",
      "metadata": {
        "id": "IkARIesWVd3o"
      },
      "source": [
        "#定義段詞器\n",
        "cutter <- worker(bylines= F )#"
      ],
      "execution_count": 16,
      "outputs": []
    },
    {
      "cell_type": "code",
      "metadata": {
        "colab": {
          "base_uri": "https://localhost:8080/",
          "height": 173
        },
        "id": "GHugzdbmVjLC",
        "outputId": "fe635dba-1660-472e-95f4-010ed1a57434"
      },
      "source": [
        "cutter[content]"
      ],
      "execution_count": 17,
      "outputs": [
        {
          "output_type": "display_data",
          "data": {
            "text/plain": [
              "  [1] \"研究\"     \"人員\"     \"發現\"     \"在\"       \"去過\"     \"6\"       \n",
              "  [7] \"個\"       \"月\"       \"確診\"     \"新冠\"     \"的\"       \"人\"      \n",
              " [13] \"更\"       \"容易\"     \"患\"       \"抑鬱症\"   \"失\"       \"智\"      \n",
              " [19] \"症\"       \"精神病\"   \"和\"       \"中風\"     \"三分之一\" \"曾\"      \n",
              " [25] \"感染\"     \"過新冠\"   \"病毒\"     \"的\"       \"人會\"     \"發展\"    \n",
              " [31] \"成\"       \"心理\"     \"或\"       \"神經\"     \"方面\"     \"的\"      \n",
              " [37] \"疾病\"     \"或是\"     \"導致\"     \"心理\"     \"或\"       \"神經\"    \n",
              " [43] \"疾病\"     \"復發\"     \"而\"       \"那些\"     \"因為\"     \"新冠\"    \n",
              " [49] \"住院\"     \"或是\"     \"需要\"     \"重症\"     \"監護\"     \"治療\"    \n",
              " [55] \"的\"       \"人\"       \"風險\"     \"更高\"     \"這有\"     \"可能\"    \n",
              " [61] \"是\"       \"由於\"     \"壓力\"     \"和\"       \"病毒\"     \"對\"      \n",
              " [67] \"大腦\"     \"直接\"     \"影響\"     \"的\"       \"雙重\"     \"結果\"    \n",
              " [73] \"英國\"     \"科學家\"   \"研究\"     \"了\"       \"美國\"     \"50\"      \n",
              " [79] \"多萬\"     \"新冠\"     \"患者\"     \"的\"       \"電子\"     \"病例\"    \n",
              " [85] \"記錄\"     \"以及\"     \"他們\"     \"患\"       \"14\"       \"種\"      \n",
              " [91] \"心理\"     \"或是\"     \"神經\"     \"疾病\"     \"的\"       \"可能性\"  \n",
              " [97] \"它們\"     \"包括\"     \"腦出血\"   \"中風\"     \"帕金森症\" \"格林\"    \n",
              "[103] \"巴利\"     \"綜合徵\"   \"失\"       \"智\"       \"症\"       \"精神\"    \n",
              "[109] \"錯亂\"     \"或\"       \"稱思覺\"   \"失調\"     \"情緒\"     \"障礙\"    \n",
              "[115] \"焦慮症\"   \"研究\"     \"人員\"     \"解釋\"     \"說\"       \"焦慮\"    \n",
              "[121] \"和\"       \"情緒\"     \"障礙\"     \"是\"       \"新冠\"     \"患者\"    \n",
              "[127] \"最\"       \"普遍\"     \"的\"       \"問題\"     \"它\"       \"更\"      \n",
              "[133] \"可能\"     \"與\"       \"生病\"     \"或\"       \"住院\"     \"經歷\"    \n",
              "[139] \"所\"       \"帶來\"     \"的\"       \"緊張\"     \"和\"       \"壓力\"    \n",
              "[145] \"有關\"     \"但\"       \"中風\"     \"和\"       \"失智症\"   \"更\"      \n",
              "[151] \"可能\"     \"是\"       \"病毒\"     \"本身\"     \"的\"       \"生理\"    \n",
              "[157] \"影響\"     \"或是\"     \"患者\"     \"身體\"     \"對\"       \"感染\"    \n",
              "[163] \"的\"       \"總體\"     \"反應\"     \"新冠並\"   \"沒有\"     \"增加\"    \n",
              "[169] \"帕金森症\" \"或\"       \"格林\"     \"巴利\"     \"綜合徵\"   \"與\"      \n",
              "[175] \"流感\"     \"有關\"     \"風險\"     \"牛津大學\" \"神經學\"   \"教授\"    \n",
              "[181] \"馬蘇德\"   \"侯賽因\"   \"Masud\"    \"Husain\"   \"解釋\"     \"說\"      \n",
              "[187] \"有\"       \"證據\"     \"顯示\"     \"新冠\"     \"病毒\"     \"可以\"    \n",
              "[193] \"進入\"     \"大腦\"     \"並\"       \"造成\"     \"直接\"     \"的\"      \n",
              "[199] \"傷害\"     \"它還\"     \"可以\"     \"有\"       \"其他\"     \"一些\"    \n",
              "[205] \"間接\"     \"影響\"     \"例如\"     \"影響\"     \"血液\"     \"凝結\"    \n",
              "[211] \"從而\"     \"導致\"     \"中風\"     \"同時\"     \"身體\"     \"在\"      \n",
              "[217] \"對\"       \"新冠\"     \"感染\"     \"產生\"     \"反應\"     \"時\"      \n",
              "[223] \"引起\"     \"的\"       \"普通\"     \"炎症\"     \"也\"       \"會\"      \n",
              "[229] \"影響\"     \"大腦\"    "
            ],
            "text/latex": "\\begin{enumerate*}\n\\item '研究'\n\\item '人員'\n\\item '發現'\n\\item '在'\n\\item '去過'\n\\item '6'\n\\item '個'\n\\item '月'\n\\item '確診'\n\\item '新冠'\n\\item '的'\n\\item '人'\n\\item '更'\n\\item '容易'\n\\item '患'\n\\item '抑鬱症'\n\\item '失'\n\\item '智'\n\\item '症'\n\\item '精神病'\n\\item '和'\n\\item '中風'\n\\item '三分之一'\n\\item '曾'\n\\item '感染'\n\\item '過新冠'\n\\item '病毒'\n\\item '的'\n\\item '人會'\n\\item '發展'\n\\item '成'\n\\item '心理'\n\\item '或'\n\\item '神經'\n\\item '方面'\n\\item '的'\n\\item '疾病'\n\\item '或是'\n\\item '導致'\n\\item '心理'\n\\item '或'\n\\item '神經'\n\\item '疾病'\n\\item '復發'\n\\item '而'\n\\item '那些'\n\\item '因為'\n\\item '新冠'\n\\item '住院'\n\\item '或是'\n\\item '需要'\n\\item '重症'\n\\item '監護'\n\\item '治療'\n\\item '的'\n\\item '人'\n\\item '風險'\n\\item '更高'\n\\item '這有'\n\\item '可能'\n\\item '是'\n\\item '由於'\n\\item '壓力'\n\\item '和'\n\\item '病毒'\n\\item '對'\n\\item '大腦'\n\\item '直接'\n\\item '影響'\n\\item '的'\n\\item '雙重'\n\\item '結果'\n\\item '英國'\n\\item '科學家'\n\\item '研究'\n\\item '了'\n\\item '美國'\n\\item '50'\n\\item '多萬'\n\\item '新冠'\n\\item '患者'\n\\item '的'\n\\item '電子'\n\\item '病例'\n\\item '記錄'\n\\item '以及'\n\\item '他們'\n\\item '患'\n\\item '14'\n\\item '種'\n\\item '心理'\n\\item '或是'\n\\item '神經'\n\\item '疾病'\n\\item '的'\n\\item '可能性'\n\\item '它們'\n\\item '包括'\n\\item '腦出血'\n\\item '中風'\n\\item '帕金森症'\n\\item '格林'\n\\item '巴利'\n\\item '綜合徵'\n\\item '失'\n\\item '智'\n\\item '症'\n\\item '精神'\n\\item '錯亂'\n\\item '或'\n\\item '稱思覺'\n\\item '失調'\n\\item '情緒'\n\\item '障礙'\n\\item '焦慮症'\n\\item '研究'\n\\item '人員'\n\\item '解釋'\n\\item '說'\n\\item '焦慮'\n\\item '和'\n\\item '情緒'\n\\item '障礙'\n\\item '是'\n\\item '新冠'\n\\item '患者'\n\\item '最'\n\\item '普遍'\n\\item '的'\n\\item '問題'\n\\item '它'\n\\item '更'\n\\item '可能'\n\\item '與'\n\\item '生病'\n\\item '或'\n\\item '住院'\n\\item '經歷'\n\\item '所'\n\\item '帶來'\n\\item '的'\n\\item '緊張'\n\\item '和'\n\\item '壓力'\n\\item '有關'\n\\item '但'\n\\item '中風'\n\\item '和'\n\\item '失智症'\n\\item '更'\n\\item '可能'\n\\item '是'\n\\item '病毒'\n\\item '本身'\n\\item '的'\n\\item '生理'\n\\item '影響'\n\\item '或是'\n\\item '患者'\n\\item '身體'\n\\item '對'\n\\item '感染'\n\\item '的'\n\\item '總體'\n\\item '反應'\n\\item '新冠並'\n\\item '沒有'\n\\item '增加'\n\\item '帕金森症'\n\\item '或'\n\\item '格林'\n\\item '巴利'\n\\item '綜合徵'\n\\item '與'\n\\item '流感'\n\\item '有關'\n\\item '風險'\n\\item '牛津大學'\n\\item '神經學'\n\\item '教授'\n\\item '馬蘇德'\n\\item '侯賽因'\n\\item 'Masud'\n\\item 'Husain'\n\\item '解釋'\n\\item '說'\n\\item '有'\n\\item '證據'\n\\item '顯示'\n\\item '新冠'\n\\item '病毒'\n\\item '可以'\n\\item '進入'\n\\item '大腦'\n\\item '並'\n\\item '造成'\n\\item '直接'\n\\item '的'\n\\item '傷害'\n\\item '它還'\n\\item '可以'\n\\item '有'\n\\item '其他'\n\\item '一些'\n\\item '間接'\n\\item '影響'\n\\item '例如'\n\\item '影響'\n\\item '血液'\n\\item '凝結'\n\\item '從而'\n\\item '導致'\n\\item '中風'\n\\item '同時'\n\\item '身體'\n\\item '在'\n\\item '對'\n\\item '新冠'\n\\item '感染'\n\\item '產生'\n\\item '反應'\n\\item '時'\n\\item '引起'\n\\item '的'\n\\item '普通'\n\\item '炎症'\n\\item '也'\n\\item '會'\n\\item '影響'\n\\item '大腦'\n\\end{enumerate*}\n",
            "text/markdown": "1. '研究'\n2. '人員'\n3. '發現'\n4. '在'\n5. '去過'\n6. '6'\n7. '個'\n8. '月'\n9. '確診'\n10. '新冠'\n11. '的'\n12. '人'\n13. '更'\n14. '容易'\n15. '患'\n16. '抑鬱症'\n17. '失'\n18. '智'\n19. '症'\n20. '精神病'\n21. '和'\n22. '中風'\n23. '三分之一'\n24. '曾'\n25. '感染'\n26. '過新冠'\n27. '病毒'\n28. '的'\n29. '人會'\n30. '發展'\n31. '成'\n32. '心理'\n33. '或'\n34. '神經'\n35. '方面'\n36. '的'\n37. '疾病'\n38. '或是'\n39. '導致'\n40. '心理'\n41. '或'\n42. '神經'\n43. '疾病'\n44. '復發'\n45. '而'\n46. '那些'\n47. '因為'\n48. '新冠'\n49. '住院'\n50. '或是'\n51. '需要'\n52. '重症'\n53. '監護'\n54. '治療'\n55. '的'\n56. '人'\n57. '風險'\n58. '更高'\n59. '這有'\n60. '可能'\n61. '是'\n62. '由於'\n63. '壓力'\n64. '和'\n65. '病毒'\n66. '對'\n67. '大腦'\n68. '直接'\n69. '影響'\n70. '的'\n71. '雙重'\n72. '結果'\n73. '英國'\n74. '科學家'\n75. '研究'\n76. '了'\n77. '美國'\n78. '50'\n79. '多萬'\n80. '新冠'\n81. '患者'\n82. '的'\n83. '電子'\n84. '病例'\n85. '記錄'\n86. '以及'\n87. '他們'\n88. '患'\n89. '14'\n90. '種'\n91. '心理'\n92. '或是'\n93. '神經'\n94. '疾病'\n95. '的'\n96. '可能性'\n97. '它們'\n98. '包括'\n99. '腦出血'\n100. '中風'\n101. '帕金森症'\n102. '格林'\n103. '巴利'\n104. '綜合徵'\n105. '失'\n106. '智'\n107. '症'\n108. '精神'\n109. '錯亂'\n110. '或'\n111. '稱思覺'\n112. '失調'\n113. '情緒'\n114. '障礙'\n115. '焦慮症'\n116. '研究'\n117. '人員'\n118. '解釋'\n119. '說'\n120. '焦慮'\n121. '和'\n122. '情緒'\n123. '障礙'\n124. '是'\n125. '新冠'\n126. '患者'\n127. '最'\n128. '普遍'\n129. '的'\n130. '問題'\n131. '它'\n132. '更'\n133. '可能'\n134. '與'\n135. '生病'\n136. '或'\n137. '住院'\n138. '經歷'\n139. '所'\n140. '帶來'\n141. '的'\n142. '緊張'\n143. '和'\n144. '壓力'\n145. '有關'\n146. '但'\n147. '中風'\n148. '和'\n149. '失智症'\n150. '更'\n151. '可能'\n152. '是'\n153. '病毒'\n154. '本身'\n155. '的'\n156. '生理'\n157. '影響'\n158. '或是'\n159. '患者'\n160. '身體'\n161. '對'\n162. '感染'\n163. '的'\n164. '總體'\n165. '反應'\n166. '新冠並'\n167. '沒有'\n168. '增加'\n169. '帕金森症'\n170. '或'\n171. '格林'\n172. '巴利'\n173. '綜合徵'\n174. '與'\n175. '流感'\n176. '有關'\n177. '風險'\n178. '牛津大學'\n179. '神經學'\n180. '教授'\n181. '馬蘇德'\n182. '侯賽因'\n183. 'Masud'\n184. 'Husain'\n185. '解釋'\n186. '說'\n187. '有'\n188. '證據'\n189. '顯示'\n190. '新冠'\n191. '病毒'\n192. '可以'\n193. '進入'\n194. '大腦'\n195. '並'\n196. '造成'\n197. '直接'\n198. '的'\n199. '傷害'\n200. '它還'\n201. '可以'\n202. '有'\n203. '其他'\n204. '一些'\n205. '間接'\n206. '影響'\n207. '例如'\n208. '影響'\n209. '血液'\n210. '凝結'\n211. '從而'\n212. '導致'\n213. '中風'\n214. '同時'\n215. '身體'\n216. '在'\n217. '對'\n218. '新冠'\n219. '感染'\n220. '產生'\n221. '反應'\n222. '時'\n223. '引起'\n224. '的'\n225. '普通'\n226. '炎症'\n227. '也'\n228. '會'\n229. '影響'\n230. '大腦'\n\n\n",
            "text/html": [
              "<style>\n",
              ".list-inline {list-style: none; margin:0; padding: 0}\n",
              ".list-inline>li {display: inline-block}\n",
              ".list-inline>li:not(:last-child)::after {content: \"\\00b7\"; padding: 0 .5ex}\n",
              "</style>\n",
              "<ol class=list-inline><li>'研究'</li><li>'人員'</li><li>'發現'</li><li>'在'</li><li>'去過'</li><li>'6'</li><li>'個'</li><li>'月'</li><li>'確診'</li><li>'新冠'</li><li>'的'</li><li>'人'</li><li>'更'</li><li>'容易'</li><li>'患'</li><li>'抑鬱症'</li><li>'失'</li><li>'智'</li><li>'症'</li><li>'精神病'</li><li>'和'</li><li>'中風'</li><li>'三分之一'</li><li>'曾'</li><li>'感染'</li><li>'過新冠'</li><li>'病毒'</li><li>'的'</li><li>'人會'</li><li>'發展'</li><li>'成'</li><li>'心理'</li><li>'或'</li><li>'神經'</li><li>'方面'</li><li>'的'</li><li>'疾病'</li><li>'或是'</li><li>'導致'</li><li>'心理'</li><li>'或'</li><li>'神經'</li><li>'疾病'</li><li>'復發'</li><li>'而'</li><li>'那些'</li><li>'因為'</li><li>'新冠'</li><li>'住院'</li><li>'或是'</li><li>'需要'</li><li>'重症'</li><li>'監護'</li><li>'治療'</li><li>'的'</li><li>'人'</li><li>'風險'</li><li>'更高'</li><li>'這有'</li><li>'可能'</li><li>'是'</li><li>'由於'</li><li>'壓力'</li><li>'和'</li><li>'病毒'</li><li>'對'</li><li>'大腦'</li><li>'直接'</li><li>'影響'</li><li>'的'</li><li>'雙重'</li><li>'結果'</li><li>'英國'</li><li>'科學家'</li><li>'研究'</li><li>'了'</li><li>'美國'</li><li>'50'</li><li>'多萬'</li><li>'新冠'</li><li>'患者'</li><li>'的'</li><li>'電子'</li><li>'病例'</li><li>'記錄'</li><li>'以及'</li><li>'他們'</li><li>'患'</li><li>'14'</li><li>'種'</li><li>'心理'</li><li>'或是'</li><li>'神經'</li><li>'疾病'</li><li>'的'</li><li>'可能性'</li><li>'它們'</li><li>'包括'</li><li>'腦出血'</li><li>'中風'</li><li>'帕金森症'</li><li>'格林'</li><li>'巴利'</li><li>'綜合徵'</li><li>'失'</li><li>'智'</li><li>'症'</li><li>'精神'</li><li>'錯亂'</li><li>'或'</li><li>'稱思覺'</li><li>'失調'</li><li>'情緒'</li><li>'障礙'</li><li>'焦慮症'</li><li>'研究'</li><li>'人員'</li><li>'解釋'</li><li>'說'</li><li>'焦慮'</li><li>'和'</li><li>'情緒'</li><li>'障礙'</li><li>'是'</li><li>'新冠'</li><li>'患者'</li><li>'最'</li><li>'普遍'</li><li>'的'</li><li>'問題'</li><li>'它'</li><li>'更'</li><li>'可能'</li><li>'與'</li><li>'生病'</li><li>'或'</li><li>'住院'</li><li>'經歷'</li><li>'所'</li><li>'帶來'</li><li>'的'</li><li>'緊張'</li><li>'和'</li><li>'壓力'</li><li>'有關'</li><li>'但'</li><li>'中風'</li><li>'和'</li><li>'失智症'</li><li>'更'</li><li>'可能'</li><li>'是'</li><li>'病毒'</li><li>'本身'</li><li>'的'</li><li>'生理'</li><li>'影響'</li><li>'或是'</li><li>'患者'</li><li>'身體'</li><li>'對'</li><li>'感染'</li><li>'的'</li><li>'總體'</li><li>'反應'</li><li>'新冠並'</li><li>'沒有'</li><li>'增加'</li><li>'帕金森症'</li><li>'或'</li><li>'格林'</li><li>'巴利'</li><li>'綜合徵'</li><li>'與'</li><li>'流感'</li><li>'有關'</li><li>'風險'</li><li>'牛津大學'</li><li>'神經學'</li><li>'教授'</li><li>'馬蘇德'</li><li>'侯賽因'</li><li>'Masud'</li><li>'Husain'</li><li>'解釋'</li><li>'說'</li><li>'有'</li><li>'證據'</li><li>'顯示'</li><li>'新冠'</li><li>'病毒'</li><li>'可以'</li><li>'進入'</li><li>'大腦'</li><li>'並'</li><li>'造成'</li><li>'直接'</li><li>'的'</li><li>'傷害'</li><li>'它還'</li><li>'可以'</li><li>'有'</li><li>'其他'</li><li>'一些'</li><li>'間接'</li><li>'影響'</li><li>'例如'</li><li>'影響'</li><li>'血液'</li><li>'凝結'</li><li>'從而'</li><li>'導致'</li><li>'中風'</li><li>'同時'</li><li>'身體'</li><li>'在'</li><li>'對'</li><li>'新冠'</li><li>'感染'</li><li>'產生'</li><li>'反應'</li><li>'時'</li><li>'引起'</li><li>'的'</li><li>'普通'</li><li>'炎症'</li><li>'也'</li><li>'會'</li><li>'影響'</li><li>'大腦'</li></ol>\n"
            ]
          },
          "metadata": {
            "tags": []
          }
        }
      ]
    },
    {
      "cell_type": "code",
      "metadata": {
        "id": "_QbilrmSVkfi"
      },
      "source": [
        "new_words <- c(\"抑鬱症\",\"失智症\",\"精神病\",\"中風\",\"新冠病毒\",\"帕金森症\",\"格林－巴利綜合徵\")"
      ],
      "execution_count": 20,
      "outputs": []
    },
    {
      "cell_type": "code",
      "metadata": {
        "colab": {
          "base_uri": "https://localhost:8080/",
          "height": 173
        },
        "id": "kBmsByoIVmfa",
        "outputId": "aee0d818-5ab9-440a-e204-62a0e3ca7f80"
      },
      "source": [
        "#一次只能加入一個詞,常常需要搭配迴圈使用\n",
        "for(i in 1:length(new_words)){new_user_word(cutter,new_words[i])}\n",
        "content <- str_remove_all(content,\"[0-9a-zA-Z]+?\")\n",
        "cutter[content]"
      ],
      "execution_count": 21,
      "outputs": [
        {
          "output_type": "display_data",
          "data": {
            "text/plain": [
              "  [1] \"研究\"             \"人員\"             \"發現\"            \n",
              "  [4] \"在\"               \"去過\"             \"個\"              \n",
              "  [7] \"月\"               \"確診\"             \"新冠\"            \n",
              " [10] \"的\"               \"人\"               \"更\"              \n",
              " [13] \"容易\"             \"患\"               \"抑鬱症\"          \n",
              " [16] \"失智症\"           \"精神病\"           \"和\"              \n",
              " [19] \"中風\"             \"三分之一\"         \"曾\"              \n",
              " [22] \"感染\"             \"過\"               \"新冠病毒\"        \n",
              " [25] \"的\"               \"人會\"             \"發展\"            \n",
              " [28] \"成\"               \"心理\"             \"或\"              \n",
              " [31] \"神經\"             \"方面\"             \"的\"              \n",
              " [34] \"疾病\"             \"或是\"             \"導致\"            \n",
              " [37] \"心理\"             \"或\"               \"神經\"            \n",
              " [40] \"疾病\"             \"復發\"             \"而\"              \n",
              " [43] \"那些\"             \"因為\"             \"新冠\"            \n",
              " [46] \"住院\"             \"或是\"             \"需要\"            \n",
              " [49] \"重症\"             \"監護\"             \"治療\"            \n",
              " [52] \"的\"               \"人\"               \"風險\"            \n",
              " [55] \"更高\"             \"這有\"             \"可能\"            \n",
              " [58] \"是\"               \"由於\"             \"壓力\"            \n",
              " [61] \"和\"               \"病毒\"             \"對\"              \n",
              " [64] \"大腦\"             \"直接\"             \"影響\"            \n",
              " [67] \"的\"               \"雙重\"             \"結果\"            \n",
              " [70] \"英國\"             \"科學家\"           \"研究\"            \n",
              " [73] \"了\"               \"美國\"             \"多萬\"            \n",
              " [76] \"新冠\"             \"患者\"             \"的\"              \n",
              " [79] \"電子\"             \"病例\"             \"記錄\"            \n",
              " [82] \"以及\"             \"他們\"             \"患種\"            \n",
              " [85] \"心理\"             \"或是\"             \"神經\"            \n",
              " [88] \"疾病\"             \"的\"               \"可能性\"          \n",
              " [91] \"它們\"             \"包括\"             \"腦出血\"          \n",
              " [94] \"中風\"             \"帕金森症\"         \"格林－巴利綜合徵\"\n",
              " [97] \"失智症\"           \"精神\"             \"錯亂\"            \n",
              "[100] \"或\"               \"稱思覺\"           \"失調\"            \n",
              "[103] \"情緒\"             \"障礙\"             \"焦慮症\"          \n",
              "[106] \"研究\"             \"人員\"             \"解釋\"            \n",
              "[109] \"說\"               \"焦慮\"             \"和\"              \n",
              "[112] \"情緒\"             \"障礙\"             \"是\"              \n",
              "[115] \"新冠\"             \"患者\"             \"最\"              \n",
              "[118] \"普遍\"             \"的\"               \"問題\"            \n",
              "[121] \"它\"               \"更\"               \"可能\"            \n",
              "[124] \"與\"               \"生病\"             \"或\"              \n",
              "[127] \"住院\"             \"經歷\"             \"所\"              \n",
              "[130] \"帶來\"             \"的\"               \"緊張\"            \n",
              "[133] \"和\"               \"壓力\"             \"有關\"            \n",
              "[136] \"但\"               \"中風\"             \"和\"              \n",
              "[139] \"失智症\"           \"更\"               \"可能\"            \n",
              "[142] \"是\"               \"病毒\"             \"本身\"            \n",
              "[145] \"的\"               \"生理\"             \"影響\"            \n",
              "[148] \"或是\"             \"患者\"             \"身體\"            \n",
              "[151] \"對\"               \"感染\"             \"的\"              \n",
              "[154] \"總體\"             \"反應\"             \"新冠並\"          \n",
              "[157] \"沒有\"             \"增加\"             \"帕金森症\"        \n",
              "[160] \"或\"               \"格林－巴利綜合徵\" \"與\"              \n",
              "[163] \"流感\"             \"有關\"             \"風險\"            \n",
              "[166] \"牛津大學\"         \"神經學\"           \"教授\"            \n",
              "[169] \"馬蘇德\"           \"侯賽因\"           \"解釋\"            \n",
              "[172] \"說\"               \"有\"               \"證據\"            \n",
              "[175] \"顯示\"             \"新冠病毒\"         \"可以\"            \n",
              "[178] \"進入\"             \"大腦\"             \"並\"              \n",
              "[181] \"造成\"             \"直接\"             \"的\"              \n",
              "[184] \"傷害\"             \"它還\"             \"可以\"            \n",
              "[187] \"有\"               \"其他\"             \"一些\"            \n",
              "[190] \"間接\"             \"影響\"             \"例如\"            \n",
              "[193] \"影響\"             \"血液\"             \"凝結\"            \n",
              "[196] \"從而\"             \"導致\"             \"中風\"            \n",
              "[199] \"同時\"             \"身體\"             \"在\"              \n",
              "[202] \"對\"               \"新冠\"             \"感染\"            \n",
              "[205] \"產生\"             \"反應\"             \"時\"              \n",
              "[208] \"引起\"             \"的\"               \"普通\"            \n",
              "[211] \"炎症\"             \"也\"               \"會\"              \n",
              "[214] \"影響\"             \"大腦\"            "
            ],
            "text/latex": "\\begin{enumerate*}\n\\item '研究'\n\\item '人員'\n\\item '發現'\n\\item '在'\n\\item '去過'\n\\item '個'\n\\item '月'\n\\item '確診'\n\\item '新冠'\n\\item '的'\n\\item '人'\n\\item '更'\n\\item '容易'\n\\item '患'\n\\item '抑鬱症'\n\\item '失智症'\n\\item '精神病'\n\\item '和'\n\\item '中風'\n\\item '三分之一'\n\\item '曾'\n\\item '感染'\n\\item '過'\n\\item '新冠病毒'\n\\item '的'\n\\item '人會'\n\\item '發展'\n\\item '成'\n\\item '心理'\n\\item '或'\n\\item '神經'\n\\item '方面'\n\\item '的'\n\\item '疾病'\n\\item '或是'\n\\item '導致'\n\\item '心理'\n\\item '或'\n\\item '神經'\n\\item '疾病'\n\\item '復發'\n\\item '而'\n\\item '那些'\n\\item '因為'\n\\item '新冠'\n\\item '住院'\n\\item '或是'\n\\item '需要'\n\\item '重症'\n\\item '監護'\n\\item '治療'\n\\item '的'\n\\item '人'\n\\item '風險'\n\\item '更高'\n\\item '這有'\n\\item '可能'\n\\item '是'\n\\item '由於'\n\\item '壓力'\n\\item '和'\n\\item '病毒'\n\\item '對'\n\\item '大腦'\n\\item '直接'\n\\item '影響'\n\\item '的'\n\\item '雙重'\n\\item '結果'\n\\item '英國'\n\\item '科學家'\n\\item '研究'\n\\item '了'\n\\item '美國'\n\\item '多萬'\n\\item '新冠'\n\\item '患者'\n\\item '的'\n\\item '電子'\n\\item '病例'\n\\item '記錄'\n\\item '以及'\n\\item '他們'\n\\item '患種'\n\\item '心理'\n\\item '或是'\n\\item '神經'\n\\item '疾病'\n\\item '的'\n\\item '可能性'\n\\item '它們'\n\\item '包括'\n\\item '腦出血'\n\\item '中風'\n\\item '帕金森症'\n\\item '格林－巴利綜合徵'\n\\item '失智症'\n\\item '精神'\n\\item '錯亂'\n\\item '或'\n\\item '稱思覺'\n\\item '失調'\n\\item '情緒'\n\\item '障礙'\n\\item '焦慮症'\n\\item '研究'\n\\item '人員'\n\\item '解釋'\n\\item '說'\n\\item '焦慮'\n\\item '和'\n\\item '情緒'\n\\item '障礙'\n\\item '是'\n\\item '新冠'\n\\item '患者'\n\\item '最'\n\\item '普遍'\n\\item '的'\n\\item '問題'\n\\item '它'\n\\item '更'\n\\item '可能'\n\\item '與'\n\\item '生病'\n\\item '或'\n\\item '住院'\n\\item '經歷'\n\\item '所'\n\\item '帶來'\n\\item '的'\n\\item '緊張'\n\\item '和'\n\\item '壓力'\n\\item '有關'\n\\item '但'\n\\item '中風'\n\\item '和'\n\\item '失智症'\n\\item '更'\n\\item '可能'\n\\item '是'\n\\item '病毒'\n\\item '本身'\n\\item '的'\n\\item '生理'\n\\item '影響'\n\\item '或是'\n\\item '患者'\n\\item '身體'\n\\item '對'\n\\item '感染'\n\\item '的'\n\\item '總體'\n\\item '反應'\n\\item '新冠並'\n\\item '沒有'\n\\item '增加'\n\\item '帕金森症'\n\\item '或'\n\\item '格林－巴利綜合徵'\n\\item '與'\n\\item '流感'\n\\item '有關'\n\\item '風險'\n\\item '牛津大學'\n\\item '神經學'\n\\item '教授'\n\\item '馬蘇德'\n\\item '侯賽因'\n\\item '解釋'\n\\item '說'\n\\item '有'\n\\item '證據'\n\\item '顯示'\n\\item '新冠病毒'\n\\item '可以'\n\\item '進入'\n\\item '大腦'\n\\item '並'\n\\item '造成'\n\\item '直接'\n\\item '的'\n\\item '傷害'\n\\item '它還'\n\\item '可以'\n\\item '有'\n\\item '其他'\n\\item '一些'\n\\item '間接'\n\\item '影響'\n\\item '例如'\n\\item '影響'\n\\item '血液'\n\\item '凝結'\n\\item '從而'\n\\item '導致'\n\\item '中風'\n\\item '同時'\n\\item '身體'\n\\item '在'\n\\item '對'\n\\item '新冠'\n\\item '感染'\n\\item '產生'\n\\item '反應'\n\\item '時'\n\\item '引起'\n\\item '的'\n\\item '普通'\n\\item '炎症'\n\\item '也'\n\\item '會'\n\\item '影響'\n\\item '大腦'\n\\end{enumerate*}\n",
            "text/markdown": "1. '研究'\n2. '人員'\n3. '發現'\n4. '在'\n5. '去過'\n6. '個'\n7. '月'\n8. '確診'\n9. '新冠'\n10. '的'\n11. '人'\n12. '更'\n13. '容易'\n14. '患'\n15. '抑鬱症'\n16. '失智症'\n17. '精神病'\n18. '和'\n19. '中風'\n20. '三分之一'\n21. '曾'\n22. '感染'\n23. '過'\n24. '新冠病毒'\n25. '的'\n26. '人會'\n27. '發展'\n28. '成'\n29. '心理'\n30. '或'\n31. '神經'\n32. '方面'\n33. '的'\n34. '疾病'\n35. '或是'\n36. '導致'\n37. '心理'\n38. '或'\n39. '神經'\n40. '疾病'\n41. '復發'\n42. '而'\n43. '那些'\n44. '因為'\n45. '新冠'\n46. '住院'\n47. '或是'\n48. '需要'\n49. '重症'\n50. '監護'\n51. '治療'\n52. '的'\n53. '人'\n54. '風險'\n55. '更高'\n56. '這有'\n57. '可能'\n58. '是'\n59. '由於'\n60. '壓力'\n61. '和'\n62. '病毒'\n63. '對'\n64. '大腦'\n65. '直接'\n66. '影響'\n67. '的'\n68. '雙重'\n69. '結果'\n70. '英國'\n71. '科學家'\n72. '研究'\n73. '了'\n74. '美國'\n75. '多萬'\n76. '新冠'\n77. '患者'\n78. '的'\n79. '電子'\n80. '病例'\n81. '記錄'\n82. '以及'\n83. '他們'\n84. '患種'\n85. '心理'\n86. '或是'\n87. '神經'\n88. '疾病'\n89. '的'\n90. '可能性'\n91. '它們'\n92. '包括'\n93. '腦出血'\n94. '中風'\n95. '帕金森症'\n96. '格林－巴利綜合徵'\n97. '失智症'\n98. '精神'\n99. '錯亂'\n100. '或'\n101. '稱思覺'\n102. '失調'\n103. '情緒'\n104. '障礙'\n105. '焦慮症'\n106. '研究'\n107. '人員'\n108. '解釋'\n109. '說'\n110. '焦慮'\n111. '和'\n112. '情緒'\n113. '障礙'\n114. '是'\n115. '新冠'\n116. '患者'\n117. '最'\n118. '普遍'\n119. '的'\n120. '問題'\n121. '它'\n122. '更'\n123. '可能'\n124. '與'\n125. '生病'\n126. '或'\n127. '住院'\n128. '經歷'\n129. '所'\n130. '帶來'\n131. '的'\n132. '緊張'\n133. '和'\n134. '壓力'\n135. '有關'\n136. '但'\n137. '中風'\n138. '和'\n139. '失智症'\n140. '更'\n141. '可能'\n142. '是'\n143. '病毒'\n144. '本身'\n145. '的'\n146. '生理'\n147. '影響'\n148. '或是'\n149. '患者'\n150. '身體'\n151. '對'\n152. '感染'\n153. '的'\n154. '總體'\n155. '反應'\n156. '新冠並'\n157. '沒有'\n158. '增加'\n159. '帕金森症'\n160. '或'\n161. '格林－巴利綜合徵'\n162. '與'\n163. '流感'\n164. '有關'\n165. '風險'\n166. '牛津大學'\n167. '神經學'\n168. '教授'\n169. '馬蘇德'\n170. '侯賽因'\n171. '解釋'\n172. '說'\n173. '有'\n174. '證據'\n175. '顯示'\n176. '新冠病毒'\n177. '可以'\n178. '進入'\n179. '大腦'\n180. '並'\n181. '造成'\n182. '直接'\n183. '的'\n184. '傷害'\n185. '它還'\n186. '可以'\n187. '有'\n188. '其他'\n189. '一些'\n190. '間接'\n191. '影響'\n192. '例如'\n193. '影響'\n194. '血液'\n195. '凝結'\n196. '從而'\n197. '導致'\n198. '中風'\n199. '同時'\n200. '身體'\n201. '在'\n202. '對'\n203. '新冠'\n204. '感染'\n205. '產生'\n206. '反應'\n207. '時'\n208. '引起'\n209. '的'\n210. '普通'\n211. '炎症'\n212. '也'\n213. '會'\n214. '影響'\n215. '大腦'\n\n\n",
            "text/html": [
              "<style>\n",
              ".list-inline {list-style: none; margin:0; padding: 0}\n",
              ".list-inline>li {display: inline-block}\n",
              ".list-inline>li:not(:last-child)::after {content: \"\\00b7\"; padding: 0 .5ex}\n",
              "</style>\n",
              "<ol class=list-inline><li>'研究'</li><li>'人員'</li><li>'發現'</li><li>'在'</li><li>'去過'</li><li>'個'</li><li>'月'</li><li>'確診'</li><li>'新冠'</li><li>'的'</li><li>'人'</li><li>'更'</li><li>'容易'</li><li>'患'</li><li>'抑鬱症'</li><li>'失智症'</li><li>'精神病'</li><li>'和'</li><li>'中風'</li><li>'三分之一'</li><li>'曾'</li><li>'感染'</li><li>'過'</li><li>'新冠病毒'</li><li>'的'</li><li>'人會'</li><li>'發展'</li><li>'成'</li><li>'心理'</li><li>'或'</li><li>'神經'</li><li>'方面'</li><li>'的'</li><li>'疾病'</li><li>'或是'</li><li>'導致'</li><li>'心理'</li><li>'或'</li><li>'神經'</li><li>'疾病'</li><li>'復發'</li><li>'而'</li><li>'那些'</li><li>'因為'</li><li>'新冠'</li><li>'住院'</li><li>'或是'</li><li>'需要'</li><li>'重症'</li><li>'監護'</li><li>'治療'</li><li>'的'</li><li>'人'</li><li>'風險'</li><li>'更高'</li><li>'這有'</li><li>'可能'</li><li>'是'</li><li>'由於'</li><li>'壓力'</li><li>'和'</li><li>'病毒'</li><li>'對'</li><li>'大腦'</li><li>'直接'</li><li>'影響'</li><li>'的'</li><li>'雙重'</li><li>'結果'</li><li>'英國'</li><li>'科學家'</li><li>'研究'</li><li>'了'</li><li>'美國'</li><li>'多萬'</li><li>'新冠'</li><li>'患者'</li><li>'的'</li><li>'電子'</li><li>'病例'</li><li>'記錄'</li><li>'以及'</li><li>'他們'</li><li>'患種'</li><li>'心理'</li><li>'或是'</li><li>'神經'</li><li>'疾病'</li><li>'的'</li><li>'可能性'</li><li>'它們'</li><li>'包括'</li><li>'腦出血'</li><li>'中風'</li><li>'帕金森症'</li><li>'格林－巴利綜合徵'</li><li>'失智症'</li><li>'精神'</li><li>'錯亂'</li><li>'或'</li><li>'稱思覺'</li><li>'失調'</li><li>'情緒'</li><li>'障礙'</li><li>'焦慮症'</li><li>'研究'</li><li>'人員'</li><li>'解釋'</li><li>'說'</li><li>'焦慮'</li><li>'和'</li><li>'情緒'</li><li>'障礙'</li><li>'是'</li><li>'新冠'</li><li>'患者'</li><li>'最'</li><li>'普遍'</li><li>'的'</li><li>'問題'</li><li>'它'</li><li>'更'</li><li>'可能'</li><li>'與'</li><li>'生病'</li><li>'或'</li><li>'住院'</li><li>'經歷'</li><li>'所'</li><li>'帶來'</li><li>'的'</li><li>'緊張'</li><li>'和'</li><li>'壓力'</li><li>'有關'</li><li>'但'</li><li>'中風'</li><li>'和'</li><li>'失智症'</li><li>'更'</li><li>'可能'</li><li>'是'</li><li>'病毒'</li><li>'本身'</li><li>'的'</li><li>'生理'</li><li>'影響'</li><li>'或是'</li><li>'患者'</li><li>'身體'</li><li>'對'</li><li>'感染'</li><li>'的'</li><li>'總體'</li><li>'反應'</li><li>'新冠並'</li><li>'沒有'</li><li>'增加'</li><li>'帕金森症'</li><li>'或'</li><li>'格林－巴利綜合徵'</li><li>'與'</li><li>'流感'</li><li>'有關'</li><li>'風險'</li><li>'牛津大學'</li><li>'神經學'</li><li>'教授'</li><li>'馬蘇德'</li><li>'侯賽因'</li><li>'解釋'</li><li>'說'</li><li>'有'</li><li>'證據'</li><li>'顯示'</li><li>'新冠病毒'</li><li>'可以'</li><li>'進入'</li><li>'大腦'</li><li>'並'</li><li>'造成'</li><li>'直接'</li><li>'的'</li><li>'傷害'</li><li>'它還'</li><li>'可以'</li><li>'有'</li><li>'其他'</li><li>'一些'</li><li>'間接'</li><li>'影響'</li><li>'例如'</li><li>'影響'</li><li>'血液'</li><li>'凝結'</li><li>'從而'</li><li>'導致'</li><li>'中風'</li><li>'同時'</li><li>'身體'</li><li>'在'</li><li>'對'</li><li>'新冠'</li><li>'感染'</li><li>'產生'</li><li>'反應'</li><li>'時'</li><li>'引起'</li><li>'的'</li><li>'普通'</li><li>'炎症'</li><li>'也'</li><li>'會'</li><li>'影響'</li><li>'大腦'</li></ol>\n"
            ]
          },
          "metadata": {
            "tags": []
          }
        }
      ]
    },
    {
      "cell_type": "code",
      "metadata": {
        "id": "5TogGHfbVqr2"
      },
      "source": [
        "new_words <- c(\"抑鬱症\",\"失智症\",\"精神病\",\"中風\",\"新冠病毒\",\"帕金森症\",\"格林－巴利綜合徵\")\n",
        "writeLines(new_words, \"new_words.txt\")"
      ],
      "execution_count": 22,
      "outputs": []
    },
    {
      "cell_type": "code",
      "metadata": {
        "id": "QgYPVYsDVxRb"
      },
      "source": [
        "stop_words <- c(\"在\",\"和\",\"或\",\"成\",\"人\",\"或是\",\"所\",\"的\",\"與\",\"有\",\"對\",\"並\",\"時\",\"更\",\"個\",\"月\",\"過\",\"而\",\"了\",\"也\",\"會\",\"說\",\"是\",\"可能\")\n",
        "writeLines(stop_words, \"stop_words.txt\")"
      ],
      "execution_count": 45,
      "outputs": []
    },
    {
      "cell_type": "code",
      "metadata": {
        "colab": {
          "base_uri": "https://localhost:8080/",
          "height": 139
        },
        "id": "5faxY_ZeV0tJ",
        "outputId": "ac05d460-3ba9-41a4-baf5-c8158def2c67"
      },
      "source": [
        "cutter <- worker(user=\"new_words.txt\",stop_word=\"stop_words.txt\",bylines=FALSE)\n",
        "seg_words <- cutter[content]\n",
        "seg_words"
      ],
      "execution_count": 46,
      "outputs": [
        {
          "output_type": "display_data",
          "data": {
            "text/plain": [
              "  [1] \"研究\"             \"人員\"             \"發現\"            \n",
              "  [4] \"去過\"             \"確診\"             \"新冠\"            \n",
              "  [7] \"容易\"             \"患\"               \"抑鬱症\"          \n",
              " [10] \"失智症\"           \"精神病\"           \"中風\"            \n",
              " [13] \"三分之一\"         \"曾\"               \"感染\"            \n",
              " [16] \"新冠病毒\"         \"人會\"             \"發展\"            \n",
              " [19] \"心理\"             \"神經\"             \"方面\"            \n",
              " [22] \"疾病\"             \"導致\"             \"心理\"            \n",
              " [25] \"神經\"             \"疾病\"             \"復發\"            \n",
              " [28] \"那些\"             \"因為\"             \"新冠\"            \n",
              " [31] \"住院\"             \"需要\"             \"重症\"            \n",
              " [34] \"監護\"             \"治療\"             \"風險\"            \n",
              " [37] \"更高\"             \"這有\"             \"由於\"            \n",
              " [40] \"壓力\"             \"病毒\"             \"大腦\"            \n",
              " [43] \"直接\"             \"影響\"             \"雙重\"            \n",
              " [46] \"結果\"             \"英國\"             \"科學家\"          \n",
              " [49] \"研究\"             \"美國\"             \"多萬\"            \n",
              " [52] \"新冠\"             \"患者\"             \"電子\"            \n",
              " [55] \"病例\"             \"記錄\"             \"以及\"            \n",
              " [58] \"他們\"             \"患種\"             \"心理\"            \n",
              " [61] \"神經\"             \"疾病\"             \"可能性\"          \n",
              " [64] \"它們\"             \"包括\"             \"腦出血\"          \n",
              " [67] \"中風\"             \"帕金森症\"         \"格林－巴利綜合徵\"\n",
              " [70] \"失智症\"           \"精神\"             \"錯亂\"            \n",
              " [73] \"稱思覺\"           \"失調\"             \"情緒\"            \n",
              " [76] \"障礙\"             \"焦慮症\"           \"研究\"            \n",
              " [79] \"人員\"             \"解釋\"             \"焦慮\"            \n",
              " [82] \"情緒\"             \"障礙\"             \"新冠\"            \n",
              " [85] \"患者\"             \"最\"               \"普遍\"            \n",
              " [88] \"問題\"             \"它\"               \"生病\"            \n",
              " [91] \"住院\"             \"經歷\"             \"帶來\"            \n",
              " [94] \"緊張\"             \"壓力\"             \"有關\"            \n",
              " [97] \"但\"               \"中風\"             \"失智症\"          \n",
              "[100] \"病毒\"             \"本身\"             \"生理\"            \n",
              "[103] \"影響\"             \"患者\"             \"身體\"            \n",
              "[106] \"感染\"             \"總體\"             \"反應\"            \n",
              "[109] \"新冠並\"           \"沒有\"             \"增加\"            \n",
              "[112] \"帕金森症\"         \"格林－巴利綜合徵\" \"流感\"            \n",
              "[115] \"有關\"             \"風險\"             \"牛津大學\"        \n",
              "[118] \"神經學\"           \"教授\"             \"馬蘇德\"          \n",
              "[121] \"侯賽因\"           \"解釋\"             \"證據\"            \n",
              "[124] \"顯示\"             \"新冠病毒\"         \"可以\"            \n",
              "[127] \"進入\"             \"大腦\"             \"造成\"            \n",
              "[130] \"直接\"             \"傷害\"             \"它還\"            \n",
              "[133] \"可以\"             \"其他\"             \"一些\"            \n",
              "[136] \"間接\"             \"影響\"             \"例如\"            \n",
              "[139] \"影響\"             \"血液\"             \"凝結\"            \n",
              "[142] \"從而\"             \"導致\"             \"中風\"            \n",
              "[145] \"同時\"             \"身體\"             \"新冠\"            \n",
              "[148] \"感染\"             \"產生\"             \"反應\"            \n",
              "[151] \"引起\"             \"普通\"             \"炎症\"            \n",
              "[154] \"影響\"             \"大腦\"            "
            ],
            "text/latex": "\\begin{enumerate*}\n\\item '研究'\n\\item '人員'\n\\item '發現'\n\\item '去過'\n\\item '確診'\n\\item '新冠'\n\\item '容易'\n\\item '患'\n\\item '抑鬱症'\n\\item '失智症'\n\\item '精神病'\n\\item '中風'\n\\item '三分之一'\n\\item '曾'\n\\item '感染'\n\\item '新冠病毒'\n\\item '人會'\n\\item '發展'\n\\item '心理'\n\\item '神經'\n\\item '方面'\n\\item '疾病'\n\\item '導致'\n\\item '心理'\n\\item '神經'\n\\item '疾病'\n\\item '復發'\n\\item '那些'\n\\item '因為'\n\\item '新冠'\n\\item '住院'\n\\item '需要'\n\\item '重症'\n\\item '監護'\n\\item '治療'\n\\item '風險'\n\\item '更高'\n\\item '這有'\n\\item '由於'\n\\item '壓力'\n\\item '病毒'\n\\item '大腦'\n\\item '直接'\n\\item '影響'\n\\item '雙重'\n\\item '結果'\n\\item '英國'\n\\item '科學家'\n\\item '研究'\n\\item '美國'\n\\item '多萬'\n\\item '新冠'\n\\item '患者'\n\\item '電子'\n\\item '病例'\n\\item '記錄'\n\\item '以及'\n\\item '他們'\n\\item '患種'\n\\item '心理'\n\\item '神經'\n\\item '疾病'\n\\item '可能性'\n\\item '它們'\n\\item '包括'\n\\item '腦出血'\n\\item '中風'\n\\item '帕金森症'\n\\item '格林－巴利綜合徵'\n\\item '失智症'\n\\item '精神'\n\\item '錯亂'\n\\item '稱思覺'\n\\item '失調'\n\\item '情緒'\n\\item '障礙'\n\\item '焦慮症'\n\\item '研究'\n\\item '人員'\n\\item '解釋'\n\\item '焦慮'\n\\item '情緒'\n\\item '障礙'\n\\item '新冠'\n\\item '患者'\n\\item '最'\n\\item '普遍'\n\\item '問題'\n\\item '它'\n\\item '生病'\n\\item '住院'\n\\item '經歷'\n\\item '帶來'\n\\item '緊張'\n\\item '壓力'\n\\item '有關'\n\\item '但'\n\\item '中風'\n\\item '失智症'\n\\item '病毒'\n\\item '本身'\n\\item '生理'\n\\item '影響'\n\\item '患者'\n\\item '身體'\n\\item '感染'\n\\item '總體'\n\\item '反應'\n\\item '新冠並'\n\\item '沒有'\n\\item '增加'\n\\item '帕金森症'\n\\item '格林－巴利綜合徵'\n\\item '流感'\n\\item '有關'\n\\item '風險'\n\\item '牛津大學'\n\\item '神經學'\n\\item '教授'\n\\item '馬蘇德'\n\\item '侯賽因'\n\\item '解釋'\n\\item '證據'\n\\item '顯示'\n\\item '新冠病毒'\n\\item '可以'\n\\item '進入'\n\\item '大腦'\n\\item '造成'\n\\item '直接'\n\\item '傷害'\n\\item '它還'\n\\item '可以'\n\\item '其他'\n\\item '一些'\n\\item '間接'\n\\item '影響'\n\\item '例如'\n\\item '影響'\n\\item '血液'\n\\item '凝結'\n\\item '從而'\n\\item '導致'\n\\item '中風'\n\\item '同時'\n\\item '身體'\n\\item '新冠'\n\\item '感染'\n\\item '產生'\n\\item '反應'\n\\item '引起'\n\\item '普通'\n\\item '炎症'\n\\item '影響'\n\\item '大腦'\n\\end{enumerate*}\n",
            "text/markdown": "1. '研究'\n2. '人員'\n3. '發現'\n4. '去過'\n5. '確診'\n6. '新冠'\n7. '容易'\n8. '患'\n9. '抑鬱症'\n10. '失智症'\n11. '精神病'\n12. '中風'\n13. '三分之一'\n14. '曾'\n15. '感染'\n16. '新冠病毒'\n17. '人會'\n18. '發展'\n19. '心理'\n20. '神經'\n21. '方面'\n22. '疾病'\n23. '導致'\n24. '心理'\n25. '神經'\n26. '疾病'\n27. '復發'\n28. '那些'\n29. '因為'\n30. '新冠'\n31. '住院'\n32. '需要'\n33. '重症'\n34. '監護'\n35. '治療'\n36. '風險'\n37. '更高'\n38. '這有'\n39. '由於'\n40. '壓力'\n41. '病毒'\n42. '大腦'\n43. '直接'\n44. '影響'\n45. '雙重'\n46. '結果'\n47. '英國'\n48. '科學家'\n49. '研究'\n50. '美國'\n51. '多萬'\n52. '新冠'\n53. '患者'\n54. '電子'\n55. '病例'\n56. '記錄'\n57. '以及'\n58. '他們'\n59. '患種'\n60. '心理'\n61. '神經'\n62. '疾病'\n63. '可能性'\n64. '它們'\n65. '包括'\n66. '腦出血'\n67. '中風'\n68. '帕金森症'\n69. '格林－巴利綜合徵'\n70. '失智症'\n71. '精神'\n72. '錯亂'\n73. '稱思覺'\n74. '失調'\n75. '情緒'\n76. '障礙'\n77. '焦慮症'\n78. '研究'\n79. '人員'\n80. '解釋'\n81. '焦慮'\n82. '情緒'\n83. '障礙'\n84. '新冠'\n85. '患者'\n86. '最'\n87. '普遍'\n88. '問題'\n89. '它'\n90. '生病'\n91. '住院'\n92. '經歷'\n93. '帶來'\n94. '緊張'\n95. '壓力'\n96. '有關'\n97. '但'\n98. '中風'\n99. '失智症'\n100. '病毒'\n101. '本身'\n102. '生理'\n103. '影響'\n104. '患者'\n105. '身體'\n106. '感染'\n107. '總體'\n108. '反應'\n109. '新冠並'\n110. '沒有'\n111. '增加'\n112. '帕金森症'\n113. '格林－巴利綜合徵'\n114. '流感'\n115. '有關'\n116. '風險'\n117. '牛津大學'\n118. '神經學'\n119. '教授'\n120. '馬蘇德'\n121. '侯賽因'\n122. '解釋'\n123. '證據'\n124. '顯示'\n125. '新冠病毒'\n126. '可以'\n127. '進入'\n128. '大腦'\n129. '造成'\n130. '直接'\n131. '傷害'\n132. '它還'\n133. '可以'\n134. '其他'\n135. '一些'\n136. '間接'\n137. '影響'\n138. '例如'\n139. '影響'\n140. '血液'\n141. '凝結'\n142. '從而'\n143. '導致'\n144. '中風'\n145. '同時'\n146. '身體'\n147. '新冠'\n148. '感染'\n149. '產生'\n150. '反應'\n151. '引起'\n152. '普通'\n153. '炎症'\n154. '影響'\n155. '大腦'\n\n\n",
            "text/html": [
              "<style>\n",
              ".list-inline {list-style: none; margin:0; padding: 0}\n",
              ".list-inline>li {display: inline-block}\n",
              ".list-inline>li:not(:last-child)::after {content: \"\\00b7\"; padding: 0 .5ex}\n",
              "</style>\n",
              "<ol class=list-inline><li>'研究'</li><li>'人員'</li><li>'發現'</li><li>'去過'</li><li>'確診'</li><li>'新冠'</li><li>'容易'</li><li>'患'</li><li>'抑鬱症'</li><li>'失智症'</li><li>'精神病'</li><li>'中風'</li><li>'三分之一'</li><li>'曾'</li><li>'感染'</li><li>'新冠病毒'</li><li>'人會'</li><li>'發展'</li><li>'心理'</li><li>'神經'</li><li>'方面'</li><li>'疾病'</li><li>'導致'</li><li>'心理'</li><li>'神經'</li><li>'疾病'</li><li>'復發'</li><li>'那些'</li><li>'因為'</li><li>'新冠'</li><li>'住院'</li><li>'需要'</li><li>'重症'</li><li>'監護'</li><li>'治療'</li><li>'風險'</li><li>'更高'</li><li>'這有'</li><li>'由於'</li><li>'壓力'</li><li>'病毒'</li><li>'大腦'</li><li>'直接'</li><li>'影響'</li><li>'雙重'</li><li>'結果'</li><li>'英國'</li><li>'科學家'</li><li>'研究'</li><li>'美國'</li><li>'多萬'</li><li>'新冠'</li><li>'患者'</li><li>'電子'</li><li>'病例'</li><li>'記錄'</li><li>'以及'</li><li>'他們'</li><li>'患種'</li><li>'心理'</li><li>'神經'</li><li>'疾病'</li><li>'可能性'</li><li>'它們'</li><li>'包括'</li><li>'腦出血'</li><li>'中風'</li><li>'帕金森症'</li><li>'格林－巴利綜合徵'</li><li>'失智症'</li><li>'精神'</li><li>'錯亂'</li><li>'稱思覺'</li><li>'失調'</li><li>'情緒'</li><li>'障礙'</li><li>'焦慮症'</li><li>'研究'</li><li>'人員'</li><li>'解釋'</li><li>'焦慮'</li><li>'情緒'</li><li>'障礙'</li><li>'新冠'</li><li>'患者'</li><li>'最'</li><li>'普遍'</li><li>'問題'</li><li>'它'</li><li>'生病'</li><li>'住院'</li><li>'經歷'</li><li>'帶來'</li><li>'緊張'</li><li>'壓力'</li><li>'有關'</li><li>'但'</li><li>'中風'</li><li>'失智症'</li><li>'病毒'</li><li>'本身'</li><li>'生理'</li><li>'影響'</li><li>'患者'</li><li>'身體'</li><li>'感染'</li><li>'總體'</li><li>'反應'</li><li>'新冠並'</li><li>'沒有'</li><li>'增加'</li><li>'帕金森症'</li><li>'格林－巴利綜合徵'</li><li>'流感'</li><li>'有關'</li><li>'風險'</li><li>'牛津大學'</li><li>'神經學'</li><li>'教授'</li><li>'馬蘇德'</li><li>'侯賽因'</li><li>'解釋'</li><li>'證據'</li><li>'顯示'</li><li>'新冠病毒'</li><li>'可以'</li><li>'進入'</li><li>'大腦'</li><li>'造成'</li><li>'直接'</li><li>'傷害'</li><li>'它還'</li><li>'可以'</li><li>'其他'</li><li>'一些'</li><li>'間接'</li><li>'影響'</li><li>'例如'</li><li>'影響'</li><li>'血液'</li><li>'凝結'</li><li>'從而'</li><li>'導致'</li><li>'中風'</li><li>'同時'</li><li>'身體'</li><li>'新冠'</li><li>'感染'</li><li>'產生'</li><li>'反應'</li><li>'引起'</li><li>'普通'</li><li>'炎症'</li><li>'影響'</li><li>'大腦'</li></ol>\n"
            ]
          },
          "metadata": {
            "tags": []
          }
        }
      ]
    },
    {
      "cell_type": "code",
      "metadata": {
        "id": "7z0iXssAV2P0"
      },
      "source": [
        "#計算詞彙頻率\n",
        "txt_freq <- freq(seg_words)"
      ],
      "execution_count": 47,
      "outputs": []
    },
    {
      "cell_type": "code",
      "metadata": {
        "id": "t-DCBVsLW2uA"
      },
      "source": [
        "#由大到小排列\n",
        "txt_freq <- arrange(txt_freq, desc(freq))"
      ],
      "execution_count": 48,
      "outputs": []
    },
    {
      "cell_type": "code",
      "metadata": {
        "colab": {
          "base_uri": "https://localhost:8080/",
          "height": 281
        },
        "id": "-7IhOXS5XGAR",
        "outputId": "c89749c1-a8c1-4949-aaa9-dea7c8a46401"
      },
      "source": [
        "#檢查前五名\n",
        "head(txt_freq)"
      ],
      "execution_count": 49,
      "outputs": [
        {
          "output_type": "display_data",
          "data": {
            "text/plain": [
              "  char   freq\n",
              "1 影響   5   \n",
              "2 新冠   5   \n",
              "3 中風   4   \n",
              "4 失智症 3   \n",
              "5 感染   3   \n",
              "6 心理   3   "
            ],
            "text/latex": "A data.frame: 6 × 2\n\\begin{tabular}{r|ll}\n  & char & freq\\\\\n  & <chr> & <dbl>\\\\\n\\hline\n\t1 & 影響   & 5\\\\\n\t2 & 新冠   & 5\\\\\n\t3 & 中風   & 4\\\\\n\t4 & 失智症 & 3\\\\\n\t5 & 感染   & 3\\\\\n\t6 & 心理   & 3\\\\\n\\end{tabular}\n",
            "text/markdown": "\nA data.frame: 6 × 2\n\n| <!--/--> | char &lt;chr&gt; | freq &lt;dbl&gt; |\n|---|---|---|\n| 1 | 影響   | 5 |\n| 2 | 新冠   | 5 |\n| 3 | 中風   | 4 |\n| 4 | 失智症 | 3 |\n| 5 | 感染   | 3 |\n| 6 | 心理   | 3 |\n\n",
            "text/html": [
              "<table class=\"dataframe\">\n",
              "<caption>A data.frame: 6 × 2</caption>\n",
              "<thead>\n",
              "\t<tr><th></th><th scope=col>char</th><th scope=col>freq</th></tr>\n",
              "\t<tr><th></th><th scope=col>&lt;chr&gt;</th><th scope=col>&lt;dbl&gt;</th></tr>\n",
              "</thead>\n",
              "<tbody>\n",
              "\t<tr><th scope=row>1</th><td>影響  </td><td>5</td></tr>\n",
              "\t<tr><th scope=row>2</th><td>新冠  </td><td>5</td></tr>\n",
              "\t<tr><th scope=row>3</th><td>中風  </td><td>4</td></tr>\n",
              "\t<tr><th scope=row>4</th><td>失智症</td><td>3</td></tr>\n",
              "\t<tr><th scope=row>5</th><td>感染  </td><td>3</td></tr>\n",
              "\t<tr><th scope=row>6</th><td>心理  </td><td>3</td></tr>\n",
              "</tbody>\n",
              "</table>\n"
            ]
          },
          "metadata": {
            "tags": []
          }
        }
      ]
    },
    {
      "cell_type": "code",
      "metadata": {
        "id": "dOAwLqJjXWce"
      },
      "source": [
        "par(family=(\"Microsoft YaHei\"))#wordcloud需字體定義,不然會無法顯示中文"
      ],
      "execution_count": 56,
      "outputs": []
    },
    {
      "cell_type": "code",
      "metadata": {
        "colab": {
          "base_uri": "https://localhost:8080/",
          "height": 437
        },
        "id": "SKmCDiXKXs0O",
        "outputId": "fe55d75c-d4db-4e5e-e50b-a880b0681d0a"
      },
      "source": [
        "wordcloud(txt_freq$char,txt_freq$freq, min.freq=2, random.order=F, ordered.colors=F, colors=rainbow(nrow(txt_freq)))"
      ],
      "execution_count": 57,
      "outputs": [
        {
          "output_type": "display_data",
          "data": {
            "image/png": "[encoded data removed]",
            "text/plain": [
              "plot without title"
            ]
          },
          "metadata": {
            "tags": [],
            "image/png": {
              "width": 420,
              "height": 420
            }
          }
        }
      ]
    },
    {
      "cell_type": "code",
      "metadata": {
        "colab": {
          "base_uri": "https://localhost:8080/"
        },
        "id": "MpKWP5zDaQbo",
        "outputId": "551e74fb-a7d3-48ed-c7f1-3ca4e6776f01"
      },
      "source": [
        "install.packages(\"showtext\")"
      ],
      "execution_count": 53,
      "outputs": [
        {
          "output_type": "stream",
          "text": [
            "Installing package into ‘/usr/local/lib/R/site-library’\n",
            "(as ‘lib’ is unspecified)\n",
            "\n",
            "also installing the dependencies ‘sysfonts’, ‘showtextdb’\n",
            "\n",
            "\n"
          ],
          "name": "stderr"
        }
      ]
    },
    {
      "cell_type": "code",
      "metadata": {
        "colab": {
          "base_uri": "https://localhost:8080/"
        },
        "id": "AKkzZ7Qealk-",
        "outputId": "12feead6-f7ee-49df-b796-99fdfaf9f19b"
      },
      "source": [
        "library(showtext)"
      ],
      "execution_count": 54,
      "outputs": [
        {
          "output_type": "stream",
          "text": [
            "Loading required package: sysfonts\n",
            "\n",
            "Loading required package: showtextdb\n",
            "\n"
          ],
          "name": "stderr"
        }
      ]
    },
    {
      "cell_type": "code",
      "metadata": {
        "colab": {
          "base_uri": "https://localhost:8080/"
        },
        "id": "KKiXPkEAarHL",
        "outputId": "e3f1418a-7a03-4073-c18b-16d601a50216"
      },
      "source": [
        "showtext.auto(enable = TRUE)"
      ],
      "execution_count": 55,
      "outputs": [
        {
          "output_type": "stream",
          "text": [
            "'showtext.auto()' is now renamed to 'showtext_auto()'\n",
            "The old version still works, but consider using the new function in future code\n",
            "\n"
          ],
          "name": "stderr"
        }
      ]
    }
  ]
}