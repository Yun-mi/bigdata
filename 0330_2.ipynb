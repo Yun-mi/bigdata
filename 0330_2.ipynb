{
  "nbformat": 4,
  "nbformat_minor": 0,
  "metadata": {
    "colab": {
      "name": "0330 2.ipynb",
      "provenance": [],
      "collapsed_sections": [],
      "include_colab_link": true
    },
    "kernelspec": {
      "name": "ir",
      "display_name": "R"
    }
  },
  "cells": [
    {
      "cell_type": "markdown",
      "metadata": {
        "id": "view-in-github",
        "colab_type": "text"
      },
      "source": [
        "<a href=\"https://colab.research.google.com/github/Yun-mi/bigdata/blob/main/0330_2.ipynb\" target=\"_parent\"><img src=\"https://colab.research.google.com/assets/colab-badge.svg\" alt=\"Open In Colab\"/></a>"
      ]
    },
    {
      "cell_type": "code",
      "metadata": {
        "colab": {
          "base_uri": "https://localhost:8080/"
        },
        "id": "SpTjL-cuUJ4T",
        "outputId": "e97f882a-9c0e-40ac-e36b-501224bf2f62"
      },
      "source": [
        "install.packages(\"rJava\")"
      ],
      "execution_count": 3,
      "outputs": [
        {
          "output_type": "stream",
          "text": [
            "Installing package into ‘/usr/local/lib/R/site-library’\n",
            "(as ‘lib’ is unspecified)\n",
            "\n"
          ],
          "name": "stderr"
        }
      ]
    },
    {
      "cell_type": "code",
      "metadata": {
        "colab": {
          "base_uri": "https://localhost:8080/"
        },
        "id": "XoQE7P21URjh",
        "outputId": "0b38ef25-72c5-41da-a710-27d1bfd587be"
      },
      "source": [
        "install.packages(\"jiebaR\")"
      ],
      "execution_count": 4,
      "outputs": [
        {
          "output_type": "stream",
          "text": [
            "Installing package into ‘/usr/local/lib/R/site-library’\n",
            "(as ‘lib’ is unspecified)\n",
            "\n",
            "also installing the dependency ‘jiebaRD’\n",
            "\n",
            "\n"
          ],
          "name": "stderr"
        }
      ]
    },
    {
      "cell_type": "code",
      "metadata": {
        "colab": {
          "base_uri": "https://localhost:8080/"
        },
        "id": "qCYHb3n8UUw0",
        "outputId": "c785cbce-e12d-4e75-9211-287969949175"
      },
      "source": [
        "install.packages(\"tmcn\")"
      ],
      "execution_count": 5,
      "outputs": [
        {
          "output_type": "stream",
          "text": [
            "Installing package into ‘/usr/local/lib/R/site-library’\n",
            "(as ‘lib’ is unspecified)\n",
            "\n"
          ],
          "name": "stderr"
        }
      ]
    },
    {
      "cell_type": "code",
      "metadata": {
        "colab": {
          "base_uri": "https://localhost:8080/"
        },
        "id": "jRrvS11MUh8V",
        "outputId": "df236ff6-f835-4e45-d625-2af2f0952049"
      },
      "source": [
        "install.packages(\"dplyr\")"
      ],
      "execution_count": 6,
      "outputs": [
        {
          "output_type": "stream",
          "text": [
            "Installing package into ‘/usr/local/lib/R/site-library’\n",
            "(as ‘lib’ is unspecified)\n",
            "\n"
          ],
          "name": "stderr"
        }
      ]
    },
    {
      "cell_type": "code",
      "metadata": {
        "colab": {
          "base_uri": "https://localhost:8080/"
        },
        "id": "NBRzr89cUm-A",
        "outputId": "4437ba5c-574b-4a3f-83a8-b91b853323c2"
      },
      "source": [
        "install.packages(\"lubridate\")"
      ],
      "execution_count": 7,
      "outputs": [
        {
          "output_type": "stream",
          "text": [
            "Installing package into ‘/usr/local/lib/R/site-library’\n",
            "(as ‘lib’ is unspecified)\n",
            "\n"
          ],
          "name": "stderr"
        }
      ]
    },
    {
      "cell_type": "code",
      "metadata": {
        "colab": {
          "base_uri": "https://localhost:8080/"
        },
        "id": "n0sPxABXUqcw",
        "outputId": "646f28df-d419-4cc0-e500-985df41c1696"
      },
      "source": [
        "install.packages(\"stringr\")"
      ],
      "execution_count": 8,
      "outputs": [
        {
          "output_type": "stream",
          "text": [
            "Installing package into ‘/usr/local/lib/R/site-library’\n",
            "(as ‘lib’ is unspecified)\n",
            "\n"
          ],
          "name": "stderr"
        }
      ]
    },
    {
      "cell_type": "code",
      "metadata": {
        "colab": {
          "base_uri": "https://localhost:8080/"
        },
        "id": "fyZcR5nxUyO9",
        "outputId": "75f323e5-a15e-4f50-a847-76718c2bfc33"
      },
      "source": [
        "install.packages(\"wordcloud\")"
      ],
      "execution_count": 9,
      "outputs": [
        {
          "output_type": "stream",
          "text": [
            "Installing package into ‘/usr/local/lib/R/site-library’\n",
            "(as ‘lib’ is unspecified)\n",
            "\n"
          ],
          "name": "stderr"
        }
      ]
    },
    {
      "cell_type": "code",
      "metadata": {
        "colab": {
          "base_uri": "https://localhost:8080/"
        },
        "id": "HqfkSXM5U0qk",
        "outputId": "91213c2e-443c-4121-c460-de68b7620fa3"
      },
      "source": [
        "install.packages(\"Rwordseg\",repos=\"http:/R-Forge.R-project.org\")"
      ],
      "execution_count": 10,
      "outputs": [
        {
          "output_type": "stream",
          "text": [
            "Installing package into ‘/usr/local/lib/R/site-library’\n",
            "(as ‘lib’ is unspecified)\n",
            "\n",
            "Warning message:\n",
            "“dependency ‘HMM’ is not available”\n",
            "Warning message in install.packages(\"Rwordseg\", repos = \"http:/R-Forge.R-project.org\"):\n",
            "“installation of package ‘Rwordseg’ had non-zero exit status”\n"
          ],
          "name": "stderr"
        }
      ]
    },
    {
      "cell_type": "code",
      "metadata": {
        "colab": {
          "base_uri": "https://localhost:8080/"
        },
        "id": "UbWFPU2dVCBI",
        "outputId": "aa2683d5-fcdd-4b9d-87f6-03d32a8f8dbc"
      },
      "source": [
        "library(dplyr)"
      ],
      "execution_count": 11,
      "outputs": [
        {
          "output_type": "stream",
          "text": [
            "\n",
            "Attaching package: ‘dplyr’\n",
            "\n",
            "\n",
            "The following objects are masked from ‘package:stats’:\n",
            "\n",
            "    filter, lag\n",
            "\n",
            "\n",
            "The following objects are masked from ‘package:base’:\n",
            "\n",
            "    intersect, setdiff, setequal, union\n",
            "\n",
            "\n"
          ],
          "name": "stderr"
        }
      ]
    },
    {
      "cell_type": "code",
      "metadata": {
        "colab": {
          "base_uri": "https://localhost:8080/"
        },
        "id": "ZfYUyCBfVGQQ",
        "outputId": "7edd31dd-ef9c-48eb-a3ad-2fe7eab970c5"
      },
      "source": [
        "library(lubridate)"
      ],
      "execution_count": 12,
      "outputs": [
        {
          "output_type": "stream",
          "text": [
            "Warning message in system(\"timedatectl\", intern = TRUE):\n",
            "“running command 'timedatectl' had status 1”\n",
            "\n",
            "Attaching package: ‘lubridate’\n",
            "\n",
            "\n",
            "The following objects are masked from ‘package:base’:\n",
            "\n",
            "    date, intersect, setdiff, union\n",
            "\n",
            "\n"
          ],
          "name": "stderr"
        }
      ]
    },
    {
      "cell_type": "code",
      "metadata": {
        "id": "jPSFMiyiVKZU"
      },
      "source": [
        "library(stringr)"
      ],
      "execution_count": 13,
      "outputs": []
    },
    {
      "cell_type": "code",
      "metadata": {
        "colab": {
          "base_uri": "https://localhost:8080/"
        },
        "id": "3aiTDSfPVT8Z",
        "outputId": "933f16a4-84d2-4508-aa4b-35283c53fd17"
      },
      "source": [
        "library(jiebaR)"
      ],
      "execution_count": 14,
      "outputs": [
        {
          "output_type": "stream",
          "text": [
            "Loading required package: jiebaRD\n",
            "\n"
          ],
          "name": "stderr"
        }
      ]
    },
    {
      "cell_type": "code",
      "metadata": {
        "colab": {
          "base_uri": "https://localhost:8080/"
        },
        "id": "XYTeezseVWLY",
        "outputId": "11e827b5-47bd-4bc2-adcc-59ad2e7db888"
      },
      "source": [
        "library(wordcloud)"
      ],
      "execution_count": 15,
      "outputs": [
        {
          "output_type": "stream",
          "text": [
            "Loading required package: RColorBrewer\n",
            "\n"
          ],
          "name": "stderr"
        }
      ]
    },
    {
      "cell_type": "code",
      "metadata": {
        "id": "duQ7hey2VXeo"
      },
      "source": [
        "#載入文字\n",
        "content <- \"研究人員發現，在去過6個月確診新冠的人更容易患抑鬱症、失智症、精神病和中風。三分之一曾感染過新冠病毒的人會發展成心理或神經方面的疾病，或是導致心理或神經疾病復發。而那些因為新冠住院或是需要重症監護治療的人風險更高。這有可能是由於壓力和病毒對大腦直接影響的雙重結果。英國科學家研究了美國50多萬新冠患者的電子病例記錄，以及他們患14種心理或是神經疾病的可能性，它們包括:腦出血、中風、帕金森症、格林－巴利綜合徵、失智症、精神錯亂或稱思覺失調、情緒障礙、焦慮症。研究人員解釋說，焦慮和情緒障礙是新冠患者最普遍的問題，它更可能與生病或住院經歷所帶來的緊張和壓力有關。但中風和失智症更可能是病毒本身的生理影響，或是患者身體對感染的總體反應。新冠並沒有增加帕金森症或格林－巴利綜合徵（與流感有關）風險。英國科學家的研究屬於觀察性研究，因此研究人員無法確定究竟是新冠引起了這些病症，還是有些人即便沒有感染在接下來的6個月中本來也會出現中風或抑鬱症。但是，研究人員把得過新冠的這組人與另外兩組人群：流感人群和呼吸道感染人群相比較後，牛津大學的研究人員得出結論說，與其他呼吸道疾病人士相比新冠患者隨後患與大腦相關疾病的可能性更高。為了更有可比性，研究人員根據研究對象的年齡、性別、種族和健康狀況進行匹配。結果發現，得過新冠的人比其他呼吸道感染者患心理或是神經疾病的可能性高16%；同時，比流感愈後者高44%。不僅如此，新冠病情越重，他們之後被診斷出精神和腦部疾病的可能性就越高。24%的新冠病毒感染者會出現情緒問題、焦慮或是精神性疾病，但在新冠住院患者中這一比例上升到25%；在重症監護患者中則是28%。但如果在生病期間還出現譫妄（delirium）比例就更高，達到36%。在所有新冠患者中有2%受到中風影響，在那些曾在重症病房接受治療的患者中風比例上升到7%；出現譫妄患者的中風比例則為9%。所有新冠患者中確診為失智症的人比例為0.7%，但在新冠譫妄症病人中比例則高達5%。英國阿爾茨海默氏症研究部門負責人薩拉·伊瑪瑞索博士（Dr Sara Imarisio）表示，之前的研究強調失智症患者患新冠重症的風險更高。而這項新研究調查了兩者之間反過來的關係可能也成立。但伊瑪瑞索博士說，研究並沒有特別著重這兩者之間的因果關係。她說，重要的是研究人員能夠找到這些結果背後的原因。牛津大學神經學教授馬蘇德·侯賽因（Masud Husain）解釋說，有證據顯示新冠病毒可以進入大腦並造成直接的傷害。它還可以有其他一些間接影響，例如，影響血液凝結從而導致中風。同時，身體在對新冠感染產生反應時引起的普通炎症也會影響大腦。對三分之一以上出現一種或多種上述疾病的人來說，這是他們首次確診這些疾病。但即使是有過這些病史的患者，研究人員表示不排除新冠可能引起他們舊病復發的可能性。倫敦國王學院精神病學、心理學和神經科學研究所教授維克斯（Prof Dame Til Wykes）表示，該研究證實了他們的懷疑，即新冠診斷不但與呼吸道症狀有關，而且還與精神和神經疾病有關。她進一步表示，從診斷後6個月的時間來看證明了其「後遺症」可能比預期出現的要晚得多，這對那些患新冠長期症狀的人來說並不奇怪她說，「儘管如預期那樣，新冠住院者的後果更嚴重。但研究也指出，病毒對沒住院的感染者也會產生明顯的嚴重後果。」\""
      ],
      "execution_count": 63,
      "outputs": []
    },
    {
      "cell_type": "code",
      "metadata": {
        "id": "IkARIesWVd3o"
      },
      "source": [
        "#定義段詞器\n",
        "cutter <- worker(bylines= F )#"
      ],
      "execution_count": 64,
      "outputs": []
    },
    {
      "cell_type": "code",
      "metadata": {
        "colab": {
          "base_uri": "https://localhost:8080/",
          "height": 295
        },
        "id": "GHugzdbmVjLC",
        "outputId": "b4d903e8-3488-477a-9c9f-8a4ef7878af1"
      },
      "source": [
        "cutter[content]"
      ],
      "execution_count": 65,
      "outputs": [
        {
          "output_type": "display_data",
          "data": {
            "text/plain": [
              "  [1] \"研究\"           \"人員\"           \"發現\"           \"在\"            \n",
              "  [5] \"去過\"           \"6\"              \"個\"             \"月\"            \n",
              "  [9] \"確診\"           \"新冠\"           \"的\"             \"人\"            \n",
              " [13] \"更\"             \"容易\"           \"患\"             \"抑鬱症\"        \n",
              " [17] \"失\"             \"智\"             \"症\"             \"精神病\"        \n",
              " [21] \"和\"             \"中風\"           \"三分之一\"       \"曾\"            \n",
              " [25] \"感染\"           \"過新冠\"         \"病毒\"           \"的\"            \n",
              " [29] \"人會\"           \"發展\"           \"成\"             \"心理\"          \n",
              " [33] \"或\"             \"神經\"           \"方面\"           \"的\"            \n",
              " [37] \"疾病\"           \"或是\"           \"導致\"           \"心理\"          \n",
              " [41] \"或\"             \"神經\"           \"疾病\"           \"復發\"          \n",
              " [45] \"而\"             \"那些\"           \"因為\"           \"新冠\"          \n",
              " [49] \"住院\"           \"或是\"           \"需要\"           \"重症\"          \n",
              " [53] \"監護\"           \"治療\"           \"的\"             \"人\"            \n",
              " [57] \"風險\"           \"更高\"           \"這有\"           \"可能\"          \n",
              " [61] \"是\"             \"由於\"           \"壓力\"           \"和\"            \n",
              " [65] \"病毒\"           \"對\"             \"大腦\"           \"直接\"          \n",
              " [69] \"影響\"           \"的\"             \"雙重\"           \"結果\"          \n",
              " [73] \"英國\"           \"科學家\"         \"研究\"           \"了\"            \n",
              " [77] \"美國\"           \"50\"             \"多萬\"           \"新冠\"          \n",
              " [81] \"患者\"           \"的\"             \"電子\"           \"病例\"          \n",
              " [85] \"記錄\"           \"以及\"           \"他們\"           \"患\"            \n",
              " [89] \"14\"             \"種\"             \"心理\"           \"或是\"          \n",
              " [93] \"神經\"           \"疾病\"           \"的\"             \"可能性\"        \n",
              " [97] \"它們\"           \"包括\"           \"腦出血\"         \"中風\"          \n",
              "[101] \"帕金森症\"       \"格林\"           \"巴利\"           \"綜合徵\"        \n",
              "[105] \"失\"             \"智\"             \"症\"             \"精神\"          \n",
              "[109] \"錯亂\"           \"或\"             \"稱思覺\"         \"失調\"          \n",
              "[113] \"情緒\"           \"障礙\"           \"焦慮症\"         \"研究\"          \n",
              "[117] \"人員\"           \"解釋\"           \"說\"             \"焦慮\"          \n",
              "[121] \"和\"             \"情緒\"           \"障礙\"           \"是\"            \n",
              "[125] \"新冠\"           \"患者\"           \"最\"             \"普遍\"          \n",
              "[129] \"的\"             \"問題\"           \"它\"             \"更\"            \n",
              "[133] \"可能\"           \"與\"             \"生病\"           \"或\"            \n",
              "[137] \"住院\"           \"經歷\"           \"所\"             \"帶來\"          \n",
              "[141] \"的\"             \"緊張\"           \"和\"             \"壓力\"          \n",
              "[145] \"有關\"           \"但\"             \"中風\"           \"和\"            \n",
              "[149] \"失智症\"         \"更\"             \"可能\"           \"是\"            \n",
              "[153] \"病毒\"           \"本身\"           \"的\"             \"生理\"          \n",
              "[157] \"影響\"           \"或是\"           \"患者\"           \"身體\"          \n",
              "[161] \"對\"             \"感染\"           \"的\"             \"總體\"          \n",
              "[165] \"反應\"           \"新冠並\"         \"沒有\"           \"增加\"          \n",
              "[169] \"帕金森症\"       \"或\"             \"格林\"           \"巴利\"          \n",
              "[173] \"綜合徵\"         \"與\"             \"流感\"           \"有關\"          \n",
              "[177] \"風險\"           \"英國\"           \"科學家\"         \"的\"            \n",
              "[181] \"研究\"           \"屬於\"           \"觀察\"           \"性\"            \n",
              "[185] \"研究\"           \"因此\"           \"研究\"           \"人員\"          \n",
              "[189] \"無法\"           \"確定\"           \"究竟\"           \"是\"            \n",
              "[193] \"新冠\"           \"引起\"           \"了\"             \"這些\"          \n",
              "[197] \"病症\"           \"還是\"           \"有些\"           \"人\"            \n",
              "[201] \"即便\"           \"沒有\"           \"感染\"           \"在\"            \n",
              "[205] \"接下來\"         \"的\"             \"6\"              \"個\"            \n",
              "[209] \"月\"             \"中\"             \"本來\"           \"也\"            \n",
              "[213] \"會\"             \"出現\"           \"中風\"           \"或\"            \n",
              "[217] \"抑鬱症\"         \"但是\"           \"研究\"           \"人員\"          \n",
              "[221] \"把\"             \"得\"             \"過新冠\"         \"的\"            \n",
              "[225] \"這組人\"         \"與\"             \"另外\"           \"兩組\"          \n",
              "[229] \"人群\"           \"流感\"           \"人群\"           \"和\"            \n",
              "[233] \"呼吸道\"         \"感染\"           \"人群\"           \"相\"            \n",
              "[237] \"比較\"           \"後\"             \"牛津大學\"       \"的\"            \n",
              "[241] \"研究\"           \"人員\"           \"得出結論\"       \"說\"            \n",
              "[245] \"與其\"           \"他\"             \"呼吸道\"         \"疾病\"          \n",
              "[249] \"人士\"           \"相比\"           \"新冠\"           \"患者\"          \n",
              "[253] \"隨後\"           \"患\"             \"與\"             \"大腦\"          \n",
              "[257] \"相關\"           \"疾病\"           \"的\"             \"可能性\"        \n",
              "[261] \"更高\"           \"為\"             \"了\"             \"更\"            \n",
              "[265] \"有\"             \"可比性\"         \"研究\"           \"人員\"          \n",
              "[269] \"根據\"           \"研究\"           \"對象\"           \"的\"            \n",
              "[273] \"年齡\"           \"性別\"           \"種族\"           \"和\"            \n",
              "[277] \"健康狀況\"       \"進行\"           \"匹配\"           \"結果\"          \n",
              "[281] \"發現\"           \"得過\"           \"新冠\"           \"的\"            \n",
              "[285] \"人\"             \"比\"             \"其他\"           \"呼吸道\"        \n",
              "[289] \"感染者\"         \"患\"             \"心理\"           \"或是\"          \n",
              "[293] \"神經\"           \"疾病\"           \"的\"             \"可能性\"        \n",
              "[297] \"高\"             \"16\"             \"同時\"           \"比\"            \n",
              "[301] \"流感\"           \"愈\"             \"後者\"           \"高\"            \n",
              "[305] \"44\"             \"不僅如此\"       \"新冠\"           \"病情\"          \n",
              "[309] \"越重\"           \"他們\"           \"之後\"           \"被\"            \n",
              "[313] \"診斷\"           \"出\"             \"精神\"           \"和\"            \n",
              "[317] \"腦部\"           \"疾病\"           \"的\"             \"可能性\"        \n",
              "[321] \"就\"             \"越\"             \"高\"             \"24\"            \n",
              "[325] \"的\"             \"新冠\"           \"病毒感染者\"     \"會\"            \n",
              "[329] \"出現\"           \"情緒\"           \"問題\"           \"焦慮\"          \n",
              "[333] \"或是\"           \"精神性\"         \"疾病\"           \"但\"            \n",
              "[337] \"在\"             \"新冠\"           \"住院\"           \"患者\"          \n",
              "[341] \"中\"             \"這一\"           \"比例\"           \"上升\"          \n",
              "[345] \"到\"             \"25\"             \"在\"             \"重症\"          \n",
              "[349] \"監護\"           \"患者\"           \"中則\"           \"是\"            \n",
              "[353] \"28\"             \"但\"             \"如果\"           \"在\"            \n",
              "[357] \"生病\"           \"期間\"           \"還\"             \"出現\"          \n",
              "[361] \"譫妄\"           \"delirium\"       \"比例\"           \"就\"            \n",
              "[365] \"更\"             \"高\"             \"達到\"           \"36\"            \n",
              "[369] \"在\"             \"所有\"           \"新冠\"           \"患者\"          \n",
              "[373] \"中有\"           \"2\"              \"受到\"           \"中風\"          \n",
              "[377] \"影響\"           \"在\"             \"那些\"           \"曾\"            \n",
              "[381] \"在\"             \"重症\"           \"病房\"           \"接受\"          \n",
              "[385] \"治療\"           \"的\"             \"患者\"           \"中風\"          \n",
              "[389] \"比例\"           \"上升\"           \"到\"             \"7\"             \n",
              "[393] \"出現\"           \"譫妄\"           \"患者\"           \"的\"            \n",
              "[397] \"中風\"           \"比例\"           \"則為\"           \"9\"             \n",
              "[401] \"所有\"           \"新冠\"           \"患者\"           \"中\"            \n",
              "[405] \"確診\"           \"為\"             \"失智症\"         \"的\"            \n",
              "[409] \"人\"             \"比例\"           \"為\"             \"0.7\"           \n",
              "[413] \"但\"             \"在\"             \"新冠\"           \"譫妄\"          \n",
              "[417] \"症\"             \"病人\"           \"中\"             \"比例\"          \n",
              "[421] \"則\"             \"高達\"           \"5\"              \"英國\"          \n",
              "[425] \"阿爾茨海默氏症\" \"研究\"           \"部門\"           \"負責人\"        \n",
              "[429] \"薩拉\"           \"伊瑪\"           \"瑞索\"           \"博士\"          \n",
              "[433] \"Dr\"             \"Sara\"           \"Imarisio\"       \"表示\"          \n",
              "[437] \"之前\"           \"的\"             \"研究\"           \"強調\"          \n",
              "[441] \"失智症\"         \"患者\"           \"患新冠\"         \"重症\"          \n",
              "[445] \"的\"             \"風險\"           \"更高\"           \"而\"            \n",
              "[449] \"這項\"           \"新\"             \"研究\"           \"調查\"          \n",
              "[453] \"了\"             \"兩者之間\"       \"反過來\"         \"的\"            \n",
              "[457] \"關係\"           \"可能\"           \"也\"             \"成立\"          \n",
              "[461] \"但\"             \"伊瑪\"           \"瑞索\"           \"博士\"          \n",
              "[465] \"說\"             \"研究\"           \"並\"             \"沒有\"          \n",
              "[469] \"特別\"           \"著重\"           \"這\"             \"兩者之間\"      \n",
              "[473] \"的\"             \"因果關係\"       \"她\"             \"說\"            \n",
              "[477] \"重要\"           \"的\"             \"是\"             \"研究\"          \n",
              "[481] \"人員\"           \"能夠\"           \"找到\"           \"這些\"          \n",
              "[485] \"結果\"           \"背後\"           \"的\"             \"原因\"          \n",
              "[489] \"牛津大學\"       \"神經學\"         \"教授\"           \"馬蘇德\"        \n",
              "[493] \"侯賽因\"         \"Masud\"          \"Husain\"         \"解釋\"          \n",
              "[497] \"說\"             \"有\"             \"證據\"           \"顯示\"          \n",
              "[501] \"新冠\"           \"病毒\"           \"可以\"           \"進入\"          \n",
              "[505] \"大腦\"           \"並\"             \"造成\"           \"直接\"          \n",
              "[509] \"的\"             \"傷害\"           \"它還\"           \"可以\"          \n",
              "[513] \"有\"             \"其他\"           \"一些\"           \"間接\"          \n",
              "[517] \"影響\"           \"例如\"           \"影響\"           \"血液\"          \n",
              "[521] \"凝結\"           \"從而\"           \"導致\"           \"中風\"          \n",
              "[525] \"同時\"           \"身體\"           \"在\"             \"對\"            \n",
              "[529] \"新冠\"           \"感染\"           \"產生\"           \"反應\"          \n",
              "[533] \"時\"             \"引起\"           \"的\"             \"普通\"          \n",
              "[537] \"炎症\"           \"也\"             \"會\"             \"影響\"          \n",
              "[541] \"大腦\"           \"對\"             \"三分之一\"       \"以上\"          \n",
              "[545] \"出現\"           \"一種\"           \"或\"             \"多種\"          \n",
              "[549] \"上述\"           \"疾病\"           \"的\"             \"人\"            \n",
              "[553] \"來說\"           \"這是\"           \"他們\"           \"首次\"          \n",
              "[557] \"確診\"           \"這些\"           \"疾病\"           \"但\"            \n",
              "[561] \"即使\"           \"是\"             \"有過\"           \"這些\"          \n",
              "[565] \"病史\"           \"的\"             \"患者\"           \"研究\"          \n",
              "[569] \"人員\"           \"表示\"           \"不\"             \"排除\"          \n",
              "[573] \"新冠\"           \"可能\"           \"引起\"           \"他們\"          \n",
              "[577] \"舊病復發\"       \"的\"             \"可能性\"         \"倫敦\"          \n",
              "[581] \"國王\"           \"學院\"           \"精神病學\"       \"心理學\"        \n",
              "[585] \"和\"             \"神經科學\"       \"研究所\"         \"教授\"          \n",
              "[589] \"維克斯\"         \"Prof\"           \"Dame\"           \"Til\"           \n",
              "[593] \"Wykes\"          \"表示\"           \"該\"             \"研究\"          \n",
              "[597] \"證實\"           \"了\"             \"他們\"           \"的\"            \n",
              "[601] \"懷疑\"           \"即新冠\"         \"診斷\"           \"不但\"          \n",
              "[605] \"與\"             \"呼吸道\"         \"症狀\"           \"有關\"          \n",
              "[609] \"而且\"           \"還與\"           \"精神\"           \"和\"            \n",
              "[613] \"神經\"           \"疾病\"           \"有關\"           \"她\"            \n",
              "[617] \"進一步\"         \"表示\"           \"從\"             \"診斷\"          \n",
              "[621] \"後\"             \"6\"              \"個\"             \"月\"            \n",
              "[625] \"的\"             \"時間\"           \"來看\"           \"證明\"          \n",
              "[629] \"了其\"           \"後遺症\"         \"可能\"           \"比\"            \n",
              "[633] \"預期\"           \"出現\"           \"的\"             \"要\"            \n",
              "[637] \"晚得\"           \"多\"             \"這對\"           \"那些\"          \n",
              "[641] \"患新冠\"         \"長期\"           \"症狀\"           \"的\"            \n",
              "[645] \"人\"             \"來說\"           \"並不\"           \"奇怪\"          \n",
              "[649] \"她\"             \"說\"             \"儘管\"           \"如\"            \n",
              "[653] \"預期\"           \"那樣\"           \"新冠\"           \"住院\"          \n",
              "[657] \"者\"             \"的\"             \"後果\"           \"更\"            \n",
              "[661] \"嚴重\"           \"但\"             \"研究\"           \"也\"            \n",
              "[665] \"指出\"           \"病毒\"           \"對\"             \"沒\"            \n",
              "[669] \"住院\"           \"的\"             \"感染者\"         \"也\"            \n",
              "[673] \"會\"             \"產生\"           \"明顯\"           \"的\"            \n",
              "[677] \"嚴重後果\"      "
            ],
            "text/latex": "\\begin{enumerate*}\n\\item '研究'\n\\item '人員'\n\\item '發現'\n\\item '在'\n\\item '去過'\n\\item '6'\n\\item '個'\n\\item '月'\n\\item '確診'\n\\item '新冠'\n\\item '的'\n\\item '人'\n\\item '更'\n\\item '容易'\n\\item '患'\n\\item '抑鬱症'\n\\item '失'\n\\item '智'\n\\item '症'\n\\item '精神病'\n\\item '和'\n\\item '中風'\n\\item '三分之一'\n\\item '曾'\n\\item '感染'\n\\item '過新冠'\n\\item '病毒'\n\\item '的'\n\\item '人會'\n\\item '發展'\n\\item '成'\n\\item '心理'\n\\item '或'\n\\item '神經'\n\\item '方面'\n\\item '的'\n\\item '疾病'\n\\item '或是'\n\\item '導致'\n\\item '心理'\n\\item '或'\n\\item '神經'\n\\item '疾病'\n\\item '復發'\n\\item '而'\n\\item '那些'\n\\item '因為'\n\\item '新冠'\n\\item '住院'\n\\item '或是'\n\\item '需要'\n\\item '重症'\n\\item '監護'\n\\item '治療'\n\\item '的'\n\\item '人'\n\\item '風險'\n\\item '更高'\n\\item '這有'\n\\item '可能'\n\\item '是'\n\\item '由於'\n\\item '壓力'\n\\item '和'\n\\item '病毒'\n\\item '對'\n\\item '大腦'\n\\item '直接'\n\\item '影響'\n\\item '的'\n\\item '雙重'\n\\item '結果'\n\\item '英國'\n\\item '科學家'\n\\item '研究'\n\\item '了'\n\\item '美國'\n\\item '50'\n\\item '多萬'\n\\item '新冠'\n\\item '患者'\n\\item '的'\n\\item '電子'\n\\item '病例'\n\\item '記錄'\n\\item '以及'\n\\item '他們'\n\\item '患'\n\\item '14'\n\\item '種'\n\\item '心理'\n\\item '或是'\n\\item '神經'\n\\item '疾病'\n\\item '的'\n\\item '可能性'\n\\item '它們'\n\\item '包括'\n\\item '腦出血'\n\\item '中風'\n\\item '帕金森症'\n\\item '格林'\n\\item '巴利'\n\\item '綜合徵'\n\\item '失'\n\\item '智'\n\\item '症'\n\\item '精神'\n\\item '錯亂'\n\\item '或'\n\\item '稱思覺'\n\\item '失調'\n\\item '情緒'\n\\item '障礙'\n\\item '焦慮症'\n\\item '研究'\n\\item '人員'\n\\item '解釋'\n\\item '說'\n\\item '焦慮'\n\\item '和'\n\\item '情緒'\n\\item '障礙'\n\\item '是'\n\\item '新冠'\n\\item '患者'\n\\item '最'\n\\item '普遍'\n\\item '的'\n\\item '問題'\n\\item '它'\n\\item '更'\n\\item '可能'\n\\item '與'\n\\item '生病'\n\\item '或'\n\\item '住院'\n\\item '經歷'\n\\item '所'\n\\item '帶來'\n\\item '的'\n\\item '緊張'\n\\item '和'\n\\item '壓力'\n\\item '有關'\n\\item '但'\n\\item '中風'\n\\item '和'\n\\item '失智症'\n\\item '更'\n\\item '可能'\n\\item '是'\n\\item '病毒'\n\\item '本身'\n\\item '的'\n\\item '生理'\n\\item '影響'\n\\item '或是'\n\\item '患者'\n\\item '身體'\n\\item '對'\n\\item '感染'\n\\item '的'\n\\item '總體'\n\\item '反應'\n\\item '新冠並'\n\\item '沒有'\n\\item '增加'\n\\item '帕金森症'\n\\item '或'\n\\item '格林'\n\\item '巴利'\n\\item '綜合徵'\n\\item '與'\n\\item '流感'\n\\item '有關'\n\\item '風險'\n\\item '英國'\n\\item '科學家'\n\\item '的'\n\\item '研究'\n\\item '屬於'\n\\item '觀察'\n\\item '性'\n\\item '研究'\n\\item '因此'\n\\item '研究'\n\\item '人員'\n\\item '無法'\n\\item '確定'\n\\item '究竟'\n\\item '是'\n\\item '新冠'\n\\item '引起'\n\\item '了'\n\\item '這些'\n\\item '病症'\n\\item '還是'\n\\item '有些'\n\\item '人'\n\\item ⋯\n\\item '的'\n\\item '是'\n\\item '研究'\n\\item '人員'\n\\item '能夠'\n\\item '找到'\n\\item '這些'\n\\item '結果'\n\\item '背後'\n\\item '的'\n\\item '原因'\n\\item '牛津大學'\n\\item '神經學'\n\\item '教授'\n\\item '馬蘇德'\n\\item '侯賽因'\n\\item 'Masud'\n\\item 'Husain'\n\\item '解釋'\n\\item '說'\n\\item '有'\n\\item '證據'\n\\item '顯示'\n\\item '新冠'\n\\item '病毒'\n\\item '可以'\n\\item '進入'\n\\item '大腦'\n\\item '並'\n\\item '造成'\n\\item '直接'\n\\item '的'\n\\item '傷害'\n\\item '它還'\n\\item '可以'\n\\item '有'\n\\item '其他'\n\\item '一些'\n\\item '間接'\n\\item '影響'\n\\item '例如'\n\\item '影響'\n\\item '血液'\n\\item '凝結'\n\\item '從而'\n\\item '導致'\n\\item '中風'\n\\item '同時'\n\\item '身體'\n\\item '在'\n\\item '對'\n\\item '新冠'\n\\item '感染'\n\\item '產生'\n\\item '反應'\n\\item '時'\n\\item '引起'\n\\item '的'\n\\item '普通'\n\\item '炎症'\n\\item '也'\n\\item '會'\n\\item '影響'\n\\item '大腦'\n\\item '對'\n\\item '三分之一'\n\\item '以上'\n\\item '出現'\n\\item '一種'\n\\item '或'\n\\item '多種'\n\\item '上述'\n\\item '疾病'\n\\item '的'\n\\item '人'\n\\item '來說'\n\\item '這是'\n\\item '他們'\n\\item '首次'\n\\item '確診'\n\\item '這些'\n\\item '疾病'\n\\item '但'\n\\item '即使'\n\\item '是'\n\\item '有過'\n\\item '這些'\n\\item '病史'\n\\item '的'\n\\item '患者'\n\\item '研究'\n\\item '人員'\n\\item '表示'\n\\item '不'\n\\item '排除'\n\\item '新冠'\n\\item '可能'\n\\item '引起'\n\\item '他們'\n\\item '舊病復發'\n\\item '的'\n\\item '可能性'\n\\item '倫敦'\n\\item '國王'\n\\item '學院'\n\\item '精神病學'\n\\item '心理學'\n\\item '和'\n\\item '神經科學'\n\\item '研究所'\n\\item '教授'\n\\item '維克斯'\n\\item 'Prof'\n\\item 'Dame'\n\\item 'Til'\n\\item 'Wykes'\n\\item '表示'\n\\item '該'\n\\item '研究'\n\\item '證實'\n\\item '了'\n\\item '他們'\n\\item '的'\n\\item '懷疑'\n\\item '即新冠'\n\\item '診斷'\n\\item '不但'\n\\item '與'\n\\item '呼吸道'\n\\item '症狀'\n\\item '有關'\n\\item '而且'\n\\item '還與'\n\\item '精神'\n\\item '和'\n\\item '神經'\n\\item '疾病'\n\\item '有關'\n\\item '她'\n\\item '進一步'\n\\item '表示'\n\\item '從'\n\\item '診斷'\n\\item '後'\n\\item '6'\n\\item '個'\n\\item '月'\n\\item '的'\n\\item '時間'\n\\item '來看'\n\\item '證明'\n\\item '了其'\n\\item '後遺症'\n\\item '可能'\n\\item '比'\n\\item '預期'\n\\item '出現'\n\\item '的'\n\\item '要'\n\\item '晚得'\n\\item '多'\n\\item '這對'\n\\item '那些'\n\\item '患新冠'\n\\item '長期'\n\\item '症狀'\n\\item '的'\n\\item '人'\n\\item '來說'\n\\item '並不'\n\\item '奇怪'\n\\item '她'\n\\item '說'\n\\item '儘管'\n\\item '如'\n\\item '預期'\n\\item '那樣'\n\\item '新冠'\n\\item '住院'\n\\item '者'\n\\item '的'\n\\item '後果'\n\\item '更'\n\\item '嚴重'\n\\item '但'\n\\item '研究'\n\\item '也'\n\\item '指出'\n\\item '病毒'\n\\item '對'\n\\item '沒'\n\\item '住院'\n\\item '的'\n\\item '感染者'\n\\item '也'\n\\item '會'\n\\item '產生'\n\\item '明顯'\n\\item '的'\n\\item '嚴重後果'\n\\end{enumerate*}\n",
            "text/markdown": "1. '研究'\n2. '人員'\n3. '發現'\n4. '在'\n5. '去過'\n6. '6'\n7. '個'\n8. '月'\n9. '確診'\n10. '新冠'\n11. '的'\n12. '人'\n13. '更'\n14. '容易'\n15. '患'\n16. '抑鬱症'\n17. '失'\n18. '智'\n19. '症'\n20. '精神病'\n21. '和'\n22. '中風'\n23. '三分之一'\n24. '曾'\n25. '感染'\n26. '過新冠'\n27. '病毒'\n28. '的'\n29. '人會'\n30. '發展'\n31. '成'\n32. '心理'\n33. '或'\n34. '神經'\n35. '方面'\n36. '的'\n37. '疾病'\n38. '或是'\n39. '導致'\n40. '心理'\n41. '或'\n42. '神經'\n43. '疾病'\n44. '復發'\n45. '而'\n46. '那些'\n47. '因為'\n48. '新冠'\n49. '住院'\n50. '或是'\n51. '需要'\n52. '重症'\n53. '監護'\n54. '治療'\n55. '的'\n56. '人'\n57. '風險'\n58. '更高'\n59. '這有'\n60. '可能'\n61. '是'\n62. '由於'\n63. '壓力'\n64. '和'\n65. '病毒'\n66. '對'\n67. '大腦'\n68. '直接'\n69. '影響'\n70. '的'\n71. '雙重'\n72. '結果'\n73. '英國'\n74. '科學家'\n75. '研究'\n76. '了'\n77. '美國'\n78. '50'\n79. '多萬'\n80. '新冠'\n81. '患者'\n82. '的'\n83. '電子'\n84. '病例'\n85. '記錄'\n86. '以及'\n87. '他們'\n88. '患'\n89. '14'\n90. '種'\n91. '心理'\n92. '或是'\n93. '神經'\n94. '疾病'\n95. '的'\n96. '可能性'\n97. '它們'\n98. '包括'\n99. '腦出血'\n100. '中風'\n101. '帕金森症'\n102. '格林'\n103. '巴利'\n104. '綜合徵'\n105. '失'\n106. '智'\n107. '症'\n108. '精神'\n109. '錯亂'\n110. '或'\n111. '稱思覺'\n112. '失調'\n113. '情緒'\n114. '障礙'\n115. '焦慮症'\n116. '研究'\n117. '人員'\n118. '解釋'\n119. '說'\n120. '焦慮'\n121. '和'\n122. '情緒'\n123. '障礙'\n124. '是'\n125. '新冠'\n126. '患者'\n127. '最'\n128. '普遍'\n129. '的'\n130. '問題'\n131. '它'\n132. '更'\n133. '可能'\n134. '與'\n135. '生病'\n136. '或'\n137. '住院'\n138. '經歷'\n139. '所'\n140. '帶來'\n141. '的'\n142. '緊張'\n143. '和'\n144. '壓力'\n145. '有關'\n146. '但'\n147. '中風'\n148. '和'\n149. '失智症'\n150. '更'\n151. '可能'\n152. '是'\n153. '病毒'\n154. '本身'\n155. '的'\n156. '生理'\n157. '影響'\n158. '或是'\n159. '患者'\n160. '身體'\n161. '對'\n162. '感染'\n163. '的'\n164. '總體'\n165. '反應'\n166. '新冠並'\n167. '沒有'\n168. '增加'\n169. '帕金森症'\n170. '或'\n171. '格林'\n172. '巴利'\n173. '綜合徵'\n174. '與'\n175. '流感'\n176. '有關'\n177. '風險'\n178. '英國'\n179. '科學家'\n180. '的'\n181. '研究'\n182. '屬於'\n183. '觀察'\n184. '性'\n185. '研究'\n186. '因此'\n187. '研究'\n188. '人員'\n189. '無法'\n190. '確定'\n191. '究竟'\n192. '是'\n193. '新冠'\n194. '引起'\n195. '了'\n196. '這些'\n197. '病症'\n198. '還是'\n199. '有些'\n200. '人'\n201. ⋯\n202. '的'\n203. '是'\n204. '研究'\n205. '人員'\n206. '能夠'\n207. '找到'\n208. '這些'\n209. '結果'\n210. '背後'\n211. '的'\n212. '原因'\n213. '牛津大學'\n214. '神經學'\n215. '教授'\n216. '馬蘇德'\n217. '侯賽因'\n218. 'Masud'\n219. 'Husain'\n220. '解釋'\n221. '說'\n222. '有'\n223. '證據'\n224. '顯示'\n225. '新冠'\n226. '病毒'\n227. '可以'\n228. '進入'\n229. '大腦'\n230. '並'\n231. '造成'\n232. '直接'\n233. '的'\n234. '傷害'\n235. '它還'\n236. '可以'\n237. '有'\n238. '其他'\n239. '一些'\n240. '間接'\n241. '影響'\n242. '例如'\n243. '影響'\n244. '血液'\n245. '凝結'\n246. '從而'\n247. '導致'\n248. '中風'\n249. '同時'\n250. '身體'\n251. '在'\n252. '對'\n253. '新冠'\n254. '感染'\n255. '產生'\n256. '反應'\n257. '時'\n258. '引起'\n259. '的'\n260. '普通'\n261. '炎症'\n262. '也'\n263. '會'\n264. '影響'\n265. '大腦'\n266. '對'\n267. '三分之一'\n268. '以上'\n269. '出現'\n270. '一種'\n271. '或'\n272. '多種'\n273. '上述'\n274. '疾病'\n275. '的'\n276. '人'\n277. '來說'\n278. '這是'\n279. '他們'\n280. '首次'\n281. '確診'\n282. '這些'\n283. '疾病'\n284. '但'\n285. '即使'\n286. '是'\n287. '有過'\n288. '這些'\n289. '病史'\n290. '的'\n291. '患者'\n292. '研究'\n293. '人員'\n294. '表示'\n295. '不'\n296. '排除'\n297. '新冠'\n298. '可能'\n299. '引起'\n300. '他們'\n301. '舊病復發'\n302. '的'\n303. '可能性'\n304. '倫敦'\n305. '國王'\n306. '學院'\n307. '精神病學'\n308. '心理學'\n309. '和'\n310. '神經科學'\n311. '研究所'\n312. '教授'\n313. '維克斯'\n314. 'Prof'\n315. 'Dame'\n316. 'Til'\n317. 'Wykes'\n318. '表示'\n319. '該'\n320. '研究'\n321. '證實'\n322. '了'\n323. '他們'\n324. '的'\n325. '懷疑'\n326. '即新冠'\n327. '診斷'\n328. '不但'\n329. '與'\n330. '呼吸道'\n331. '症狀'\n332. '有關'\n333. '而且'\n334. '還與'\n335. '精神'\n336. '和'\n337. '神經'\n338. '疾病'\n339. '有關'\n340. '她'\n341. '進一步'\n342. '表示'\n343. '從'\n344. '診斷'\n345. '後'\n346. '6'\n347. '個'\n348. '月'\n349. '的'\n350. '時間'\n351. '來看'\n352. '證明'\n353. '了其'\n354. '後遺症'\n355. '可能'\n356. '比'\n357. '預期'\n358. '出現'\n359. '的'\n360. '要'\n361. '晚得'\n362. '多'\n363. '這對'\n364. '那些'\n365. '患新冠'\n366. '長期'\n367. '症狀'\n368. '的'\n369. '人'\n370. '來說'\n371. '並不'\n372. '奇怪'\n373. '她'\n374. '說'\n375. '儘管'\n376. '如'\n377. '預期'\n378. '那樣'\n379. '新冠'\n380. '住院'\n381. '者'\n382. '的'\n383. '後果'\n384. '更'\n385. '嚴重'\n386. '但'\n387. '研究'\n388. '也'\n389. '指出'\n390. '病毒'\n391. '對'\n392. '沒'\n393. '住院'\n394. '的'\n395. '感染者'\n396. '也'\n397. '會'\n398. '產生'\n399. '明顯'\n400. '的'\n401. '嚴重後果'\n\n\n",
            "text/html": [
              "<style>\n",
              ".list-inline {list-style: none; margin:0; padding: 0}\n",
              ".list-inline>li {display: inline-block}\n",
              ".list-inline>li:not(:last-child)::after {content: \"\\00b7\"; padding: 0 .5ex}\n",
              "</style>\n",
              "<ol class=list-inline><li>'研究'</li><li>'人員'</li><li>'發現'</li><li>'在'</li><li>'去過'</li><li>'6'</li><li>'個'</li><li>'月'</li><li>'確診'</li><li>'新冠'</li><li>'的'</li><li>'人'</li><li>'更'</li><li>'容易'</li><li>'患'</li><li>'抑鬱症'</li><li>'失'</li><li>'智'</li><li>'症'</li><li>'精神病'</li><li>'和'</li><li>'中風'</li><li>'三分之一'</li><li>'曾'</li><li>'感染'</li><li>'過新冠'</li><li>'病毒'</li><li>'的'</li><li>'人會'</li><li>'發展'</li><li>'成'</li><li>'心理'</li><li>'或'</li><li>'神經'</li><li>'方面'</li><li>'的'</li><li>'疾病'</li><li>'或是'</li><li>'導致'</li><li>'心理'</li><li>'或'</li><li>'神經'</li><li>'疾病'</li><li>'復發'</li><li>'而'</li><li>'那些'</li><li>'因為'</li><li>'新冠'</li><li>'住院'</li><li>'或是'</li><li>'需要'</li><li>'重症'</li><li>'監護'</li><li>'治療'</li><li>'的'</li><li>'人'</li><li>'風險'</li><li>'更高'</li><li>'這有'</li><li>'可能'</li><li>'是'</li><li>'由於'</li><li>'壓力'</li><li>'和'</li><li>'病毒'</li><li>'對'</li><li>'大腦'</li><li>'直接'</li><li>'影響'</li><li>'的'</li><li>'雙重'</li><li>'結果'</li><li>'英國'</li><li>'科學家'</li><li>'研究'</li><li>'了'</li><li>'美國'</li><li>'50'</li><li>'多萬'</li><li>'新冠'</li><li>'患者'</li><li>'的'</li><li>'電子'</li><li>'病例'</li><li>'記錄'</li><li>'以及'</li><li>'他們'</li><li>'患'</li><li>'14'</li><li>'種'</li><li>'心理'</li><li>'或是'</li><li>'神經'</li><li>'疾病'</li><li>'的'</li><li>'可能性'</li><li>'它們'</li><li>'包括'</li><li>'腦出血'</li><li>'中風'</li><li>'帕金森症'</li><li>'格林'</li><li>'巴利'</li><li>'綜合徵'</li><li>'失'</li><li>'智'</li><li>'症'</li><li>'精神'</li><li>'錯亂'</li><li>'或'</li><li>'稱思覺'</li><li>'失調'</li><li>'情緒'</li><li>'障礙'</li><li>'焦慮症'</li><li>'研究'</li><li>'人員'</li><li>'解釋'</li><li>'說'</li><li>'焦慮'</li><li>'和'</li><li>'情緒'</li><li>'障礙'</li><li>'是'</li><li>'新冠'</li><li>'患者'</li><li>'最'</li><li>'普遍'</li><li>'的'</li><li>'問題'</li><li>'它'</li><li>'更'</li><li>'可能'</li><li>'與'</li><li>'生病'</li><li>'或'</li><li>'住院'</li><li>'經歷'</li><li>'所'</li><li>'帶來'</li><li>'的'</li><li>'緊張'</li><li>'和'</li><li>'壓力'</li><li>'有關'</li><li>'但'</li><li>'中風'</li><li>'和'</li><li>'失智症'</li><li>'更'</li><li>'可能'</li><li>'是'</li><li>'病毒'</li><li>'本身'</li><li>'的'</li><li>'生理'</li><li>'影響'</li><li>'或是'</li><li>'患者'</li><li>'身體'</li><li>'對'</li><li>'感染'</li><li>'的'</li><li>'總體'</li><li>'反應'</li><li>'新冠並'</li><li>'沒有'</li><li>'增加'</li><li>'帕金森症'</li><li>'或'</li><li>'格林'</li><li>'巴利'</li><li>'綜合徵'</li><li>'與'</li><li>'流感'</li><li>'有關'</li><li>'風險'</li><li>'英國'</li><li>'科學家'</li><li>'的'</li><li>'研究'</li><li>'屬於'</li><li>'觀察'</li><li>'性'</li><li>'研究'</li><li>'因此'</li><li>'研究'</li><li>'人員'</li><li>'無法'</li><li>'確定'</li><li>'究竟'</li><li>'是'</li><li>'新冠'</li><li>'引起'</li><li>'了'</li><li>'這些'</li><li>'病症'</li><li>'還是'</li><li>'有些'</li><li>'人'</li><li>⋯</li><li>'的'</li><li>'是'</li><li>'研究'</li><li>'人員'</li><li>'能夠'</li><li>'找到'</li><li>'這些'</li><li>'結果'</li><li>'背後'</li><li>'的'</li><li>'原因'</li><li>'牛津大學'</li><li>'神經學'</li><li>'教授'</li><li>'馬蘇德'</li><li>'侯賽因'</li><li>'Masud'</li><li>'Husain'</li><li>'解釋'</li><li>'說'</li><li>'有'</li><li>'證據'</li><li>'顯示'</li><li>'新冠'</li><li>'病毒'</li><li>'可以'</li><li>'進入'</li><li>'大腦'</li><li>'並'</li><li>'造成'</li><li>'直接'</li><li>'的'</li><li>'傷害'</li><li>'它還'</li><li>'可以'</li><li>'有'</li><li>'其他'</li><li>'一些'</li><li>'間接'</li><li>'影響'</li><li>'例如'</li><li>'影響'</li><li>'血液'</li><li>'凝結'</li><li>'從而'</li><li>'導致'</li><li>'中風'</li><li>'同時'</li><li>'身體'</li><li>'在'</li><li>'對'</li><li>'新冠'</li><li>'感染'</li><li>'產生'</li><li>'反應'</li><li>'時'</li><li>'引起'</li><li>'的'</li><li>'普通'</li><li>'炎症'</li><li>'也'</li><li>'會'</li><li>'影響'</li><li>'大腦'</li><li>'對'</li><li>'三分之一'</li><li>'以上'</li><li>'出現'</li><li>'一種'</li><li>'或'</li><li>'多種'</li><li>'上述'</li><li>'疾病'</li><li>'的'</li><li>'人'</li><li>'來說'</li><li>'這是'</li><li>'他們'</li><li>'首次'</li><li>'確診'</li><li>'這些'</li><li>'疾病'</li><li>'但'</li><li>'即使'</li><li>'是'</li><li>'有過'</li><li>'這些'</li><li>'病史'</li><li>'的'</li><li>'患者'</li><li>'研究'</li><li>'人員'</li><li>'表示'</li><li>'不'</li><li>'排除'</li><li>'新冠'</li><li>'可能'</li><li>'引起'</li><li>'他們'</li><li>'舊病復發'</li><li>'的'</li><li>'可能性'</li><li>'倫敦'</li><li>'國王'</li><li>'學院'</li><li>'精神病學'</li><li>'心理學'</li><li>'和'</li><li>'神經科學'</li><li>'研究所'</li><li>'教授'</li><li>'維克斯'</li><li>'Prof'</li><li>'Dame'</li><li>'Til'</li><li>'Wykes'</li><li>'表示'</li><li>'該'</li><li>'研究'</li><li>'證實'</li><li>'了'</li><li>'他們'</li><li>'的'</li><li>'懷疑'</li><li>'即新冠'</li><li>'診斷'</li><li>'不但'</li><li>'與'</li><li>'呼吸道'</li><li>'症狀'</li><li>'有關'</li><li>'而且'</li><li>'還與'</li><li>'精神'</li><li>'和'</li><li>'神經'</li><li>'疾病'</li><li>'有關'</li><li>'她'</li><li>'進一步'</li><li>'表示'</li><li>'從'</li><li>'診斷'</li><li>'後'</li><li>'6'</li><li>'個'</li><li>'月'</li><li>'的'</li><li>'時間'</li><li>'來看'</li><li>'證明'</li><li>'了其'</li><li>'後遺症'</li><li>'可能'</li><li>'比'</li><li>'預期'</li><li>'出現'</li><li>'的'</li><li>'要'</li><li>'晚得'</li><li>'多'</li><li>'這對'</li><li>'那些'</li><li>'患新冠'</li><li>'長期'</li><li>'症狀'</li><li>'的'</li><li>'人'</li><li>'來說'</li><li>'並不'</li><li>'奇怪'</li><li>'她'</li><li>'說'</li><li>'儘管'</li><li>'如'</li><li>'預期'</li><li>'那樣'</li><li>'新冠'</li><li>'住院'</li><li>'者'</li><li>'的'</li><li>'後果'</li><li>'更'</li><li>'嚴重'</li><li>'但'</li><li>'研究'</li><li>'也'</li><li>'指出'</li><li>'病毒'</li><li>'對'</li><li>'沒'</li><li>'住院'</li><li>'的'</li><li>'感染者'</li><li>'也'</li><li>'會'</li><li>'產生'</li><li>'明顯'</li><li>'的'</li><li>'嚴重後果'</li></ol>\n"
            ]
          },
          "metadata": {
            "tags": []
          }
        }
      ]
    },
    {
      "cell_type": "code",
      "metadata": {
        "id": "_QbilrmSVkfi"
      },
      "source": [
        "new_words <- c(\"抑鬱症\",\"失智症\",\"精神病\",\"中風\",\"新冠病毒\",\"帕金森症\",\"格林－巴利綜合徵\")"
      ],
      "execution_count": 66,
      "outputs": []
    },
    {
      "cell_type": "code",
      "metadata": {
        "colab": {
          "base_uri": "https://localhost:8080/",
          "height": 295
        },
        "id": "kBmsByoIVmfa",
        "outputId": "eb836796-c28b-4d5c-a155-3414ee88c303"
      },
      "source": [
        "#一次只能加入一個詞,常常需要搭配迴圈使用\n",
        "for(i in 1:length(new_words)){new_user_word(cutter,new_words[i])}\n",
        "content <- str_remove_all(content,\"[0-9a-zA-Z]+?\")\n",
        "cutter[content]"
      ],
      "execution_count": 67,
      "outputs": [
        {
          "output_type": "display_data",
          "data": {
            "text/plain": [
              "  [1] \"研究\"             \"人員\"             \"發現\"            \n",
              "  [4] \"在\"               \"去過\"             \"個\"              \n",
              "  [7] \"月\"               \"確診\"             \"新冠\"            \n",
              " [10] \"的\"               \"人\"               \"更\"              \n",
              " [13] \"容易\"             \"患\"               \"抑鬱症\"          \n",
              " [16] \"失智症\"           \"精神病\"           \"和\"              \n",
              " [19] \"中風\"             \"三分之一\"         \"曾\"              \n",
              " [22] \"感染\"             \"過\"               \"新冠病毒\"        \n",
              " [25] \"的\"               \"人會\"             \"發展\"            \n",
              " [28] \"成\"               \"心理\"             \"或\"              \n",
              " [31] \"神經\"             \"方面\"             \"的\"              \n",
              " [34] \"疾病\"             \"或是\"             \"導致\"            \n",
              " [37] \"心理\"             \"或\"               \"神經\"            \n",
              " [40] \"疾病\"             \"復發\"             \"而\"              \n",
              " [43] \"那些\"             \"因為\"             \"新冠\"            \n",
              " [46] \"住院\"             \"或是\"             \"需要\"            \n",
              " [49] \"重症\"             \"監護\"             \"治療\"            \n",
              " [52] \"的\"               \"人\"               \"風險\"            \n",
              " [55] \"更高\"             \"這有\"             \"可能\"            \n",
              " [58] \"是\"               \"由於\"             \"壓力\"            \n",
              " [61] \"和\"               \"病毒\"             \"對\"              \n",
              " [64] \"大腦\"             \"直接\"             \"影響\"            \n",
              " [67] \"的\"               \"雙重\"             \"結果\"            \n",
              " [70] \"英國\"             \"科學家\"           \"研究\"            \n",
              " [73] \"了\"               \"美國\"             \"多萬\"            \n",
              " [76] \"新冠\"             \"患者\"             \"的\"              \n",
              " [79] \"電子\"             \"病例\"             \"記錄\"            \n",
              " [82] \"以及\"             \"他們\"             \"患種\"            \n",
              " [85] \"心理\"             \"或是\"             \"神經\"            \n",
              " [88] \"疾病\"             \"的\"               \"可能性\"          \n",
              " [91] \"它們\"             \"包括\"             \"腦出血\"          \n",
              " [94] \"中風\"             \"帕金森症\"         \"格林－巴利綜合徵\"\n",
              " [97] \"失智症\"           \"精神\"             \"錯亂\"            \n",
              "[100] \"或\"               \"稱思覺\"           \"失調\"            \n",
              "[103] \"情緒\"             \"障礙\"             \"焦慮症\"          \n",
              "[106] \"研究\"             \"人員\"             \"解釋\"            \n",
              "[109] \"說\"               \"焦慮\"             \"和\"              \n",
              "[112] \"情緒\"             \"障礙\"             \"是\"              \n",
              "[115] \"新冠\"             \"患者\"             \"最\"              \n",
              "[118] \"普遍\"             \"的\"               \"問題\"            \n",
              "[121] \"它\"               \"更\"               \"可能\"            \n",
              "[124] \"與\"               \"生病\"             \"或\"              \n",
              "[127] \"住院\"             \"經歷\"             \"所\"              \n",
              "[130] \"帶來\"             \"的\"               \"緊張\"            \n",
              "[133] \"和\"               \"壓力\"             \"有關\"            \n",
              "[136] \"但\"               \"中風\"             \"和\"              \n",
              "[139] \"失智症\"           \"更\"               \"可能\"            \n",
              "[142] \"是\"               \"病毒\"             \"本身\"            \n",
              "[145] \"的\"               \"生理\"             \"影響\"            \n",
              "[148] \"或是\"             \"患者\"             \"身體\"            \n",
              "[151] \"對\"               \"感染\"             \"的\"              \n",
              "[154] \"總體\"             \"反應\"             \"新冠並\"          \n",
              "[157] \"沒有\"             \"增加\"             \"帕金森症\"        \n",
              "[160] \"或\"               \"格林－巴利綜合徵\" \"與\"              \n",
              "[163] \"流感\"             \"有關\"             \"風險\"            \n",
              "[166] \"英國\"             \"科學家\"           \"的\"              \n",
              "[169] \"研究\"             \"屬於\"             \"觀察\"            \n",
              "[172] \"性\"               \"研究\"             \"因此\"            \n",
              "[175] \"研究\"             \"人員\"             \"無法\"            \n",
              "[178] \"確定\"             \"究竟\"             \"是\"              \n",
              "[181] \"新冠\"             \"引起\"             \"了\"              \n",
              "[184] \"這些\"             \"病症\"             \"還是\"            \n",
              "[187] \"有些\"             \"人\"               \"即便\"            \n",
              "[190] \"沒有\"             \"感染\"             \"在\"              \n",
              "[193] \"接下來\"           \"的\"               \"個\"              \n",
              "[196] \"月\"               \"中\"               \"本來\"            \n",
              "[199] \"也\"               \"會\"               \"出現\"            \n",
              "[202] \"中風\"             \"或\"               \"抑鬱症\"          \n",
              "[205] \"但是\"             \"研究\"             \"人員\"            \n",
              "[208] \"把\"               \"得\"               \"過新冠\"          \n",
              "[211] \"的\"               \"這組人\"           \"與\"              \n",
              "[214] \"另外\"             \"兩組\"             \"人群\"            \n",
              "[217] \"流感\"             \"人群\"             \"和\"              \n",
              "[220] \"呼吸道\"           \"感染\"             \"人群\"            \n",
              "[223] \"相\"               \"比較\"             \"後\"              \n",
              "[226] \"牛津大學\"         \"的\"               \"研究\"            \n",
              "[229] \"人員\"             \"得出結論\"         \"說\"              \n",
              "[232] \"與其\"             \"他\"               \"呼吸道\"          \n",
              "[235] \"疾病\"             \"人士\"             \"相比\"            \n",
              "[238] \"新冠\"             \"患者\"             \"隨後\"            \n",
              "[241] \"患\"               \"與\"               \"大腦\"            \n",
              "[244] \"相關\"             \"疾病\"             \"的\"              \n",
              "[247] \"可能性\"           \"更高\"             \"為\"              \n",
              "[250] \"了\"               \"更\"               \"有\"              \n",
              "[253] \"可比性\"           \"研究\"             \"人員\"            \n",
              "[256] \"根據\"             \"研究\"             \"對象\"            \n",
              "[259] \"的\"               \"年齡\"             \"性別\"            \n",
              "[262] \"種族\"             \"和\"               \"健康狀況\"        \n",
              "[265] \"進行\"             \"匹配\"             \"結果\"            \n",
              "[268] \"發現\"             \"得過\"             \"新冠\"            \n",
              "[271] \"的\"               \"人\"               \"比\"              \n",
              "[274] \"其他\"             \"呼吸道\"           \"感染者\"          \n",
              "[277] \"患\"               \"心理\"             \"或是\"            \n",
              "[280] \"神經\"             \"疾病\"             \"的\"              \n",
              "[283] \"可能性\"           \"高\"               \"同時\"            \n",
              "[286] \"比\"               \"流感\"             \"愈\"              \n",
              "[289] \"後者\"             \"高\"               \"不僅如此\"        \n",
              "[292] \"新冠\"             \"病情\"             \"越重\"            \n",
              "[295] \"他們\"             \"之後\"             \"被\"              \n",
              "[298] \"診斷\"             \"出\"               \"精神\"            \n",
              "[301] \"和\"               \"腦部\"             \"疾病\"            \n",
              "[304] \"的\"               \"可能性\"           \"就\"              \n",
              "[307] \"越\"               \"高\"               \"的\"              \n",
              "[310] \"新冠病毒\"         \"感染者\"           \"會\"              \n",
              "[313] \"出現\"             \"情緒\"             \"問題\"            \n",
              "[316] \"焦慮\"             \"或是\"             \"精神性\"          \n",
              "[319] \"疾病\"             \"但\"               \"在\"              \n",
              "[322] \"新冠\"             \"住院\"             \"患者\"            \n",
              "[325] \"中\"               \"這一\"             \"比例\"            \n",
              "[328] \"上升\"             \"到\"               \"在\"              \n",
              "[331] \"重症\"             \"監護\"             \"患者\"            \n",
              "[334] \"中則\"             \"是\"               \"但\"              \n",
              "[337] \"如果\"             \"在\"               \"生病\"            \n",
              "[340] \"期間\"             \"還\"               \"出現\"            \n",
              "[343] \"譫妄\"             \"比例\"             \"就\"              \n",
              "[346] \"更\"               \"高\"               \"達到\"            \n",
              "[349] \"在\"               \"所有\"             \"新冠\"            \n",
              "[352] \"患者\"             \"中有\"             \"受到\"            \n",
              "[355] \"中風\"             \"影響\"             \"在\"              \n",
              "[358] \"那些\"             \"曾\"               \"在\"              \n",
              "[361] \"重症\"             \"病房\"             \"接受\"            \n",
              "[364] \"治療\"             \"的\"               \"患者\"            \n",
              "[367] \"中風\"             \"比例\"             \"上升\"            \n",
              "[370] \"到\"               \"出現\"             \"譫妄\"            \n",
              "[373] \"患者\"             \"的\"               \"中風\"            \n",
              "[376] \"比例\"             \"則為\"             \"所有\"            \n",
              "[379] \"新冠\"             \"患者\"             \"中\"              \n",
              "[382] \"確診\"             \"為\"               \"失智症\"          \n",
              "[385] \"的\"               \"人\"               \"比例\"            \n",
              "[388] \"為\"               \"但\"               \"在\"              \n",
              "[391] \"新冠\"             \"譫妄\"             \"症\"              \n",
              "[394] \"病人\"             \"中\"               \"比例\"            \n",
              "[397] \"則\"               \"高達\"             \"英國\"            \n",
              "[400] \"阿爾茨海默氏症\"   \"研究\"             \"部門\"            \n",
              "[403] \"負責人\"           \"薩拉\"             \"伊瑪\"            \n",
              "[406] \"瑞索\"             \"博士\"             \"表示\"            \n",
              "[409] \"之前\"             \"的\"               \"研究\"            \n",
              "[412] \"強調\"             \"失智症\"           \"患者\"            \n",
              "[415] \"患新冠\"           \"重症\"             \"的\"              \n",
              "[418] \"風險\"             \"更高\"             \"而\"              \n",
              "[421] \"這項\"             \"新\"               \"研究\"            \n",
              "[424] \"調查\"             \"了\"               \"兩者之間\"        \n",
              "[427] \"反過來\"           \"的\"               \"關係\"            \n",
              "[430] \"可能\"             \"也\"               \"成立\"            \n",
              "[433] \"但\"               \"伊瑪\"             \"瑞索\"            \n",
              "[436] \"博士\"             \"說\"               \"研究\"            \n",
              "[439] \"並\"               \"沒有\"             \"特別\"            \n",
              "[442] \"著重\"             \"這\"               \"兩者之間\"        \n",
              "[445] \"的\"               \"因果關係\"         \"她\"              \n",
              "[448] \"說\"               \"重要\"             \"的\"              \n",
              "[451] \"是\"               \"研究\"             \"人員\"            \n",
              "[454] \"能夠\"             \"找到\"             \"這些\"            \n",
              "[457] \"結果\"             \"背後\"             \"的\"              \n",
              "[460] \"原因\"             \"牛津大學\"         \"神經學\"          \n",
              "[463] \"教授\"             \"馬蘇德\"           \"侯賽因\"          \n",
              "[466] \"解釋\"             \"說\"               \"有\"              \n",
              "[469] \"證據\"             \"顯示\"             \"新冠病毒\"        \n",
              "[472] \"可以\"             \"進入\"             \"大腦\"            \n",
              "[475] \"並\"               \"造成\"             \"直接\"            \n",
              "[478] \"的\"               \"傷害\"             \"它還\"            \n",
              "[481] \"可以\"             \"有\"               \"其他\"            \n",
              "[484] \"一些\"             \"間接\"             \"影響\"            \n",
              "[487] \"例如\"             \"影響\"             \"血液\"            \n",
              "[490] \"凝結\"             \"從而\"             \"導致\"            \n",
              "[493] \"中風\"             \"同時\"             \"身體\"            \n",
              "[496] \"在\"               \"對\"               \"新冠\"            \n",
              "[499] \"感染\"             \"產生\"             \"反應\"            \n",
              "[502] \"時\"               \"引起\"             \"的\"              \n",
              "[505] \"普通\"             \"炎症\"             \"也\"              \n",
              "[508] \"會\"               \"影響\"             \"大腦\"            \n",
              "[511] \"對\"               \"三分之一\"         \"以上\"            \n",
              "[514] \"出現\"             \"一種\"             \"或\"              \n",
              "[517] \"多種\"             \"上述\"             \"疾病\"            \n",
              "[520] \"的\"               \"人\"               \"來說\"            \n",
              "[523] \"這是\"             \"他們\"             \"首次\"            \n",
              "[526] \"確診\"             \"這些\"             \"疾病\"            \n",
              "[529] \"但\"               \"即使\"             \"是\"              \n",
              "[532] \"有過\"             \"這些\"             \"病史\"            \n",
              "[535] \"的\"               \"患者\"             \"研究\"            \n",
              "[538] \"人員\"             \"表示\"             \"不\"              \n",
              "[541] \"排除\"             \"新冠\"             \"可能\"            \n",
              "[544] \"引起\"             \"他們\"             \"舊病復發\"        \n",
              "[547] \"的\"               \"可能性\"           \"倫敦\"            \n",
              "[550] \"國王\"             \"學院\"             \"精神病學\"        \n",
              "[553] \"心理學\"           \"和\"               \"神經科學\"        \n",
              "[556] \"研究所\"           \"教授\"             \"維克斯\"          \n",
              "[559] \"表示\"             \"該\"               \"研究\"            \n",
              "[562] \"證實\"             \"了\"               \"他們\"            \n",
              "[565] \"的\"               \"懷疑\"             \"即新冠\"          \n",
              "[568] \"診斷\"             \"不但\"             \"與\"              \n",
              "[571] \"呼吸道\"           \"症狀\"             \"有關\"            \n",
              "[574] \"而且\"             \"還與\"             \"精神\"            \n",
              "[577] \"和\"               \"神經\"             \"疾病\"            \n",
              "[580] \"有關\"             \"她\"               \"進一步\"          \n",
              "[583] \"表示\"             \"從\"               \"診斷\"            \n",
              "[586] \"後\"               \"個\"               \"月\"              \n",
              "[589] \"的\"               \"時間\"             \"來看\"            \n",
              "[592] \"證明\"             \"了其\"             \"後遺症\"          \n",
              "[595] \"可能\"             \"比\"               \"預期\"            \n",
              "[598] \"出現\"             \"的\"               \"要\"              \n",
              "[601] \"晚得\"             \"多\"               \"這對\"            \n",
              "[604] \"那些\"             \"患新冠\"           \"長期\"            \n",
              "[607] \"症狀\"             \"的\"               \"人\"              \n",
              "[610] \"來說\"             \"並不\"             \"奇怪\"            \n",
              "[613] \"她\"               \"說\"               \"儘管\"            \n",
              "[616] \"如\"               \"預期\"             \"那樣\"            \n",
              "[619] \"新冠\"             \"住院\"             \"者\"              \n",
              "[622] \"的\"               \"後果\"             \"更\"              \n",
              "[625] \"嚴重\"             \"但\"               \"研究\"            \n",
              "[628] \"也\"               \"指出\"             \"病毒\"            \n",
              "[631] \"對\"               \"沒\"               \"住院\"            \n",
              "[634] \"的\"               \"感染者\"           \"也\"              \n",
              "[637] \"會\"               \"產生\"             \"明顯\"            \n",
              "[640] \"的\"               \"嚴重後果\"        "
            ],
            "text/latex": "\\begin{enumerate*}\n\\item '研究'\n\\item '人員'\n\\item '發現'\n\\item '在'\n\\item '去過'\n\\item '個'\n\\item '月'\n\\item '確診'\n\\item '新冠'\n\\item '的'\n\\item '人'\n\\item '更'\n\\item '容易'\n\\item '患'\n\\item '抑鬱症'\n\\item '失智症'\n\\item '精神病'\n\\item '和'\n\\item '中風'\n\\item '三分之一'\n\\item '曾'\n\\item '感染'\n\\item '過'\n\\item '新冠病毒'\n\\item '的'\n\\item '人會'\n\\item '發展'\n\\item '成'\n\\item '心理'\n\\item '或'\n\\item '神經'\n\\item '方面'\n\\item '的'\n\\item '疾病'\n\\item '或是'\n\\item '導致'\n\\item '心理'\n\\item '或'\n\\item '神經'\n\\item '疾病'\n\\item '復發'\n\\item '而'\n\\item '那些'\n\\item '因為'\n\\item '新冠'\n\\item '住院'\n\\item '或是'\n\\item '需要'\n\\item '重症'\n\\item '監護'\n\\item '治療'\n\\item '的'\n\\item '人'\n\\item '風險'\n\\item '更高'\n\\item '這有'\n\\item '可能'\n\\item '是'\n\\item '由於'\n\\item '壓力'\n\\item '和'\n\\item '病毒'\n\\item '對'\n\\item '大腦'\n\\item '直接'\n\\item '影響'\n\\item '的'\n\\item '雙重'\n\\item '結果'\n\\item '英國'\n\\item '科學家'\n\\item '研究'\n\\item '了'\n\\item '美國'\n\\item '多萬'\n\\item '新冠'\n\\item '患者'\n\\item '的'\n\\item '電子'\n\\item '病例'\n\\item '記錄'\n\\item '以及'\n\\item '他們'\n\\item '患種'\n\\item '心理'\n\\item '或是'\n\\item '神經'\n\\item '疾病'\n\\item '的'\n\\item '可能性'\n\\item '它們'\n\\item '包括'\n\\item '腦出血'\n\\item '中風'\n\\item '帕金森症'\n\\item '格林－巴利綜合徵'\n\\item '失智症'\n\\item '精神'\n\\item '錯亂'\n\\item '或'\n\\item '稱思覺'\n\\item '失調'\n\\item '情緒'\n\\item '障礙'\n\\item '焦慮症'\n\\item '研究'\n\\item '人員'\n\\item '解釋'\n\\item '說'\n\\item '焦慮'\n\\item '和'\n\\item '情緒'\n\\item '障礙'\n\\item '是'\n\\item '新冠'\n\\item '患者'\n\\item '最'\n\\item '普遍'\n\\item '的'\n\\item '問題'\n\\item '它'\n\\item '更'\n\\item '可能'\n\\item '與'\n\\item '生病'\n\\item '或'\n\\item '住院'\n\\item '經歷'\n\\item '所'\n\\item '帶來'\n\\item '的'\n\\item '緊張'\n\\item '和'\n\\item '壓力'\n\\item '有關'\n\\item '但'\n\\item '中風'\n\\item '和'\n\\item '失智症'\n\\item '更'\n\\item '可能'\n\\item '是'\n\\item '病毒'\n\\item '本身'\n\\item '的'\n\\item '生理'\n\\item '影響'\n\\item '或是'\n\\item '患者'\n\\item '身體'\n\\item '對'\n\\item '感染'\n\\item '的'\n\\item '總體'\n\\item '反應'\n\\item '新冠並'\n\\item '沒有'\n\\item '增加'\n\\item '帕金森症'\n\\item '或'\n\\item '格林－巴利綜合徵'\n\\item '與'\n\\item '流感'\n\\item '有關'\n\\item '風險'\n\\item '英國'\n\\item '科學家'\n\\item '的'\n\\item '研究'\n\\item '屬於'\n\\item '觀察'\n\\item '性'\n\\item '研究'\n\\item '因此'\n\\item '研究'\n\\item '人員'\n\\item '無法'\n\\item '確定'\n\\item '究竟'\n\\item '是'\n\\item '新冠'\n\\item '引起'\n\\item '了'\n\\item '這些'\n\\item '病症'\n\\item '還是'\n\\item '有些'\n\\item '人'\n\\item '即便'\n\\item '沒有'\n\\item '感染'\n\\item '在'\n\\item '接下來'\n\\item '的'\n\\item '個'\n\\item '月'\n\\item '中'\n\\item '本來'\n\\item '也'\n\\item '會'\n\\item ⋯\n\\item '著重'\n\\item '這'\n\\item '兩者之間'\n\\item '的'\n\\item '因果關係'\n\\item '她'\n\\item '說'\n\\item '重要'\n\\item '的'\n\\item '是'\n\\item '研究'\n\\item '人員'\n\\item '能夠'\n\\item '找到'\n\\item '這些'\n\\item '結果'\n\\item '背後'\n\\item '的'\n\\item '原因'\n\\item '牛津大學'\n\\item '神經學'\n\\item '教授'\n\\item '馬蘇德'\n\\item '侯賽因'\n\\item '解釋'\n\\item '說'\n\\item '有'\n\\item '證據'\n\\item '顯示'\n\\item '新冠病毒'\n\\item '可以'\n\\item '進入'\n\\item '大腦'\n\\item '並'\n\\item '造成'\n\\item '直接'\n\\item '的'\n\\item '傷害'\n\\item '它還'\n\\item '可以'\n\\item '有'\n\\item '其他'\n\\item '一些'\n\\item '間接'\n\\item '影響'\n\\item '例如'\n\\item '影響'\n\\item '血液'\n\\item '凝結'\n\\item '從而'\n\\item '導致'\n\\item '中風'\n\\item '同時'\n\\item '身體'\n\\item '在'\n\\item '對'\n\\item '新冠'\n\\item '感染'\n\\item '產生'\n\\item '反應'\n\\item '時'\n\\item '引起'\n\\item '的'\n\\item '普通'\n\\item '炎症'\n\\item '也'\n\\item '會'\n\\item '影響'\n\\item '大腦'\n\\item '對'\n\\item '三分之一'\n\\item '以上'\n\\item '出現'\n\\item '一種'\n\\item '或'\n\\item '多種'\n\\item '上述'\n\\item '疾病'\n\\item '的'\n\\item '人'\n\\item '來說'\n\\item '這是'\n\\item '他們'\n\\item '首次'\n\\item '確診'\n\\item '這些'\n\\item '疾病'\n\\item '但'\n\\item '即使'\n\\item '是'\n\\item '有過'\n\\item '這些'\n\\item '病史'\n\\item '的'\n\\item '患者'\n\\item '研究'\n\\item '人員'\n\\item '表示'\n\\item '不'\n\\item '排除'\n\\item '新冠'\n\\item '可能'\n\\item '引起'\n\\item '他們'\n\\item '舊病復發'\n\\item '的'\n\\item '可能性'\n\\item '倫敦'\n\\item '國王'\n\\item '學院'\n\\item '精神病學'\n\\item '心理學'\n\\item '和'\n\\item '神經科學'\n\\item '研究所'\n\\item '教授'\n\\item '維克斯'\n\\item '表示'\n\\item '該'\n\\item '研究'\n\\item '證實'\n\\item '了'\n\\item '他們'\n\\item '的'\n\\item '懷疑'\n\\item '即新冠'\n\\item '診斷'\n\\item '不但'\n\\item '與'\n\\item '呼吸道'\n\\item '症狀'\n\\item '有關'\n\\item '而且'\n\\item '還與'\n\\item '精神'\n\\item '和'\n\\item '神經'\n\\item '疾病'\n\\item '有關'\n\\item '她'\n\\item '進一步'\n\\item '表示'\n\\item '從'\n\\item '診斷'\n\\item '後'\n\\item '個'\n\\item '月'\n\\item '的'\n\\item '時間'\n\\item '來看'\n\\item '證明'\n\\item '了其'\n\\item '後遺症'\n\\item '可能'\n\\item '比'\n\\item '預期'\n\\item '出現'\n\\item '的'\n\\item '要'\n\\item '晚得'\n\\item '多'\n\\item '這對'\n\\item '那些'\n\\item '患新冠'\n\\item '長期'\n\\item '症狀'\n\\item '的'\n\\item '人'\n\\item '來說'\n\\item '並不'\n\\item '奇怪'\n\\item '她'\n\\item '說'\n\\item '儘管'\n\\item '如'\n\\item '預期'\n\\item '那樣'\n\\item '新冠'\n\\item '住院'\n\\item '者'\n\\item '的'\n\\item '後果'\n\\item '更'\n\\item '嚴重'\n\\item '但'\n\\item '研究'\n\\item '也'\n\\item '指出'\n\\item '病毒'\n\\item '對'\n\\item '沒'\n\\item '住院'\n\\item '的'\n\\item '感染者'\n\\item '也'\n\\item '會'\n\\item '產生'\n\\item '明顯'\n\\item '的'\n\\item '嚴重後果'\n\\end{enumerate*}\n",
            "text/markdown": "1. '研究'\n2. '人員'\n3. '發現'\n4. '在'\n5. '去過'\n6. '個'\n7. '月'\n8. '確診'\n9. '新冠'\n10. '的'\n11. '人'\n12. '更'\n13. '容易'\n14. '患'\n15. '抑鬱症'\n16. '失智症'\n17. '精神病'\n18. '和'\n19. '中風'\n20. '三分之一'\n21. '曾'\n22. '感染'\n23. '過'\n24. '新冠病毒'\n25. '的'\n26. '人會'\n27. '發展'\n28. '成'\n29. '心理'\n30. '或'\n31. '神經'\n32. '方面'\n33. '的'\n34. '疾病'\n35. '或是'\n36. '導致'\n37. '心理'\n38. '或'\n39. '神經'\n40. '疾病'\n41. '復發'\n42. '而'\n43. '那些'\n44. '因為'\n45. '新冠'\n46. '住院'\n47. '或是'\n48. '需要'\n49. '重症'\n50. '監護'\n51. '治療'\n52. '的'\n53. '人'\n54. '風險'\n55. '更高'\n56. '這有'\n57. '可能'\n58. '是'\n59. '由於'\n60. '壓力'\n61. '和'\n62. '病毒'\n63. '對'\n64. '大腦'\n65. '直接'\n66. '影響'\n67. '的'\n68. '雙重'\n69. '結果'\n70. '英國'\n71. '科學家'\n72. '研究'\n73. '了'\n74. '美國'\n75. '多萬'\n76. '新冠'\n77. '患者'\n78. '的'\n79. '電子'\n80. '病例'\n81. '記錄'\n82. '以及'\n83. '他們'\n84. '患種'\n85. '心理'\n86. '或是'\n87. '神經'\n88. '疾病'\n89. '的'\n90. '可能性'\n91. '它們'\n92. '包括'\n93. '腦出血'\n94. '中風'\n95. '帕金森症'\n96. '格林－巴利綜合徵'\n97. '失智症'\n98. '精神'\n99. '錯亂'\n100. '或'\n101. '稱思覺'\n102. '失調'\n103. '情緒'\n104. '障礙'\n105. '焦慮症'\n106. '研究'\n107. '人員'\n108. '解釋'\n109. '說'\n110. '焦慮'\n111. '和'\n112. '情緒'\n113. '障礙'\n114. '是'\n115. '新冠'\n116. '患者'\n117. '最'\n118. '普遍'\n119. '的'\n120. '問題'\n121. '它'\n122. '更'\n123. '可能'\n124. '與'\n125. '生病'\n126. '或'\n127. '住院'\n128. '經歷'\n129. '所'\n130. '帶來'\n131. '的'\n132. '緊張'\n133. '和'\n134. '壓力'\n135. '有關'\n136. '但'\n137. '中風'\n138. '和'\n139. '失智症'\n140. '更'\n141. '可能'\n142. '是'\n143. '病毒'\n144. '本身'\n145. '的'\n146. '生理'\n147. '影響'\n148. '或是'\n149. '患者'\n150. '身體'\n151. '對'\n152. '感染'\n153. '的'\n154. '總體'\n155. '反應'\n156. '新冠並'\n157. '沒有'\n158. '增加'\n159. '帕金森症'\n160. '或'\n161. '格林－巴利綜合徵'\n162. '與'\n163. '流感'\n164. '有關'\n165. '風險'\n166. '英國'\n167. '科學家'\n168. '的'\n169. '研究'\n170. '屬於'\n171. '觀察'\n172. '性'\n173. '研究'\n174. '因此'\n175. '研究'\n176. '人員'\n177. '無法'\n178. '確定'\n179. '究竟'\n180. '是'\n181. '新冠'\n182. '引起'\n183. '了'\n184. '這些'\n185. '病症'\n186. '還是'\n187. '有些'\n188. '人'\n189. '即便'\n190. '沒有'\n191. '感染'\n192. '在'\n193. '接下來'\n194. '的'\n195. '個'\n196. '月'\n197. '中'\n198. '本來'\n199. '也'\n200. '會'\n201. ⋯\n202. '著重'\n203. '這'\n204. '兩者之間'\n205. '的'\n206. '因果關係'\n207. '她'\n208. '說'\n209. '重要'\n210. '的'\n211. '是'\n212. '研究'\n213. '人員'\n214. '能夠'\n215. '找到'\n216. '這些'\n217. '結果'\n218. '背後'\n219. '的'\n220. '原因'\n221. '牛津大學'\n222. '神經學'\n223. '教授'\n224. '馬蘇德'\n225. '侯賽因'\n226. '解釋'\n227. '說'\n228. '有'\n229. '證據'\n230. '顯示'\n231. '新冠病毒'\n232. '可以'\n233. '進入'\n234. '大腦'\n235. '並'\n236. '造成'\n237. '直接'\n238. '的'\n239. '傷害'\n240. '它還'\n241. '可以'\n242. '有'\n243. '其他'\n244. '一些'\n245. '間接'\n246. '影響'\n247. '例如'\n248. '影響'\n249. '血液'\n250. '凝結'\n251. '從而'\n252. '導致'\n253. '中風'\n254. '同時'\n255. '身體'\n256. '在'\n257. '對'\n258. '新冠'\n259. '感染'\n260. '產生'\n261. '反應'\n262. '時'\n263. '引起'\n264. '的'\n265. '普通'\n266. '炎症'\n267. '也'\n268. '會'\n269. '影響'\n270. '大腦'\n271. '對'\n272. '三分之一'\n273. '以上'\n274. '出現'\n275. '一種'\n276. '或'\n277. '多種'\n278. '上述'\n279. '疾病'\n280. '的'\n281. '人'\n282. '來說'\n283. '這是'\n284. '他們'\n285. '首次'\n286. '確診'\n287. '這些'\n288. '疾病'\n289. '但'\n290. '即使'\n291. '是'\n292. '有過'\n293. '這些'\n294. '病史'\n295. '的'\n296. '患者'\n297. '研究'\n298. '人員'\n299. '表示'\n300. '不'\n301. '排除'\n302. '新冠'\n303. '可能'\n304. '引起'\n305. '他們'\n306. '舊病復發'\n307. '的'\n308. '可能性'\n309. '倫敦'\n310. '國王'\n311. '學院'\n312. '精神病學'\n313. '心理學'\n314. '和'\n315. '神經科學'\n316. '研究所'\n317. '教授'\n318. '維克斯'\n319. '表示'\n320. '該'\n321. '研究'\n322. '證實'\n323. '了'\n324. '他們'\n325. '的'\n326. '懷疑'\n327. '即新冠'\n328. '診斷'\n329. '不但'\n330. '與'\n331. '呼吸道'\n332. '症狀'\n333. '有關'\n334. '而且'\n335. '還與'\n336. '精神'\n337. '和'\n338. '神經'\n339. '疾病'\n340. '有關'\n341. '她'\n342. '進一步'\n343. '表示'\n344. '從'\n345. '診斷'\n346. '後'\n347. '個'\n348. '月'\n349. '的'\n350. '時間'\n351. '來看'\n352. '證明'\n353. '了其'\n354. '後遺症'\n355. '可能'\n356. '比'\n357. '預期'\n358. '出現'\n359. '的'\n360. '要'\n361. '晚得'\n362. '多'\n363. '這對'\n364. '那些'\n365. '患新冠'\n366. '長期'\n367. '症狀'\n368. '的'\n369. '人'\n370. '來說'\n371. '並不'\n372. '奇怪'\n373. '她'\n374. '說'\n375. '儘管'\n376. '如'\n377. '預期'\n378. '那樣'\n379. '新冠'\n380. '住院'\n381. '者'\n382. '的'\n383. '後果'\n384. '更'\n385. '嚴重'\n386. '但'\n387. '研究'\n388. '也'\n389. '指出'\n390. '病毒'\n391. '對'\n392. '沒'\n393. '住院'\n394. '的'\n395. '感染者'\n396. '也'\n397. '會'\n398. '產生'\n399. '明顯'\n400. '的'\n401. '嚴重後果'\n\n\n",
            "text/html": [
              "<style>\n",
              ".list-inline {list-style: none; margin:0; padding: 0}\n",
              ".list-inline>li {display: inline-block}\n",
              ".list-inline>li:not(:last-child)::after {content: \"\\00b7\"; padding: 0 .5ex}\n",
              "</style>\n",
              "<ol class=list-inline><li>'研究'</li><li>'人員'</li><li>'發現'</li><li>'在'</li><li>'去過'</li><li>'個'</li><li>'月'</li><li>'確診'</li><li>'新冠'</li><li>'的'</li><li>'人'</li><li>'更'</li><li>'容易'</li><li>'患'</li><li>'抑鬱症'</li><li>'失智症'</li><li>'精神病'</li><li>'和'</li><li>'中風'</li><li>'三分之一'</li><li>'曾'</li><li>'感染'</li><li>'過'</li><li>'新冠病毒'</li><li>'的'</li><li>'人會'</li><li>'發展'</li><li>'成'</li><li>'心理'</li><li>'或'</li><li>'神經'</li><li>'方面'</li><li>'的'</li><li>'疾病'</li><li>'或是'</li><li>'導致'</li><li>'心理'</li><li>'或'</li><li>'神經'</li><li>'疾病'</li><li>'復發'</li><li>'而'</li><li>'那些'</li><li>'因為'</li><li>'新冠'</li><li>'住院'</li><li>'或是'</li><li>'需要'</li><li>'重症'</li><li>'監護'</li><li>'治療'</li><li>'的'</li><li>'人'</li><li>'風險'</li><li>'更高'</li><li>'這有'</li><li>'可能'</li><li>'是'</li><li>'由於'</li><li>'壓力'</li><li>'和'</li><li>'病毒'</li><li>'對'</li><li>'大腦'</li><li>'直接'</li><li>'影響'</li><li>'的'</li><li>'雙重'</li><li>'結果'</li><li>'英國'</li><li>'科學家'</li><li>'研究'</li><li>'了'</li><li>'美國'</li><li>'多萬'</li><li>'新冠'</li><li>'患者'</li><li>'的'</li><li>'電子'</li><li>'病例'</li><li>'記錄'</li><li>'以及'</li><li>'他們'</li><li>'患種'</li><li>'心理'</li><li>'或是'</li><li>'神經'</li><li>'疾病'</li><li>'的'</li><li>'可能性'</li><li>'它們'</li><li>'包括'</li><li>'腦出血'</li><li>'中風'</li><li>'帕金森症'</li><li>'格林－巴利綜合徵'</li><li>'失智症'</li><li>'精神'</li><li>'錯亂'</li><li>'或'</li><li>'稱思覺'</li><li>'失調'</li><li>'情緒'</li><li>'障礙'</li><li>'焦慮症'</li><li>'研究'</li><li>'人員'</li><li>'解釋'</li><li>'說'</li><li>'焦慮'</li><li>'和'</li><li>'情緒'</li><li>'障礙'</li><li>'是'</li><li>'新冠'</li><li>'患者'</li><li>'最'</li><li>'普遍'</li><li>'的'</li><li>'問題'</li><li>'它'</li><li>'更'</li><li>'可能'</li><li>'與'</li><li>'生病'</li><li>'或'</li><li>'住院'</li><li>'經歷'</li><li>'所'</li><li>'帶來'</li><li>'的'</li><li>'緊張'</li><li>'和'</li><li>'壓力'</li><li>'有關'</li><li>'但'</li><li>'中風'</li><li>'和'</li><li>'失智症'</li><li>'更'</li><li>'可能'</li><li>'是'</li><li>'病毒'</li><li>'本身'</li><li>'的'</li><li>'生理'</li><li>'影響'</li><li>'或是'</li><li>'患者'</li><li>'身體'</li><li>'對'</li><li>'感染'</li><li>'的'</li><li>'總體'</li><li>'反應'</li><li>'新冠並'</li><li>'沒有'</li><li>'增加'</li><li>'帕金森症'</li><li>'或'</li><li>'格林－巴利綜合徵'</li><li>'與'</li><li>'流感'</li><li>'有關'</li><li>'風險'</li><li>'英國'</li><li>'科學家'</li><li>'的'</li><li>'研究'</li><li>'屬於'</li><li>'觀察'</li><li>'性'</li><li>'研究'</li><li>'因此'</li><li>'研究'</li><li>'人員'</li><li>'無法'</li><li>'確定'</li><li>'究竟'</li><li>'是'</li><li>'新冠'</li><li>'引起'</li><li>'了'</li><li>'這些'</li><li>'病症'</li><li>'還是'</li><li>'有些'</li><li>'人'</li><li>'即便'</li><li>'沒有'</li><li>'感染'</li><li>'在'</li><li>'接下來'</li><li>'的'</li><li>'個'</li><li>'月'</li><li>'中'</li><li>'本來'</li><li>'也'</li><li>'會'</li><li>⋯</li><li>'著重'</li><li>'這'</li><li>'兩者之間'</li><li>'的'</li><li>'因果關係'</li><li>'她'</li><li>'說'</li><li>'重要'</li><li>'的'</li><li>'是'</li><li>'研究'</li><li>'人員'</li><li>'能夠'</li><li>'找到'</li><li>'這些'</li><li>'結果'</li><li>'背後'</li><li>'的'</li><li>'原因'</li><li>'牛津大學'</li><li>'神經學'</li><li>'教授'</li><li>'馬蘇德'</li><li>'侯賽因'</li><li>'解釋'</li><li>'說'</li><li>'有'</li><li>'證據'</li><li>'顯示'</li><li>'新冠病毒'</li><li>'可以'</li><li>'進入'</li><li>'大腦'</li><li>'並'</li><li>'造成'</li><li>'直接'</li><li>'的'</li><li>'傷害'</li><li>'它還'</li><li>'可以'</li><li>'有'</li><li>'其他'</li><li>'一些'</li><li>'間接'</li><li>'影響'</li><li>'例如'</li><li>'影響'</li><li>'血液'</li><li>'凝結'</li><li>'從而'</li><li>'導致'</li><li>'中風'</li><li>'同時'</li><li>'身體'</li><li>'在'</li><li>'對'</li><li>'新冠'</li><li>'感染'</li><li>'產生'</li><li>'反應'</li><li>'時'</li><li>'引起'</li><li>'的'</li><li>'普通'</li><li>'炎症'</li><li>'也'</li><li>'會'</li><li>'影響'</li><li>'大腦'</li><li>'對'</li><li>'三分之一'</li><li>'以上'</li><li>'出現'</li><li>'一種'</li><li>'或'</li><li>'多種'</li><li>'上述'</li><li>'疾病'</li><li>'的'</li><li>'人'</li><li>'來說'</li><li>'這是'</li><li>'他們'</li><li>'首次'</li><li>'確診'</li><li>'這些'</li><li>'疾病'</li><li>'但'</li><li>'即使'</li><li>'是'</li><li>'有過'</li><li>'這些'</li><li>'病史'</li><li>'的'</li><li>'患者'</li><li>'研究'</li><li>'人員'</li><li>'表示'</li><li>'不'</li><li>'排除'</li><li>'新冠'</li><li>'可能'</li><li>'引起'</li><li>'他們'</li><li>'舊病復發'</li><li>'的'</li><li>'可能性'</li><li>'倫敦'</li><li>'國王'</li><li>'學院'</li><li>'精神病學'</li><li>'心理學'</li><li>'和'</li><li>'神經科學'</li><li>'研究所'</li><li>'教授'</li><li>'維克斯'</li><li>'表示'</li><li>'該'</li><li>'研究'</li><li>'證實'</li><li>'了'</li><li>'他們'</li><li>'的'</li><li>'懷疑'</li><li>'即新冠'</li><li>'診斷'</li><li>'不但'</li><li>'與'</li><li>'呼吸道'</li><li>'症狀'</li><li>'有關'</li><li>'而且'</li><li>'還與'</li><li>'精神'</li><li>'和'</li><li>'神經'</li><li>'疾病'</li><li>'有關'</li><li>'她'</li><li>'進一步'</li><li>'表示'</li><li>'從'</li><li>'診斷'</li><li>'後'</li><li>'個'</li><li>'月'</li><li>'的'</li><li>'時間'</li><li>'來看'</li><li>'證明'</li><li>'了其'</li><li>'後遺症'</li><li>'可能'</li><li>'比'</li><li>'預期'</li><li>'出現'</li><li>'的'</li><li>'要'</li><li>'晚得'</li><li>'多'</li><li>'這對'</li><li>'那些'</li><li>'患新冠'</li><li>'長期'</li><li>'症狀'</li><li>'的'</li><li>'人'</li><li>'來說'</li><li>'並不'</li><li>'奇怪'</li><li>'她'</li><li>'說'</li><li>'儘管'</li><li>'如'</li><li>'預期'</li><li>'那樣'</li><li>'新冠'</li><li>'住院'</li><li>'者'</li><li>'的'</li><li>'後果'</li><li>'更'</li><li>'嚴重'</li><li>'但'</li><li>'研究'</li><li>'也'</li><li>'指出'</li><li>'病毒'</li><li>'對'</li><li>'沒'</li><li>'住院'</li><li>'的'</li><li>'感染者'</li><li>'也'</li><li>'會'</li><li>'產生'</li><li>'明顯'</li><li>'的'</li><li>'嚴重後果'</li></ol>\n"
            ]
          },
          "metadata": {
            "tags": []
          }
        }
      ]
    },
    {
      "cell_type": "code",
      "metadata": {
        "id": "5TogGHfbVqr2"
      },
      "source": [
        "new_words <- c(\"抑鬱症\",\"失智症\",\"精神病\",\"中風\",\"新冠病毒\",\"帕金森症\",\"格林－巴利綜合徵\")\n",
        "writeLines(new_words, \"new_words.txt\")"
      ],
      "execution_count": 68,
      "outputs": []
    },
    {
      "cell_type": "code",
      "metadata": {
        "id": "QgYPVYsDVxRb"
      },
      "source": [
        "stop_words <- c(\"在\",\"和\",\"或\",\"成\",\"人\",\"或是\",\"所\",\"的\",\"與\",\"有\",\"對\",\"並\",\"時\",\"更\",\"個\",\"月\",\"過\",\"而\",\"了\",\"到\",\"曾\",\"也\",\"會\",\"就\",\"為\",\"說\",\"是\",\"可能\",\"她\",\"則\",\"得\",\"把\",\"它還\",\"但是\",\"比\",\"多\",\"從\",\"相\",\"這\",\"但\",\"要\",\"該\",\"者\",\"不\",\"中\",\"如\",\"後\",\"性\")\n",
        "writeLines(stop_words, \"stop_words.txt\")"
      ],
      "execution_count": 69,
      "outputs": []
    },
    {
      "cell_type": "code",
      "metadata": {
        "colab": {
          "base_uri": "https://localhost:8080/",
          "height": 312
        },
        "id": "5faxY_ZeV0tJ",
        "outputId": "aeae921d-0bc7-4663-c924-16fceb8c63ce"
      },
      "source": [
        "cutter <- worker(user=\"new_words.txt\",stop_word=\"stop_words.txt\",bylines=FALSE)\n",
        "seg_words <- cutter[content]\n",
        "seg_words"
      ],
      "execution_count": 70,
      "outputs": [
        {
          "output_type": "display_data",
          "data": {
            "text/plain": [
              "  [1] \"研究\"             \"人員\"             \"發現\"            \n",
              "  [4] \"去過\"             \"確診\"             \"新冠\"            \n",
              "  [7] \"容易\"             \"患\"               \"抑鬱症\"          \n",
              " [10] \"失智症\"           \"精神病\"           \"中風\"            \n",
              " [13] \"三分之一\"         \"感染\"             \"新冠病毒\"        \n",
              " [16] \"人會\"             \"發展\"             \"心理\"            \n",
              " [19] \"神經\"             \"方面\"             \"疾病\"            \n",
              " [22] \"導致\"             \"心理\"             \"神經\"            \n",
              " [25] \"疾病\"             \"復發\"             \"那些\"            \n",
              " [28] \"因為\"             \"新冠\"             \"住院\"            \n",
              " [31] \"需要\"             \"重症\"             \"監護\"            \n",
              " [34] \"治療\"             \"風險\"             \"更高\"            \n",
              " [37] \"這有\"             \"由於\"             \"壓力\"            \n",
              " [40] \"病毒\"             \"大腦\"             \"直接\"            \n",
              " [43] \"影響\"             \"雙重\"             \"結果\"            \n",
              " [46] \"英國\"             \"科學家\"           \"研究\"            \n",
              " [49] \"美國\"             \"多萬\"             \"新冠\"            \n",
              " [52] \"患者\"             \"電子\"             \"病例\"            \n",
              " [55] \"記錄\"             \"以及\"             \"他們\"            \n",
              " [58] \"患種\"             \"心理\"             \"神經\"            \n",
              " [61] \"疾病\"             \"可能性\"           \"它們\"            \n",
              " [64] \"包括\"             \"腦出血\"           \"中風\"            \n",
              " [67] \"帕金森症\"         \"格林－巴利綜合徵\" \"失智症\"          \n",
              " [70] \"精神\"             \"錯亂\"             \"稱思覺\"          \n",
              " [73] \"失調\"             \"情緒\"             \"障礙\"            \n",
              " [76] \"焦慮症\"           \"研究\"             \"人員\"            \n",
              " [79] \"解釋\"             \"焦慮\"             \"情緒\"            \n",
              " [82] \"障礙\"             \"新冠\"             \"患者\"            \n",
              " [85] \"最\"               \"普遍\"             \"問題\"            \n",
              " [88] \"它\"               \"生病\"             \"住院\"            \n",
              " [91] \"經歷\"             \"帶來\"             \"緊張\"            \n",
              " [94] \"壓力\"             \"有關\"             \"中風\"            \n",
              " [97] \"失智症\"           \"病毒\"             \"本身\"            \n",
              "[100] \"生理\"             \"影響\"             \"患者\"            \n",
              "[103] \"身體\"             \"感染\"             \"總體\"            \n",
              "[106] \"反應\"             \"新冠並\"           \"沒有\"            \n",
              "[109] \"增加\"             \"帕金森症\"         \"格林－巴利綜合徵\"\n",
              "[112] \"流感\"             \"有關\"             \"風險\"            \n",
              "[115] \"英國\"             \"科學家\"           \"研究\"            \n",
              "[118] \"屬於\"             \"觀察\"             \"研究\"            \n",
              "[121] \"因此\"             \"研究\"             \"人員\"            \n",
              "[124] \"無法\"             \"確定\"             \"究竟\"            \n",
              "[127] \"新冠\"             \"引起\"             \"這些\"            \n",
              "[130] \"病症\"             \"還是\"             \"有些\"            \n",
              "[133] \"即便\"             \"沒有\"             \"感染\"            \n",
              "[136] \"接下來\"           \"本來\"             \"出現\"            \n",
              "[139] \"中風\"             \"抑鬱症\"           \"研究\"            \n",
              "[142] \"人員\"             \"過新冠\"           \"這組人\"          \n",
              "[145] \"另外\"             \"兩組\"             \"人群\"            \n",
              "[148] \"流感\"             \"人群\"             \"呼吸道\"          \n",
              "[151] \"感染\"             \"人群\"             \"比較\"            \n",
              "[154] \"牛津大學\"         \"研究\"             \"人員\"            \n",
              "[157] \"得出結論\"         \"與其\"             \"他\"              \n",
              "[160] \"呼吸道\"           \"疾病\"             \"人士\"            \n",
              "[163] \"相比\"             \"新冠\"             \"患者\"            \n",
              "[166] \"隨後\"             \"患\"               \"大腦\"            \n",
              "[169] \"相關\"             \"疾病\"             \"可能性\"          \n",
              "[172] \"更高\"             \"可比性\"           \"研究\"            \n",
              "[175] \"人員\"             \"根據\"             \"研究\"            \n",
              "[178] \"對象\"             \"年齡\"             \"性別\"            \n",
              "[181] \"種族\"             \"健康狀況\"         \"進行\"            \n",
              "[184] \"匹配\"             \"結果\"             \"發現\"            \n",
              "[187] \"得過\"             \"新冠\"             \"其他\"            \n",
              "[190] \"呼吸道\"           \"感染者\"           \"患\"              \n",
              "[193] \"心理\"             \"神經\"             \"疾病\"            \n",
              "[196] \"可能性\"           \"高\"               \"同時\"            \n",
              "[199] \"流感\"             \"愈\"               \"後者\"            \n",
              "[202] \"高\"               \"不僅如此\"         \"新冠\"            \n",
              "[205] \"病情\"             \"越重\"             \"他們\"            \n",
              "[208] \"之後\"             \"被\"               \"診斷\"            \n",
              "[211] \"出\"               \"精神\"             \"腦部\"            \n",
              "[214] \"疾病\"             \"可能性\"           \"越\"              \n",
              "[217] \"高\"               \"新冠病毒\"         \"感染者\"          \n",
              "[220] \"出現\"             \"情緒\"             \"問題\"            \n",
              "[223] \"焦慮\"             \"精神性\"           \"疾病\"            \n",
              "[226] \"新冠\"             \"住院\"             \"患者\"            \n",
              "[229] \"這一\"             \"比例\"             \"上升\"            \n",
              "[232] \"重症\"             \"監護\"             \"患者\"            \n",
              "[235] \"中則\"             \"如果\"             \"生病\"            \n",
              "[238] \"期間\"             \"還\"               \"出現\"            \n",
              "[241] \"譫妄\"             \"比例\"             \"高\"              \n",
              "[244] \"達到\"             \"所有\"             \"新冠\"            \n",
              "[247] \"患者\"             \"中有\"             \"受到\"            \n",
              "[250] \"中風\"             \"影響\"             \"那些\"            \n",
              "[253] \"重症\"             \"病房\"             \"接受\"            \n",
              "[256] \"治療\"             \"患者\"             \"中風\"            \n",
              "[259] \"比例\"             \"上升\"             \"出現\"            \n",
              "[262] \"譫妄\"             \"患者\"             \"中風\"            \n",
              "[265] \"比例\"             \"則為\"             \"所有\"            \n",
              "[268] \"新冠\"             \"患者\"             \"確診\"            \n",
              "[271] \"失智症\"           \"比例\"             \"新冠\"            \n",
              "[274] \"譫妄\"             \"症\"               \"病人\"            \n",
              "[277] \"比例\"             \"高達\"             \"英國\"            \n",
              "[280] \"阿爾茨海默氏症\"   \"研究\"             \"部門\"            \n",
              "[283] \"負責人\"           \"薩拉\"             \"伊瑪\"            \n",
              "[286] \"瑞索\"             \"博士\"             \"表示\"            \n",
              "[289] \"之前\"             \"研究\"             \"強調\"            \n",
              "[292] \"失智症\"           \"患者\"             \"患新冠\"          \n",
              "[295] \"重症\"             \"風險\"             \"更高\"            \n",
              "[298] \"這項\"             \"新\"               \"研究\"            \n",
              "[301] \"調查\"             \"兩者之間\"         \"反過來\"          \n",
              "[304] \"關係\"             \"成立\"             \"伊瑪\"            \n",
              "[307] \"瑞索\"             \"博士\"             \"研究\"            \n",
              "[310] \"沒有\"             \"特別\"             \"著重\"            \n",
              "[313] \"兩者之間\"         \"因果關係\"         \"重要\"            \n",
              "[316] \"研究\"             \"人員\"             \"能夠\"            \n",
              "[319] \"找到\"             \"這些\"             \"結果\"            \n",
              "[322] \"背後\"             \"原因\"             \"牛津大學\"        \n",
              "[325] \"神經學\"           \"教授\"             \"馬蘇德\"          \n",
              "[328] \"侯賽因\"           \"解釋\"             \"證據\"            \n",
              "[331] \"顯示\"             \"新冠病毒\"         \"可以\"            \n",
              "[334] \"進入\"             \"大腦\"             \"造成\"            \n",
              "[337] \"直接\"             \"傷害\"             \"可以\"            \n",
              "[340] \"其他\"             \"一些\"             \"間接\"            \n",
              "[343] \"影響\"             \"例如\"             \"影響\"            \n",
              "[346] \"血液\"             \"凝結\"             \"從而\"            \n",
              "[349] \"導致\"             \"中風\"             \"同時\"            \n",
              "[352] \"身體\"             \"新冠\"             \"感染\"            \n",
              "[355] \"產生\"             \"反應\"             \"引起\"            \n",
              "[358] \"普通\"             \"炎症\"             \"影響\"            \n",
              "[361] \"大腦\"             \"三分之一\"         \"以上\"            \n",
              "[364] \"出現\"             \"一種\"             \"多種\"            \n",
              "[367] \"上述\"             \"疾病\"             \"來說\"            \n",
              "[370] \"這是\"             \"他們\"             \"首次\"            \n",
              "[373] \"確診\"             \"這些\"             \"疾病\"            \n",
              "[376] \"即使\"             \"有過\"             \"這些\"            \n",
              "[379] \"病史\"             \"患者\"             \"研究\"            \n",
              "[382] \"人員\"             \"表示\"             \"排除\"            \n",
              "[385] \"新冠\"             \"引起\"             \"他們\"            \n",
              "[388] \"舊病復發\"         \"可能性\"           \"倫敦\"            \n",
              "[391] \"國王\"             \"學院\"             \"精神病學\"        \n",
              "[394] \"心理學\"           \"神經科學\"         \"研究所\"          \n",
              "[397] \"教授\"             \"維克斯\"           \"表示\"            \n",
              "[400] \"研究\"             \"證實\"             \"他們\"            \n",
              "[403] \"懷疑\"             \"即新冠\"           \"診斷\"            \n",
              "[406] \"不但\"             \"呼吸道\"           \"症狀\"            \n",
              "[409] \"有關\"             \"而且\"             \"還與\"            \n",
              "[412] \"精神\"             \"神經\"             \"疾病\"            \n",
              "[415] \"有關\"             \"進一步\"           \"表示\"            \n",
              "[418] \"診斷\"             \"時間\"             \"來看\"            \n",
              "[421] \"證明\"             \"了其\"             \"後遺症\"          \n",
              "[424] \"預期\"             \"出現\"             \"晚得\"            \n",
              "[427] \"這對\"             \"那些\"             \"患新冠\"          \n",
              "[430] \"長期\"             \"症狀\"             \"來說\"            \n",
              "[433] \"並不\"             \"奇怪\"             \"儘管\"            \n",
              "[436] \"預期\"             \"那樣\"             \"新冠\"            \n",
              "[439] \"住院\"             \"後果\"             \"嚴重\"            \n",
              "[442] \"研究\"             \"指出\"             \"病毒\"            \n",
              "[445] \"沒\"               \"住院\"             \"感染者\"          \n",
              "[448] \"產生\"             \"明顯\"             \"嚴重後果\"        "
            ],
            "text/latex": "\\begin{enumerate*}\n\\item '研究'\n\\item '人員'\n\\item '發現'\n\\item '去過'\n\\item '確診'\n\\item '新冠'\n\\item '容易'\n\\item '患'\n\\item '抑鬱症'\n\\item '失智症'\n\\item '精神病'\n\\item '中風'\n\\item '三分之一'\n\\item '感染'\n\\item '新冠病毒'\n\\item '人會'\n\\item '發展'\n\\item '心理'\n\\item '神經'\n\\item '方面'\n\\item '疾病'\n\\item '導致'\n\\item '心理'\n\\item '神經'\n\\item '疾病'\n\\item '復發'\n\\item '那些'\n\\item '因為'\n\\item '新冠'\n\\item '住院'\n\\item '需要'\n\\item '重症'\n\\item '監護'\n\\item '治療'\n\\item '風險'\n\\item '更高'\n\\item '這有'\n\\item '由於'\n\\item '壓力'\n\\item '病毒'\n\\item '大腦'\n\\item '直接'\n\\item '影響'\n\\item '雙重'\n\\item '結果'\n\\item '英國'\n\\item '科學家'\n\\item '研究'\n\\item '美國'\n\\item '多萬'\n\\item '新冠'\n\\item '患者'\n\\item '電子'\n\\item '病例'\n\\item '記錄'\n\\item '以及'\n\\item '他們'\n\\item '患種'\n\\item '心理'\n\\item '神經'\n\\item '疾病'\n\\item '可能性'\n\\item '它們'\n\\item '包括'\n\\item '腦出血'\n\\item '中風'\n\\item '帕金森症'\n\\item '格林－巴利綜合徵'\n\\item '失智症'\n\\item '精神'\n\\item '錯亂'\n\\item '稱思覺'\n\\item '失調'\n\\item '情緒'\n\\item '障礙'\n\\item '焦慮症'\n\\item '研究'\n\\item '人員'\n\\item '解釋'\n\\item '焦慮'\n\\item '情緒'\n\\item '障礙'\n\\item '新冠'\n\\item '患者'\n\\item '最'\n\\item '普遍'\n\\item '問題'\n\\item '它'\n\\item '生病'\n\\item '住院'\n\\item '經歷'\n\\item '帶來'\n\\item '緊張'\n\\item '壓力'\n\\item '有關'\n\\item '中風'\n\\item '失智症'\n\\item '病毒'\n\\item '本身'\n\\item '生理'\n\\item '影響'\n\\item '患者'\n\\item '身體'\n\\item '感染'\n\\item '總體'\n\\item '反應'\n\\item '新冠並'\n\\item '沒有'\n\\item '增加'\n\\item '帕金森症'\n\\item '格林－巴利綜合徵'\n\\item '流感'\n\\item '有關'\n\\item '風險'\n\\item '英國'\n\\item '科學家'\n\\item '研究'\n\\item '屬於'\n\\item '觀察'\n\\item '研究'\n\\item '因此'\n\\item '研究'\n\\item '人員'\n\\item '無法'\n\\item '確定'\n\\item '究竟'\n\\item '新冠'\n\\item '引起'\n\\item '這些'\n\\item '病症'\n\\item '還是'\n\\item '有些'\n\\item '即便'\n\\item '沒有'\n\\item '感染'\n\\item '接下來'\n\\item '本來'\n\\item '出現'\n\\item '中風'\n\\item '抑鬱症'\n\\item '研究'\n\\item '人員'\n\\item '過新冠'\n\\item '這組人'\n\\item '另外'\n\\item '兩組'\n\\item '人群'\n\\item '流感'\n\\item '人群'\n\\item '呼吸道'\n\\item '感染'\n\\item '人群'\n\\item '比較'\n\\item '牛津大學'\n\\item '研究'\n\\item '人員'\n\\item '得出結論'\n\\item '與其'\n\\item '他'\n\\item '呼吸道'\n\\item '疾病'\n\\item '人士'\n\\item '相比'\n\\item '新冠'\n\\item '患者'\n\\item '隨後'\n\\item '患'\n\\item '大腦'\n\\item '相關'\n\\item '疾病'\n\\item '可能性'\n\\item '更高'\n\\item '可比性'\n\\item '研究'\n\\item '人員'\n\\item '根據'\n\\item '研究'\n\\item '對象'\n\\item '年齡'\n\\item '性別'\n\\item '種族'\n\\item '健康狀況'\n\\item '進行'\n\\item '匹配'\n\\item '結果'\n\\item '發現'\n\\item '得過'\n\\item '新冠'\n\\item '其他'\n\\item '呼吸道'\n\\item '感染者'\n\\item '患'\n\\item '心理'\n\\item '神經'\n\\item '疾病'\n\\item '可能性'\n\\item '高'\n\\item '同時'\n\\item '流感'\n\\item '愈'\n\\item ⋯\n\\item '影響'\n\\item '那些'\n\\item '重症'\n\\item '病房'\n\\item '接受'\n\\item '治療'\n\\item '患者'\n\\item '中風'\n\\item '比例'\n\\item '上升'\n\\item '出現'\n\\item '譫妄'\n\\item '患者'\n\\item '中風'\n\\item '比例'\n\\item '則為'\n\\item '所有'\n\\item '新冠'\n\\item '患者'\n\\item '確診'\n\\item '失智症'\n\\item '比例'\n\\item '新冠'\n\\item '譫妄'\n\\item '症'\n\\item '病人'\n\\item '比例'\n\\item '高達'\n\\item '英國'\n\\item '阿爾茨海默氏症'\n\\item '研究'\n\\item '部門'\n\\item '負責人'\n\\item '薩拉'\n\\item '伊瑪'\n\\item '瑞索'\n\\item '博士'\n\\item '表示'\n\\item '之前'\n\\item '研究'\n\\item '強調'\n\\item '失智症'\n\\item '患者'\n\\item '患新冠'\n\\item '重症'\n\\item '風險'\n\\item '更高'\n\\item '這項'\n\\item '新'\n\\item '研究'\n\\item '調查'\n\\item '兩者之間'\n\\item '反過來'\n\\item '關係'\n\\item '成立'\n\\item '伊瑪'\n\\item '瑞索'\n\\item '博士'\n\\item '研究'\n\\item '沒有'\n\\item '特別'\n\\item '著重'\n\\item '兩者之間'\n\\item '因果關係'\n\\item '重要'\n\\item '研究'\n\\item '人員'\n\\item '能夠'\n\\item '找到'\n\\item '這些'\n\\item '結果'\n\\item '背後'\n\\item '原因'\n\\item '牛津大學'\n\\item '神經學'\n\\item '教授'\n\\item '馬蘇德'\n\\item '侯賽因'\n\\item '解釋'\n\\item '證據'\n\\item '顯示'\n\\item '新冠病毒'\n\\item '可以'\n\\item '進入'\n\\item '大腦'\n\\item '造成'\n\\item '直接'\n\\item '傷害'\n\\item '可以'\n\\item '其他'\n\\item '一些'\n\\item '間接'\n\\item '影響'\n\\item '例如'\n\\item '影響'\n\\item '血液'\n\\item '凝結'\n\\item '從而'\n\\item '導致'\n\\item '中風'\n\\item '同時'\n\\item '身體'\n\\item '新冠'\n\\item '感染'\n\\item '產生'\n\\item '反應'\n\\item '引起'\n\\item '普通'\n\\item '炎症'\n\\item '影響'\n\\item '大腦'\n\\item '三分之一'\n\\item '以上'\n\\item '出現'\n\\item '一種'\n\\item '多種'\n\\item '上述'\n\\item '疾病'\n\\item '來說'\n\\item '這是'\n\\item '他們'\n\\item '首次'\n\\item '確診'\n\\item '這些'\n\\item '疾病'\n\\item '即使'\n\\item '有過'\n\\item '這些'\n\\item '病史'\n\\item '患者'\n\\item '研究'\n\\item '人員'\n\\item '表示'\n\\item '排除'\n\\item '新冠'\n\\item '引起'\n\\item '他們'\n\\item '舊病復發'\n\\item '可能性'\n\\item '倫敦'\n\\item '國王'\n\\item '學院'\n\\item '精神病學'\n\\item '心理學'\n\\item '神經科學'\n\\item '研究所'\n\\item '教授'\n\\item '維克斯'\n\\item '表示'\n\\item '研究'\n\\item '證實'\n\\item '他們'\n\\item '懷疑'\n\\item '即新冠'\n\\item '診斷'\n\\item '不但'\n\\item '呼吸道'\n\\item '症狀'\n\\item '有關'\n\\item '而且'\n\\item '還與'\n\\item '精神'\n\\item '神經'\n\\item '疾病'\n\\item '有關'\n\\item '進一步'\n\\item '表示'\n\\item '診斷'\n\\item '時間'\n\\item '來看'\n\\item '證明'\n\\item '了其'\n\\item '後遺症'\n\\item '預期'\n\\item '出現'\n\\item '晚得'\n\\item '這對'\n\\item '那些'\n\\item '患新冠'\n\\item '長期'\n\\item '症狀'\n\\item '來說'\n\\item '並不'\n\\item '奇怪'\n\\item '儘管'\n\\item '預期'\n\\item '那樣'\n\\item '新冠'\n\\item '住院'\n\\item '後果'\n\\item '嚴重'\n\\item '研究'\n\\item '指出'\n\\item '病毒'\n\\item '沒'\n\\item '住院'\n\\item '感染者'\n\\item '產生'\n\\item '明顯'\n\\item '嚴重後果'\n\\end{enumerate*}\n",
            "text/markdown": "1. '研究'\n2. '人員'\n3. '發現'\n4. '去過'\n5. '確診'\n6. '新冠'\n7. '容易'\n8. '患'\n9. '抑鬱症'\n10. '失智症'\n11. '精神病'\n12. '中風'\n13. '三分之一'\n14. '感染'\n15. '新冠病毒'\n16. '人會'\n17. '發展'\n18. '心理'\n19. '神經'\n20. '方面'\n21. '疾病'\n22. '導致'\n23. '心理'\n24. '神經'\n25. '疾病'\n26. '復發'\n27. '那些'\n28. '因為'\n29. '新冠'\n30. '住院'\n31. '需要'\n32. '重症'\n33. '監護'\n34. '治療'\n35. '風險'\n36. '更高'\n37. '這有'\n38. '由於'\n39. '壓力'\n40. '病毒'\n41. '大腦'\n42. '直接'\n43. '影響'\n44. '雙重'\n45. '結果'\n46. '英國'\n47. '科學家'\n48. '研究'\n49. '美國'\n50. '多萬'\n51. '新冠'\n52. '患者'\n53. '電子'\n54. '病例'\n55. '記錄'\n56. '以及'\n57. '他們'\n58. '患種'\n59. '心理'\n60. '神經'\n61. '疾病'\n62. '可能性'\n63. '它們'\n64. '包括'\n65. '腦出血'\n66. '中風'\n67. '帕金森症'\n68. '格林－巴利綜合徵'\n69. '失智症'\n70. '精神'\n71. '錯亂'\n72. '稱思覺'\n73. '失調'\n74. '情緒'\n75. '障礙'\n76. '焦慮症'\n77. '研究'\n78. '人員'\n79. '解釋'\n80. '焦慮'\n81. '情緒'\n82. '障礙'\n83. '新冠'\n84. '患者'\n85. '最'\n86. '普遍'\n87. '問題'\n88. '它'\n89. '生病'\n90. '住院'\n91. '經歷'\n92. '帶來'\n93. '緊張'\n94. '壓力'\n95. '有關'\n96. '中風'\n97. '失智症'\n98. '病毒'\n99. '本身'\n100. '生理'\n101. '影響'\n102. '患者'\n103. '身體'\n104. '感染'\n105. '總體'\n106. '反應'\n107. '新冠並'\n108. '沒有'\n109. '增加'\n110. '帕金森症'\n111. '格林－巴利綜合徵'\n112. '流感'\n113. '有關'\n114. '風險'\n115. '英國'\n116. '科學家'\n117. '研究'\n118. '屬於'\n119. '觀察'\n120. '研究'\n121. '因此'\n122. '研究'\n123. '人員'\n124. '無法'\n125. '確定'\n126. '究竟'\n127. '新冠'\n128. '引起'\n129. '這些'\n130. '病症'\n131. '還是'\n132. '有些'\n133. '即便'\n134. '沒有'\n135. '感染'\n136. '接下來'\n137. '本來'\n138. '出現'\n139. '中風'\n140. '抑鬱症'\n141. '研究'\n142. '人員'\n143. '過新冠'\n144. '這組人'\n145. '另外'\n146. '兩組'\n147. '人群'\n148. '流感'\n149. '人群'\n150. '呼吸道'\n151. '感染'\n152. '人群'\n153. '比較'\n154. '牛津大學'\n155. '研究'\n156. '人員'\n157. '得出結論'\n158. '與其'\n159. '他'\n160. '呼吸道'\n161. '疾病'\n162. '人士'\n163. '相比'\n164. '新冠'\n165. '患者'\n166. '隨後'\n167. '患'\n168. '大腦'\n169. '相關'\n170. '疾病'\n171. '可能性'\n172. '更高'\n173. '可比性'\n174. '研究'\n175. '人員'\n176. '根據'\n177. '研究'\n178. '對象'\n179. '年齡'\n180. '性別'\n181. '種族'\n182. '健康狀況'\n183. '進行'\n184. '匹配'\n185. '結果'\n186. '發現'\n187. '得過'\n188. '新冠'\n189. '其他'\n190. '呼吸道'\n191. '感染者'\n192. '患'\n193. '心理'\n194. '神經'\n195. '疾病'\n196. '可能性'\n197. '高'\n198. '同時'\n199. '流感'\n200. '愈'\n201. ⋯\n202. '影響'\n203. '那些'\n204. '重症'\n205. '病房'\n206. '接受'\n207. '治療'\n208. '患者'\n209. '中風'\n210. '比例'\n211. '上升'\n212. '出現'\n213. '譫妄'\n214. '患者'\n215. '中風'\n216. '比例'\n217. '則為'\n218. '所有'\n219. '新冠'\n220. '患者'\n221. '確診'\n222. '失智症'\n223. '比例'\n224. '新冠'\n225. '譫妄'\n226. '症'\n227. '病人'\n228. '比例'\n229. '高達'\n230. '英國'\n231. '阿爾茨海默氏症'\n232. '研究'\n233. '部門'\n234. '負責人'\n235. '薩拉'\n236. '伊瑪'\n237. '瑞索'\n238. '博士'\n239. '表示'\n240. '之前'\n241. '研究'\n242. '強調'\n243. '失智症'\n244. '患者'\n245. '患新冠'\n246. '重症'\n247. '風險'\n248. '更高'\n249. '這項'\n250. '新'\n251. '研究'\n252. '調查'\n253. '兩者之間'\n254. '反過來'\n255. '關係'\n256. '成立'\n257. '伊瑪'\n258. '瑞索'\n259. '博士'\n260. '研究'\n261. '沒有'\n262. '特別'\n263. '著重'\n264. '兩者之間'\n265. '因果關係'\n266. '重要'\n267. '研究'\n268. '人員'\n269. '能夠'\n270. '找到'\n271. '這些'\n272. '結果'\n273. '背後'\n274. '原因'\n275. '牛津大學'\n276. '神經學'\n277. '教授'\n278. '馬蘇德'\n279. '侯賽因'\n280. '解釋'\n281. '證據'\n282. '顯示'\n283. '新冠病毒'\n284. '可以'\n285. '進入'\n286. '大腦'\n287. '造成'\n288. '直接'\n289. '傷害'\n290. '可以'\n291. '其他'\n292. '一些'\n293. '間接'\n294. '影響'\n295. '例如'\n296. '影響'\n297. '血液'\n298. '凝結'\n299. '從而'\n300. '導致'\n301. '中風'\n302. '同時'\n303. '身體'\n304. '新冠'\n305. '感染'\n306. '產生'\n307. '反應'\n308. '引起'\n309. '普通'\n310. '炎症'\n311. '影響'\n312. '大腦'\n313. '三分之一'\n314. '以上'\n315. '出現'\n316. '一種'\n317. '多種'\n318. '上述'\n319. '疾病'\n320. '來說'\n321. '這是'\n322. '他們'\n323. '首次'\n324. '確診'\n325. '這些'\n326. '疾病'\n327. '即使'\n328. '有過'\n329. '這些'\n330. '病史'\n331. '患者'\n332. '研究'\n333. '人員'\n334. '表示'\n335. '排除'\n336. '新冠'\n337. '引起'\n338. '他們'\n339. '舊病復發'\n340. '可能性'\n341. '倫敦'\n342. '國王'\n343. '學院'\n344. '精神病學'\n345. '心理學'\n346. '神經科學'\n347. '研究所'\n348. '教授'\n349. '維克斯'\n350. '表示'\n351. '研究'\n352. '證實'\n353. '他們'\n354. '懷疑'\n355. '即新冠'\n356. '診斷'\n357. '不但'\n358. '呼吸道'\n359. '症狀'\n360. '有關'\n361. '而且'\n362. '還與'\n363. '精神'\n364. '神經'\n365. '疾病'\n366. '有關'\n367. '進一步'\n368. '表示'\n369. '診斷'\n370. '時間'\n371. '來看'\n372. '證明'\n373. '了其'\n374. '後遺症'\n375. '預期'\n376. '出現'\n377. '晚得'\n378. '這對'\n379. '那些'\n380. '患新冠'\n381. '長期'\n382. '症狀'\n383. '來說'\n384. '並不'\n385. '奇怪'\n386. '儘管'\n387. '預期'\n388. '那樣'\n389. '新冠'\n390. '住院'\n391. '後果'\n392. '嚴重'\n393. '研究'\n394. '指出'\n395. '病毒'\n396. '沒'\n397. '住院'\n398. '感染者'\n399. '產生'\n400. '明顯'\n401. '嚴重後果'\n\n\n",
            "text/html": [
              "<style>\n",
              ".list-inline {list-style: none; margin:0; padding: 0}\n",
              ".list-inline>li {display: inline-block}\n",
              ".list-inline>li:not(:last-child)::after {content: \"\\00b7\"; padding: 0 .5ex}\n",
              "</style>\n",
              "<ol class=list-inline><li>'研究'</li><li>'人員'</li><li>'發現'</li><li>'去過'</li><li>'確診'</li><li>'新冠'</li><li>'容易'</li><li>'患'</li><li>'抑鬱症'</li><li>'失智症'</li><li>'精神病'</li><li>'中風'</li><li>'三分之一'</li><li>'感染'</li><li>'新冠病毒'</li><li>'人會'</li><li>'發展'</li><li>'心理'</li><li>'神經'</li><li>'方面'</li><li>'疾病'</li><li>'導致'</li><li>'心理'</li><li>'神經'</li><li>'疾病'</li><li>'復發'</li><li>'那些'</li><li>'因為'</li><li>'新冠'</li><li>'住院'</li><li>'需要'</li><li>'重症'</li><li>'監護'</li><li>'治療'</li><li>'風險'</li><li>'更高'</li><li>'這有'</li><li>'由於'</li><li>'壓力'</li><li>'病毒'</li><li>'大腦'</li><li>'直接'</li><li>'影響'</li><li>'雙重'</li><li>'結果'</li><li>'英國'</li><li>'科學家'</li><li>'研究'</li><li>'美國'</li><li>'多萬'</li><li>'新冠'</li><li>'患者'</li><li>'電子'</li><li>'病例'</li><li>'記錄'</li><li>'以及'</li><li>'他們'</li><li>'患種'</li><li>'心理'</li><li>'神經'</li><li>'疾病'</li><li>'可能性'</li><li>'它們'</li><li>'包括'</li><li>'腦出血'</li><li>'中風'</li><li>'帕金森症'</li><li>'格林－巴利綜合徵'</li><li>'失智症'</li><li>'精神'</li><li>'錯亂'</li><li>'稱思覺'</li><li>'失調'</li><li>'情緒'</li><li>'障礙'</li><li>'焦慮症'</li><li>'研究'</li><li>'人員'</li><li>'解釋'</li><li>'焦慮'</li><li>'情緒'</li><li>'障礙'</li><li>'新冠'</li><li>'患者'</li><li>'最'</li><li>'普遍'</li><li>'問題'</li><li>'它'</li><li>'生病'</li><li>'住院'</li><li>'經歷'</li><li>'帶來'</li><li>'緊張'</li><li>'壓力'</li><li>'有關'</li><li>'中風'</li><li>'失智症'</li><li>'病毒'</li><li>'本身'</li><li>'生理'</li><li>'影響'</li><li>'患者'</li><li>'身體'</li><li>'感染'</li><li>'總體'</li><li>'反應'</li><li>'新冠並'</li><li>'沒有'</li><li>'增加'</li><li>'帕金森症'</li><li>'格林－巴利綜合徵'</li><li>'流感'</li><li>'有關'</li><li>'風險'</li><li>'英國'</li><li>'科學家'</li><li>'研究'</li><li>'屬於'</li><li>'觀察'</li><li>'研究'</li><li>'因此'</li><li>'研究'</li><li>'人員'</li><li>'無法'</li><li>'確定'</li><li>'究竟'</li><li>'新冠'</li><li>'引起'</li><li>'這些'</li><li>'病症'</li><li>'還是'</li><li>'有些'</li><li>'即便'</li><li>'沒有'</li><li>'感染'</li><li>'接下來'</li><li>'本來'</li><li>'出現'</li><li>'中風'</li><li>'抑鬱症'</li><li>'研究'</li><li>'人員'</li><li>'過新冠'</li><li>'這組人'</li><li>'另外'</li><li>'兩組'</li><li>'人群'</li><li>'流感'</li><li>'人群'</li><li>'呼吸道'</li><li>'感染'</li><li>'人群'</li><li>'比較'</li><li>'牛津大學'</li><li>'研究'</li><li>'人員'</li><li>'得出結論'</li><li>'與其'</li><li>'他'</li><li>'呼吸道'</li><li>'疾病'</li><li>'人士'</li><li>'相比'</li><li>'新冠'</li><li>'患者'</li><li>'隨後'</li><li>'患'</li><li>'大腦'</li><li>'相關'</li><li>'疾病'</li><li>'可能性'</li><li>'更高'</li><li>'可比性'</li><li>'研究'</li><li>'人員'</li><li>'根據'</li><li>'研究'</li><li>'對象'</li><li>'年齡'</li><li>'性別'</li><li>'種族'</li><li>'健康狀況'</li><li>'進行'</li><li>'匹配'</li><li>'結果'</li><li>'發現'</li><li>'得過'</li><li>'新冠'</li><li>'其他'</li><li>'呼吸道'</li><li>'感染者'</li><li>'患'</li><li>'心理'</li><li>'神經'</li><li>'疾病'</li><li>'可能性'</li><li>'高'</li><li>'同時'</li><li>'流感'</li><li>'愈'</li><li>⋯</li><li>'影響'</li><li>'那些'</li><li>'重症'</li><li>'病房'</li><li>'接受'</li><li>'治療'</li><li>'患者'</li><li>'中風'</li><li>'比例'</li><li>'上升'</li><li>'出現'</li><li>'譫妄'</li><li>'患者'</li><li>'中風'</li><li>'比例'</li><li>'則為'</li><li>'所有'</li><li>'新冠'</li><li>'患者'</li><li>'確診'</li><li>'失智症'</li><li>'比例'</li><li>'新冠'</li><li>'譫妄'</li><li>'症'</li><li>'病人'</li><li>'比例'</li><li>'高達'</li><li>'英國'</li><li>'阿爾茨海默氏症'</li><li>'研究'</li><li>'部門'</li><li>'負責人'</li><li>'薩拉'</li><li>'伊瑪'</li><li>'瑞索'</li><li>'博士'</li><li>'表示'</li><li>'之前'</li><li>'研究'</li><li>'強調'</li><li>'失智症'</li><li>'患者'</li><li>'患新冠'</li><li>'重症'</li><li>'風險'</li><li>'更高'</li><li>'這項'</li><li>'新'</li><li>'研究'</li><li>'調查'</li><li>'兩者之間'</li><li>'反過來'</li><li>'關係'</li><li>'成立'</li><li>'伊瑪'</li><li>'瑞索'</li><li>'博士'</li><li>'研究'</li><li>'沒有'</li><li>'特別'</li><li>'著重'</li><li>'兩者之間'</li><li>'因果關係'</li><li>'重要'</li><li>'研究'</li><li>'人員'</li><li>'能夠'</li><li>'找到'</li><li>'這些'</li><li>'結果'</li><li>'背後'</li><li>'原因'</li><li>'牛津大學'</li><li>'神經學'</li><li>'教授'</li><li>'馬蘇德'</li><li>'侯賽因'</li><li>'解釋'</li><li>'證據'</li><li>'顯示'</li><li>'新冠病毒'</li><li>'可以'</li><li>'進入'</li><li>'大腦'</li><li>'造成'</li><li>'直接'</li><li>'傷害'</li><li>'可以'</li><li>'其他'</li><li>'一些'</li><li>'間接'</li><li>'影響'</li><li>'例如'</li><li>'影響'</li><li>'血液'</li><li>'凝結'</li><li>'從而'</li><li>'導致'</li><li>'中風'</li><li>'同時'</li><li>'身體'</li><li>'新冠'</li><li>'感染'</li><li>'產生'</li><li>'反應'</li><li>'引起'</li><li>'普通'</li><li>'炎症'</li><li>'影響'</li><li>'大腦'</li><li>'三分之一'</li><li>'以上'</li><li>'出現'</li><li>'一種'</li><li>'多種'</li><li>'上述'</li><li>'疾病'</li><li>'來說'</li><li>'這是'</li><li>'他們'</li><li>'首次'</li><li>'確診'</li><li>'這些'</li><li>'疾病'</li><li>'即使'</li><li>'有過'</li><li>'這些'</li><li>'病史'</li><li>'患者'</li><li>'研究'</li><li>'人員'</li><li>'表示'</li><li>'排除'</li><li>'新冠'</li><li>'引起'</li><li>'他們'</li><li>'舊病復發'</li><li>'可能性'</li><li>'倫敦'</li><li>'國王'</li><li>'學院'</li><li>'精神病學'</li><li>'心理學'</li><li>'神經科學'</li><li>'研究所'</li><li>'教授'</li><li>'維克斯'</li><li>'表示'</li><li>'研究'</li><li>'證實'</li><li>'他們'</li><li>'懷疑'</li><li>'即新冠'</li><li>'診斷'</li><li>'不但'</li><li>'呼吸道'</li><li>'症狀'</li><li>'有關'</li><li>'而且'</li><li>'還與'</li><li>'精神'</li><li>'神經'</li><li>'疾病'</li><li>'有關'</li><li>'進一步'</li><li>'表示'</li><li>'診斷'</li><li>'時間'</li><li>'來看'</li><li>'證明'</li><li>'了其'</li><li>'後遺症'</li><li>'預期'</li><li>'出現'</li><li>'晚得'</li><li>'這對'</li><li>'那些'</li><li>'患新冠'</li><li>'長期'</li><li>'症狀'</li><li>'來說'</li><li>'並不'</li><li>'奇怪'</li><li>'儘管'</li><li>'預期'</li><li>'那樣'</li><li>'新冠'</li><li>'住院'</li><li>'後果'</li><li>'嚴重'</li><li>'研究'</li><li>'指出'</li><li>'病毒'</li><li>'沒'</li><li>'住院'</li><li>'感染者'</li><li>'產生'</li><li>'明顯'</li><li>'嚴重後果'</li></ol>\n"
            ]
          },
          "metadata": {
            "tags": []
          }
        }
      ]
    },
    {
      "cell_type": "code",
      "metadata": {
        "id": "7z0iXssAV2P0"
      },
      "source": [
        "#計算詞彙頻率\n",
        "txt_freq <- freq(seg_words)"
      ],
      "execution_count": 71,
      "outputs": []
    },
    {
      "cell_type": "code",
      "metadata": {
        "id": "t-DCBVsLW2uA"
      },
      "source": [
        "#由大到小排列\n",
        "txt_freq <- arrange(txt_freq, desc(freq))"
      ],
      "execution_count": 72,
      "outputs": []
    },
    {
      "cell_type": "code",
      "metadata": {
        "colab": {
          "base_uri": "https://localhost:8080/",
          "height": 281
        },
        "id": "-7IhOXS5XGAR",
        "outputId": "40bcd6ea-de5e-48d5-b60b-94c81e669467"
      },
      "source": [
        "#檢查前五名\n",
        "head(txt_freq)"
      ],
      "execution_count": 73,
      "outputs": [
        {
          "output_type": "display_data",
          "data": {
            "text/plain": [
              "  char freq\n",
              "1 研究 18  \n",
              "2 新冠 15  \n",
              "3 患者 12  \n",
              "4 疾病 11  \n",
              "5 中風  8  \n",
              "6 人員  8  "
            ],
            "text/latex": "A data.frame: 6 × 2\n\\begin{tabular}{r|ll}\n  & char & freq\\\\\n  & <chr> & <dbl>\\\\\n\\hline\n\t1 & 研究 & 18\\\\\n\t2 & 新冠 & 15\\\\\n\t3 & 患者 & 12\\\\\n\t4 & 疾病 & 11\\\\\n\t5 & 中風 &  8\\\\\n\t6 & 人員 &  8\\\\\n\\end{tabular}\n",
            "text/markdown": "\nA data.frame: 6 × 2\n\n| <!--/--> | char &lt;chr&gt; | freq &lt;dbl&gt; |\n|---|---|---|\n| 1 | 研究 | 18 |\n| 2 | 新冠 | 15 |\n| 3 | 患者 | 12 |\n| 4 | 疾病 | 11 |\n| 5 | 中風 |  8 |\n| 6 | 人員 |  8 |\n\n",
            "text/html": [
              "<table class=\"dataframe\">\n",
              "<caption>A data.frame: 6 × 2</caption>\n",
              "<thead>\n",
              "\t<tr><th></th><th scope=col>char</th><th scope=col>freq</th></tr>\n",
              "\t<tr><th></th><th scope=col>&lt;chr&gt;</th><th scope=col>&lt;dbl&gt;</th></tr>\n",
              "</thead>\n",
              "<tbody>\n",
              "\t<tr><th scope=row>1</th><td>研究</td><td>18</td></tr>\n",
              "\t<tr><th scope=row>2</th><td>新冠</td><td>15</td></tr>\n",
              "\t<tr><th scope=row>3</th><td>患者</td><td>12</td></tr>\n",
              "\t<tr><th scope=row>4</th><td>疾病</td><td>11</td></tr>\n",
              "\t<tr><th scope=row>5</th><td>中風</td><td> 8</td></tr>\n",
              "\t<tr><th scope=row>6</th><td>人員</td><td> 8</td></tr>\n",
              "</tbody>\n",
              "</table>\n"
            ]
          },
          "metadata": {
            "tags": []
          }
        }
      ]
    },
    {
      "cell_type": "code",
      "metadata": {
        "id": "dOAwLqJjXWce"
      },
      "source": [
        "par(family=(\"Microsoft YaHei\"))#wordcloud需字體定義,不然會無法顯示中文"
      ],
      "execution_count": 74,
      "outputs": []
    },
    {
      "cell_type": "code",
      "metadata": {
        "colab": {
          "base_uri": "https://localhost:8080/",
          "height": 437
        },
        "id": "SKmCDiXKXs0O",
        "outputId": "abfeb41e-5105-4be0-87c0-7520c3da454d"
      },
      "source": [
        "wordcloud(txt_freq$char,txt_freq$freq, min.freq=2, random.order=F, ordered.colors=F, colors=rainbow(nrow(txt_freq)))"
      ],
      "execution_count": 75,
      "outputs": [
        {
          "output_type": "display_data",
          "data": {
            "image/png": "[encoded data removed]",
            "text/plain": [
              "plot without title"
            ]
          },
          "metadata": {
            "tags": [],
            "image/png": {
              "width": 420,
              "height": 420
            }
          }
        }
      ]
    },
    {
      "cell_type": "code",
      "metadata": {
        "colab": {
          "base_uri": "https://localhost:8080/"
        },
        "id": "MpKWP5zDaQbo",
        "outputId": "258880aa-7237-4292-ef1b-2c7802930d2d"
      },
      "source": [
        "install.packages(\"showtext\")"
      ],
      "execution_count": 34,
      "outputs": [
        {
          "output_type": "stream",
          "text": [
            "Installing package into ‘/usr/local/lib/R/site-library’\n",
            "(as ‘lib’ is unspecified)\n",
            "\n",
            "also installing the dependencies ‘sysfonts’, ‘showtextdb’\n",
            "\n",
            "\n"
          ],
          "name": "stderr"
        }
      ]
    },
    {
      "cell_type": "code",
      "metadata": {
        "colab": {
          "base_uri": "https://localhost:8080/"
        },
        "id": "AKkzZ7Qealk-",
        "outputId": "da9a6711-f7d1-43ee-967b-bfa56ca28cbb"
      },
      "source": [
        "library(showtext)"
      ],
      "execution_count": 35,
      "outputs": [
        {
          "output_type": "stream",
          "text": [
            "Loading required package: sysfonts\n",
            "\n",
            "Loading required package: showtextdb\n",
            "\n"
          ],
          "name": "stderr"
        }
      ]
    },
    {
      "cell_type": "code",
      "metadata": {
        "id": "KKiXPkEAarHL"
      },
      "source": [
        "showtext.auto(enable = TRUE)"
      ],
      "execution_count": 37,
      "outputs": []
    }
  ]
}